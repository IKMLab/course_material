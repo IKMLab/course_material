{
  "cells": [
    {
      "cell_type": "markdown",
      "metadata": {
        "id": "qY1lXPCAJg2E"
      },
      "source": [
        "# PEFT tutorial using Hugging Face\n",
        "## 教學目標\n",
        "利用 Hugging Face 套件快速使用 PEFT 來進行下游任務訓練\n",
        "- 單一句型分類任務 (single-sentence text classification)"
      ]
    },
    {
      "cell_type": "markdown",
      "metadata": {
        "id": "SNg9uH2-Jg2H"
      },
      "source": [
        "## 適用對象\n",
        "已經有基本的機器學習知識，且擁有 Python、`numpy`、`pandas`、`scikit-learn` 以及 `PyTorch` 基礎的學生。\n",
        "\n",
        "若沒有先學過 Python，請參考 [python-入門語法](./python-入門語法.ipynb) 教學。\n",
        "\n",
        "若沒有先學過 `pandas`，請參考 [pandas-基本功能](./pandas-基本功能.ipynb) 教學。\n",
        "\n",
        "若沒有先學過 `numpy`，請參考 [numpy-基本功能](./numpy-基本功能.ipynb) 教學。\n",
        "\n",
        "若沒有先學過 `scikit-learn`，請參考 [scikit-learn-基本功能](./scikit-learn-基本功能.ipynb) 教學。\n",
        "\n",
        "若沒有先學過  `PyTorch` ，請參考 [PyTorch-基本功能](./PyTorch-基本功能.ipynb) 教學。\n",
        "\n",
        "若沒有先學過如何使用 `PyTorch` 建立自然語言處理序列模型，請參考 [NN-中文文本分類](./NN-中文文本分類.ipynb) 教學。"
      ]
    },
    {
      "cell_type": "markdown",
      "metadata": {},
      "source": [
        "## PEFT 簡易介紹\n",
        "### 對大語言模型進行微調的挑戰\n",
        "- 大語言模型的通常是以大量的文本資料進行訓練，並且在多個任務上取得了驚人的表現。\n",
        "- 若我們想要將這些大語言模型應用在自己的任務上，通常需要進行微調。\n",
        "- 但是對於大語言模型進行微調是一個挑戰，因為這些模型通常有數十億甚至數百億的參數，並且需要大量的計算資源。\n",
        "- 這就是為什麼我們需要 PEFT 這個套件，它可以幫助我們快速的進行大語言模型的微調。\n",
        "![](https://i.imgur.com/q6u4GVJ.png)\n",
        "- 更多細節請參考 ([Peft github](https://github.com/huggingface/peft))"
      ]
    },
    {
      "cell_type": "markdown",
      "metadata": {
        "id": "7n0nQj0qJg2I"
      },
      "source": [
        "## PEFT 範例: LoRA\n",
        "![](https://i.imgur.com/GCsNYXF.png)\n",
        "- 請參考理論層面的詳細教學 ([影片連結](https://www.youtube.com/watch?v=dA-NhCtrrVE))\n",
        "- 也可以參考原始論文 ([論文連結](https://arxiv.org/abs/2106.09685))"
      ]
    },
    {
      "cell_type": "markdown",
      "metadata": {
        "id": "OT5oltZrJg2J"
      },
      "source": [
        "## Hugging Face 介紹\n",
        "- 🤗 Hugging Face 是專門提供自然語言處理領域的函式庫\n",
        "- 其函式庫支援 PyTorch 和 TensorFlow\n",
        "- 🤗 Hugging Face 的主要套件為:\n",
        "    1. Transformers ([連結](https://huggingface.co/transformers/index.html))\n",
        "    - 提供了現今最強大的自然語言處理模型，使用上非常彈性且方便\n",
        "    2. Tokenizers ([連結](https://huggingface.co/docs/tokenizers/python/latest/))\n",
        "    - 讓你可以快速做好 BERT 系列模型 tokenization\n",
        "    3. Datasets ([連結](https://huggingface.co/docs/datasets/))\n",
        "    - 提供多種自然語言處理任務的資料集"
      ]
    },
    {
      "cell_type": "code",
      "execution_count": null,
      "metadata": {
        "colab": {
          "base_uri": "https://localhost:8080/"
        },
        "id": "TUjyDQ-qJg2J",
        "outputId": "90b838b2-f0bb-4c14-fc20-1e92324695b2"
      },
      "outputs": [],
      "source": [
        "# 若沒有安裝 transformers 和 datasets 套件，請取消以下註解並執行\n",
        "!pip install transformers==4.38.0\n",
        "!pip install datasets\n",
        "!pip install torch==2.0.1+cu110\n",
        "!pip install peft"
      ]
    },
    {
      "cell_type": "code",
      "execution_count": null,
      "metadata": {},
      "outputs": [],
      "source": [
        "!git clone https://github.com/NVIDIA/apex\n",
        "%cd apex\n",
        "!pip install -r requirements.txt\n",
        "!pip install -v --disable-pip-version-check --no-cache-dir ./"
      ]
    },
    {
      "cell_type": "code",
      "execution_count": null,
      "metadata": {
        "colab": {
          "base_uri": "https://localhost:8080/"
        },
        "id": "Z3tiYaLoJg2K",
        "outputId": "f9bb0cf9-8aec-404a-9c29-2074542caeb6"
      },
      "outputs": [],
      "source": [
        "# 1. 確認所需套件的版本\n",
        "import torch\n",
        "print(\"PyTorch 的版本為: {}\".format(torch.__version__))\n",
        "\n",
        "import transformers\n",
        "print(\"Hugging Face Transformers 的版本為: {}\".format(transformers.__version__))\n",
        "\n",
        "import datasets\n",
        "print(\"Hugging Face Datasets 的版本為: {}\".format(datasets.__version__))\n",
        "\n",
        "import peft\n",
        "print(\"PEFT 的版本為: {}\".format(peft.__version__))"
      ]
    },
    {
      "cell_type": "code",
      "execution_count": null,
      "metadata": {
        "id": "s-JMEX4oJg2L"
      },
      "outputs": [],
      "source": [
        "# 2. 載入其他所需套件\n",
        "\n",
        "import os\n",
        "import json\n",
        "import numpy as np\n",
        "from pathlib import Path # (Python3.4+)"
      ]
    },
    {
      "cell_type": "code",
      "execution_count": null,
      "metadata": {},
      "outputs": [],
      "source": [
        "from peft import (\n",
        "    get_peft_config,\n",
        "    get_peft_model,\n",
        "    get_peft_model_state_dict,\n",
        "    set_peft_model_state_dict,\n",
        "    LoraConfig,\n",
        "    PeftType,\n",
        "    PrefixTuningConfig,\n",
        "    PromptEncoderConfig,\n",
        ")"
      ]
    },
    {
      "cell_type": "markdown",
      "metadata": {
        "id": "ZpZYuEYpJg2M"
      },
      "source": [
        "# 單一句型分類任務 (single-sentence text classification)\n",
        "## 準備資料集 (需先下載)\n",
        "我們使用 IMDb reviews 資料集作為範例"
      ]
    },
    {
      "cell_type": "code",
      "execution_count": null,
      "metadata": {
        "colab": {
          "base_uri": "https://localhost:8080/"
        },
        "id": "xyjqPyKuJg2M",
        "outputId": "f8473ca6-7e7a-4743-8593-dda8d27d338c"
      },
      "outputs": [],
      "source": [
        "# 若沒有安裝 wget 套件，請取消以下註解並執行\n",
        "!pip install wget"
      ]
    },
    {
      "cell_type": "code",
      "execution_count": null,
      "metadata": {
        "id": "-NyUXdw-Jg2M"
      },
      "outputs": [],
      "source": [
        "# 3. 下載 IMDb 資料集\n",
        "import wget\n",
        "url = 'http://ai.stanford.edu/~amaas/data/sentiment/aclImdb_v1.tar.gz'\n",
        "filename = wget.download(url, out='./')"
      ]
    },
    {
      "cell_type": "code",
      "execution_count": null,
      "metadata": {
        "id": "B9KNGJhfJg2M"
      },
      "outputs": [],
      "source": [
        "# 若沒有安裝 tarfile 套件，請取消以下註解並執行\n",
        "# !pip install tarfile"
      ]
    },
    {
      "cell_type": "code",
      "execution_count": null,
      "metadata": {
        "id": "Be-MEg3mJg2M"
      },
      "outputs": [],
      "source": [
        "# 4. 解壓縮 IMDb 資料集\n",
        "\n",
        "import tarfile\n",
        "\n",
        "# 指定檔案位置，並解壓縮 .gz 結尾的壓縮檔\n",
        "tar = tarfile.open('aclImdb_v1.tar.gz', 'r:gz')\n",
        "tar.extractall()"
      ]
    },
    {
      "cell_type": "markdown",
      "metadata": {
        "id": "je_x5Wa-Jg2N"
      },
      "source": [
        "## 接下來我們要進行資料前處理\n",
        "但首先要觀察解壓縮後的資料夾結構:\n",
        "```\n",
        "aclImdb---\n",
        "        |--train\n",
        "        |    |--neg\n",
        "        |    |--pos\n",
        "        |    |--...\n",
        "        |--test\n",
        "        |    |--neg\n",
        "        |    |--pos\n",
        "        |    |--...\n",
        "        |--imdb.vocab\n",
        "        |--imdbEr.text\n",
        "        |--README\n",
        "```\n",
        "其中 train 和 test 資料夾中分別又有 neg 和 pos 兩種資料夾\n",
        "\n",
        "我們要針對這兩個目標資料夾進行處理"
      ]
    },
    {
      "cell_type": "code",
      "execution_count": null,
      "metadata": {
        "id": "nPGum-cuJg2N"
      },
      "outputs": [],
      "source": [
        "# 5. 前處理 IMDb 資料 (定義 function)\n",
        "def read_imdb_split(split_dir):\n",
        "    \"\"\"針對 IMDb 資料集進行讀檔及正負向歸類\n",
        "    Args:\n",
        "        - split_dir: IMDb 資料集的資料夾路徑\n",
        "    Return:\n",
        "        - texts: 資料集的語句部分\n",
        "        - labels: 資料集的標籤部分\n",
        "    \"\"\"\n",
        "    split_dir = Path(split_dir)\n",
        "    texts = []\n",
        "    labels = []\n",
        "    for label_dir in [\"pos\", \"neg\"]:\n",
        "        # 利用iterdir() 來列出資料夾底下的所有檔案，此功能等同於 os.path.listdir()\n",
        "        # 使用 glob 的語法分取得副檔名為 .txt 的檔案\n",
        "        for text_file in (split_dir/label_dir).glob(\"*.txt\"):\n",
        "            # read_text() 是 Pathlib的好用功能\n",
        "            tmp_text = text_file.read_text()\n",
        "            # 將讀到的文字 append 到我們事先定義的 list 中\n",
        "            texts.append(tmp_text)\n",
        "            # 將資料夾標籤作為 label，並 append 到我們事先定義的 list 中\n",
        "            labels.append(0 if label_dir == \"neg\" else 1)\n",
        "\n",
        "    return texts, labels"
      ]
    },
    {
      "cell_type": "code",
      "execution_count": null,
      "metadata": {
        "id": "yaFWBwWTJg2N"
      },
      "outputs": [],
      "source": [
        "# 6. 前處理 IMDb 資料 (執行)\n",
        "\n",
        "train_texts, train_labels = read_imdb_split('aclImdb/train')\n",
        "test_texts, test_labels = read_imdb_split('aclImdb/test')"
      ]
    },
    {
      "cell_type": "markdown",
      "metadata": {
        "id": "LR_fGzKyJg2N"
      },
      "source": [
        "### 切分訓練資料，來分出 validation set"
      ]
    },
    {
      "cell_type": "code",
      "execution_count": null,
      "metadata": {
        "id": "Ikvd4SfUJg2N"
      },
      "outputs": [],
      "source": [
        "# 7. 使用 train_test_split 來切出 validation set\n",
        "\n",
        "from sklearn.model_selection import train_test_split\n",
        "\n",
        "# 設立隨機種子來控制隨機過程\n",
        "random_seed = 42\n",
        "\n",
        "# 設定要分出多少比例的 validation data\n",
        "valid_ratio = 0.2\n",
        "\n",
        "# 使用 train_test_split 來切分資料\n",
        "train_texts, val_texts, train_labels, val_labels = train_test_split(\n",
        "    train_texts,\n",
        "    train_labels,\n",
        "    test_size=valid_ratio,\n",
        "    random_state=random_seed\n",
        ")"
      ]
    },
    {
      "cell_type": "markdown",
      "metadata": {
        "id": "dW2UFRcGJg2N"
      },
      "source": [
        "## Hugging Face AutoTokenizer\n",
        "- 使用 AutoTokenizer 搭配 Hugging Face models 的名稱可以直接呼叫使用\n",
        "- 舉例:\n",
        "    - transformers.AutoTokenizer.from_pretrained('roberta-base')\n",
        "- [點這裡來查看 Hugging Face models 的名稱](https://huggingface.co/transformers/pretrained_models.html)"
      ]
    },
    {
      "cell_type": "code",
      "execution_count": null,
      "metadata": {
        "colab": {
          "base_uri": "https://localhost:8080/"
        },
        "id": "smRMfe1RJg2N",
        "outputId": "216957f3-89c2-45cd-f463-560ddf7c20ce"
      },
      "outputs": [],
      "source": [
        "# 8. 載入 tokenizer\n",
        "\n",
        "# 在 Hugging Face 套件中可使用 .from_pretrained() 的方法來導入預訓練模型\n",
        "tokenizer = transformers.AutoTokenizer.from_pretrained('roberta-base')"
      ]
    },
    {
      "cell_type": "code",
      "execution_count": null,
      "metadata": {
        "id": "9wB1drpFJg2N"
      },
      "outputs": [],
      "source": [
        "# 9. 分別將3種資料 (train/valid/test) 做 tokenization\n",
        "# truncation 代表依照 max_length 進行序列長度的裁切\n",
        "# max_length 可以在 tokenizer 的 parameters 中進行設定\n",
        "# 如果沒有指定 max_length，則依照所使用的模型的序列最大長度\n",
        "# padding 為 True 表示會將序列長度補齊至該 batch 的最大長度 (欲知詳情請查看 source code)\n",
        "\n",
        "train_encodings = tokenizer(train_texts, truncation=True, padding=True)\n",
        "val_encodings = tokenizer(val_texts, truncation=True, padding=True)\n",
        "test_encodings = tokenizer(test_texts, truncation=True, padding=True)"
      ]
    },
    {
      "cell_type": "code",
      "execution_count": null,
      "metadata": {
        "colab": {
          "base_uri": "https://localhost:8080/"
        },
        "id": "VDGsIlStJg2O",
        "outputId": "80f30607-bf84-4b7e-a03c-f9b932d1cec3"
      },
      "outputs": [],
      "source": [
        "# 10. 查看 max_length\n",
        "\n",
        "tokenizer.model_max_length"
      ]
    },
    {
      "cell_type": "markdown",
      "metadata": {
        "id": "hfGCHkFpJg2O"
      },
      "source": [
        "### 檢查 tokenization 後的結果\n",
        "- 使用 Hugging Face tokenizer 進行 tokenization 後的結果是一個 dict\n",
        "- 這個 dict 的 keys 包含 'input_ids' 和 'attention_mask'\n",
        "- input_ids: 原本句子中的每個字詞被斷詞後轉換成字典的 ID\n",
        "    - 注意!! tokenizer 小小的動作已經幫你完成了斷詞和 word to ID 的轉換\n",
        "- attention_mask: tokenization 後句子中包含文字的部分為 1，padding 的部分為 0\n",
        "    - 可以想像成模型需要把注意力放在有文字的位置"
      ]
    },
    {
      "cell_type": "code",
      "execution_count": null,
      "metadata": {
        "colab": {
          "base_uri": "https://localhost:8080/"
        },
        "id": "9Bm0BoZIJg2O",
        "outputId": "7e369d20-b58e-4d47-d120-6fab036e9e4a"
      },
      "outputs": [],
      "source": [
        "# 12. 檢查 tokenization 後的結果\n",
        "\n",
        "print(val_encodings.keys())\n",
        "print(val_encodings.input_ids[0])\n",
        "print(val_encodings.attention_mask[0])"
      ]
    },
    {
      "cell_type": "code",
      "execution_count": null,
      "metadata": {
        "id": "hlrnqw9xJg2O"
      },
      "outputs": [],
      "source": [
        "# 13. 透過 PyTorch Dataset 來建立能夠進行方便資料存取的格式\n",
        "\n",
        "class IMDbDataset(torch.utils.data.Dataset):\n",
        "    def __init__(self, encodings, labels):\n",
        "        # Dataset class 的 parameters 放入我們 tokenization 後的資料以及資料的標籤\n",
        "        self.encodings = encodings\n",
        "        self.labels = labels\n",
        "\n",
        "    def __getitem__(self, idx):\n",
        "        # 請注意 tokenization 後的資料是一個 dict\n",
        "        # 在此步驟將資料以及標籤都轉換為 PyTorch 的 tensors\n",
        "        item = {key: torch.tensor(val[idx]) for key, val in self.encodings.items()}\n",
        "        item['labels'] = torch.tensor(self.labels[idx])\n",
        "\n",
        "        return item\n",
        "\n",
        "    def __len__(self):\n",
        "        # 回傳資料集的總數\n",
        "        return len(self.labels)\n",
        "\n",
        "train_dataset = IMDbDataset(train_encodings, train_labels)\n",
        "val_dataset = IMDbDataset(val_encodings, val_labels)\n",
        "test_dataset = IMDbDataset(test_encodings, test_labels)"
      ]
    },
    {
      "cell_type": "markdown",
      "metadata": {
        "id": "rlHobatFJg2O"
      },
      "source": [
        "### 除了自己處理資料，你還可以使用 Hugging Face Datasets\n",
        "- Hugging Face Datasets 已經幫你收錄了自然語言處理領域常見的資料集\n",
        "- 直接呼叫 Datasets 並搭配下面幾個 cells 的語法，可省下不少時間\n",
        "- 但前提是你要進行的任務資料集有被收錄在 Hugging Face Datasets"
      ]
    },
    {
      "cell_type": "code",
      "execution_count": null,
      "metadata": {
        "colab": {
          "base_uri": "https://localhost:8080/"
        },
        "id": "jFAC_YrZJg2O",
        "outputId": "732e4859-c092-488e-db9d-cd16cd160e87"
      },
      "outputs": [],
      "source": [
        "# 14. 查看 Hugging Face Datasets 的資訊\n",
        "\n",
        "datasets_list = datasets.list_datasets()\n",
        "\n",
        "print(\"現在 Hugging Face Datasets 有 {} 個資料集可以使用\".format(len(datasets_list)))\n",
        "print(\"===============================================\")\n",
        "# print(\"所有的資料集如下: \")\n",
        "# print(', '.join(dataset for dataset in datasets_list))"
      ]
    },
    {
      "cell_type": "code",
      "execution_count": null,
      "metadata": {
        "id": "o5nX6CEYJg2O"
      },
      "outputs": [],
      "source": [
        "# 15. 從 Hugging Face Datasets 載入資料並做資料切分\n",
        "\n",
        "# 載入 IMDb 的訓練資料集\n",
        "train = datasets.load_dataset(\"imdb\", split=\"train\")\n",
        "\n",
        "# 設立隨機種子來控制隨機過程\n",
        "random_seed = 42\n",
        "# 從 IMDb 的訓練資料集中切分出驗證資料集\n",
        "splits = train.train_test_split(\n",
        "    test_size=0.2,\n",
        "    seed=random_seed\n",
        ")\n",
        "train, valid = splits['train'], splits['test']\n",
        "\n",
        "# 載入 IMDb 的測試資料集\n",
        "test = datasets.load_dataset(\"imdb\", split=\"test\")"
      ]
    },
    {
      "cell_type": "code",
      "execution_count": null,
      "metadata": {
        "colab": {
          "base_uri": "https://localhost:8080/"
        },
        "id": "TU4Zkxx2Jg2O",
        "outputId": "48fe75f5-70f8-4eb1-8765-a245d39de219"
      },
      "outputs": [],
      "source": [
        "print(len(train))\n",
        "print(len(valid))\n",
        "print(len(test))"
      ]
    },
    {
      "cell_type": "code",
      "execution_count": null,
      "metadata": {
        "colab": {
          "base_uri": "https://localhost:8080/",
          "height": 113,
          "referenced_widgets": [
            "08040ed6406841cdb419bc520c27b0aa",
            "d92e9c53c0cc4b38afefb821b615b01c",
            "08319e9ed1b9480baae1a5d697b8cc10",
            "b86ee9c64f494d7bbefab8b86bc84da3",
            "3938d967b7414535ba6b5011dc56470f",
            "1dfed01ed6bf4f04994cf26f439380f7",
            "23697ab45e464e31bbf0f7e3883dce11",
            "bcdeab999f3b48a9aae8c12420b2bfcb",
            "daaf705153f7406682246dfe5d7321f7",
            "409db3f8a55a4cd28696e66074773aab",
            "f36b9796a29f45d980986087aeb79d42",
            "3a5a32b8db02492abf45cc1a5c111d7c",
            "608e362d2f92485a97e3556fd370957b",
            "ec632d4d34544dd989df07c1c26f2467",
            "00dee68c6ffd43a4b5cf30f09d71bcb0",
            "0ea9133bf4664aee8c6dd74eda254cc5",
            "fae4e545f58e4ca9aa1f49bad91a36d4",
            "fece13fdff59433ebbb3a35320574e5f",
            "87a9ce7ed8fa43988c59bb3d9ced637b",
            "4938681ec83a4338a20288242b762122",
            "f06d935a23144d0eba94969c6ea91cbb",
            "8e95a576f3d34366beb19b5bde93dc5b",
            "b9548eee1f3c45f3b49865e4a625d00f",
            "3299d0d455874ab38b7f3545d9c73e79",
            "7a142a6dd37b46daa64feff35f4168c6",
            "f5de6cf424a54676bb153afa6cfe96a4",
            "1ec526cda13940a6b77fdd623b69f1f7",
            "339e040e2baf4dcf900b6d76abeb2c14",
            "02168fc723b143849b7d8488d4b73997",
            "1fe8a068cd744e8ca846095190e977dc",
            "6df9c93e3e6e4f94b48b1f2df6b350c3",
            "a0bb14037015498794f441bcbac020da",
            "620d401375d7406e8922d7c51246bd31"
          ]
        },
        "id": "mOT5JmqFJg2O",
        "outputId": "6b1b8a2b-6592-4604-b99b-79d6b1ab5451"
      },
      "outputs": [],
      "source": [
        "# 16. 將 Hugging Face Datasets 轉為 PyTorch Dataset 的封裝\n",
        "\n",
        "def to_torch_data(hug_dataset):\n",
        "    \"\"\"將 Hugging Face Datasets 轉為 PyTorch Dataset\n",
        "    Args:\n",
        "        - hug_dataset: 從 Datasets 載入的資料集\n",
        "    Return:\n",
        "        - dataset: 已轉為 PyTorch Dataset 的資料集\n",
        "    \"\"\"\n",
        "    dataset = hug_dataset.map(\n",
        "        lambda batch: tokenizer(\n",
        "            batch[\"text\"],\n",
        "            truncation=True,\n",
        "            padding=True\n",
        "        ),\n",
        "        batched=True\n",
        "    )\n",
        "    dataset.set_format(\n",
        "        type='torch',\n",
        "        columns=[\n",
        "            'input_ids',\n",
        "            'attention_mask',\n",
        "            'label'\n",
        "        ]\n",
        "    )\n",
        "    return dataset\n",
        "\n",
        "train_dataset = to_torch_data(train)\n",
        "val_dataset = to_torch_data(valid)\n",
        "test_dataset = to_torch_data(test)"
      ]
    },
    {
      "cell_type": "markdown",
      "metadata": {
        "id": "7MF4ZQrNJg2O"
      },
      "source": [
        "## 使用 Hugging Face 的模型\n",
        "- 在這個 API 盛行的世代，總是有人幫你設想周到\n",
        "- [Hugging Face 的模型頁面連結](https://huggingface.co/models)\n",
        "- 以 Roberta 為例，只要透過 AutoModel.from_pretrained(\"roberta-base\")，就可以直接使用 RobertaModel\n",
        "- 需要注意的是接下來你要做怎樣的下游任務訓練\n",
        "- 同樣以 Roberta 為例，在原始論文中 Roberta 進行過以下的任務:\n",
        "    - Sentence pair classification: MNLI/QQP/QNLI/MRPC/RTE/WNLI\n",
        "        - 對應 `RobertaForSequenceClassification`\n",
        "        - 使用雙句結合，並以分類的方式進行訓練\n",
        "    - Semantic textual similarity: STS-B\n",
        "        - `RobertaForSequenceClassification`\n",
        "        - 使用雙句結合，並以迴歸的方式進行訓練\n",
        "    - Single sentence classification: SST-2/CoLA\n",
        "        - 對應 `RobertaForSequenceClassification`\n",
        "        - 使用單句，並以迴歸的方式進行訓練\n",
        "    - Question answering: SQuAD v1.1/v2.0\n",
        "        - 對應 `RobertaForQuestionAnswering`\n",
        "        - 使用雙句(問題+原文)，並透過答案在原文中的位置進行訓練\n",
        "    - Named-entity recognition (slot filling): CoNLL-2003\n",
        "        - 對應 `RobertaForTokenClassification`\n",
        "        - 使用單句，並以分類的方式進行訓練\n",
        "- 如果要進行的下游任務訓練不在 Hugging Face 已經建好的模型範圍，那就需要自己寫一個 model class:\n",
        "    1. 繼承 torch.nn.Module\n",
        "    2. 利用 super 來繼承所有親屬類別的實體屬性\n",
        "    3. 定義欲使用的 pre-trained model\n",
        "    4. 定義會使用到的層如 linear 或 Dropout 等\n",
        "    5. 設計 forward function 並且設定下游任務的輸出"
      ]
    },
    {
      "cell_type": "code",
      "execution_count": null,
      "metadata": {
        "colab": {
          "base_uri": "https://localhost:8080/"
        },
        "id": "XeyIxdSsJg2O",
        "outputId": "63419204-c958-4b19-f74a-4958d0d193d0"
      },
      "outputs": [],
      "source": [
        "# 17.\n",
        "# 利用 AutoModel 呼叫模型\n",
        "model = transformers.AutoModelForSequenceClassification.from_pretrained(\"roberta-base\")"
      ]
    },
    {
      "cell_type": "markdown",
      "metadata": {
        "id": "2sFWgVD0Jg2P"
      },
      "source": [
        "## 進行模型的訓練\n",
        "### 使用 Hugging Face Trainer ([Documentation](https://huggingface.co/transformers/main_classes/trainer.html))\n",
        "- Trainer 是 Hugging Face 中高度封裝的套件之一，負責模型訓練時期的\"流程\"\n",
        "- 過去我們自行寫訓練流程的程式碼可以交給 Trainer\n",
        "- Trainer 需要搭配使用 [TrainingArguments](https://huggingface.co/transformers/main_classes/trainer.html#transformers.TrainingArguments)\n",
        "    - TrainingArguments 是 Trainer 所需要的引數"
      ]
    },
    {
      "cell_type": "code",
      "execution_count": null,
      "metadata": {
        "id": "vnSXEyE3Jg2P"
      },
      "outputs": [],
      "source": [
        "# print(train_dataset[0])"
      ]
    },
    {
      "cell_type": "code",
      "execution_count": null,
      "metadata": {
        "id": "KZgSNytdJg2P"
      },
      "outputs": [],
      "source": [
        "# 18. 建立自定的評估的指標 (定義 function)\n",
        "# 將作為 transformers.Trainer 的 parameters 之一\n",
        "\n",
        "# Scikit-learn 的 precision_recall_fscore_support 套件可以一次計算 F1 score, precision, 和 recall\n",
        "from sklearn.metrics import accuracy_score, precision_recall_fscore_support\n",
        "\n",
        "def compute_metrics(pred):\n",
        "    labels = pred.label_ids\n",
        "    preds = np.argmax(pred.predictions, axis=1)\n",
        "    precision, recall, f1, _ = precision_recall_fscore_support(labels, preds, average='binary')\n",
        "    acc = accuracy_score(labels, preds)\n",
        "    return {\n",
        "        'accuracy': acc,\n",
        "        'f1': f1,\n",
        "        'precision': precision,\n",
        "        'recall': recall\n",
        "    }"
      ]
    },
    {
      "cell_type": "code",
      "execution_count": null,
      "metadata": {
        "colab": {
          "base_uri": "https://localhost:8080/",
          "height": 131
        },
        "id": "wHfKgmDjJg2U",
        "outputId": "8a01ba35-e9ea-4db1-aceb-1e71b633022c"
      },
      "outputs": [],
      "source": [
        "# 19. 訓練模型\n",
        "\n",
        "# 設定 TrainingArguments\n",
        "training_args = transformers.TrainingArguments(\n",
        "    output_dir='./results',          # 輸出的資料夾\n",
        "    num_train_epochs=3,              # 總共訓練的 epoch 數目\n",
        "    learning_rate=2e-5,              # 學習率\n",
        "    per_device_train_batch_size=16,  # 訓練模型時每個裝置的 batch size\n",
        "    per_device_eval_batch_size=64,   # 驗證模型時每個裝置的 batch size\n",
        "    gradient_accumulation_steps=2,   # 梯度累積的步數\n",
        "    warmup_steps=500,                # learning rate scheduler 的參數\n",
        "    weight_decay=0.01,               # 最佳化演算法 (optimizer) 中的權重衰退率\n",
        "    evaluation_strategy='steps',     # 設定驗證的時機\n",
        "    save_strategy='steps',           # 設定儲存的時機\n",
        "    save_steps=500,                  # 設定多少步驟儲存一次模型\n",
        "    eval_steps=500,                  # 設定多少步驟驗證一次模型\n",
        "    report_to='tensorboard',         # 是否將訓練結果儲存到 TensorBoard\n",
        "    save_total_limit=10,              # 最多儲存幾個模型\n",
        "    logging_dir='./logs',            # 存放 log 的資料夾\n",
        "    logging_steps=10,\n",
        "    seed=random_seed,\n",
        ")\n",
        "peft_config = LoraConfig(\n",
        "      lora_alpha=8,               # Lora alpha\n",
        "      lora_dropout=0.1,           # Lora dropout\n",
        "      r=16,                       # Lora r                           \n",
        ")\n",
        "model = get_peft_model(model, peft_config)\n",
        "model.print_trainable_parameters()"
      ]
    },
    {
      "cell_type": "code",
      "execution_count": null,
      "metadata": {},
      "outputs": [],
      "source": [
        "trainer = transformers.Trainer(\n",
        "    model=model,                         # 🤗 的模型\n",
        "    args=training_args,                  # Trainer 所需要的引數\n",
        "    train_dataset=train_dataset,         # 訓練集 (注意是 PyTorch Dataset)\n",
        "    eval_dataset=val_dataset,            # 驗證集 (注意是 PyTorch Dataset)，可使 Trainer 在進行訓練時也進行驗證\n",
        "    compute_metrics=compute_metrics,     # 自定的評估的指標\n",
        ")\n",
        "\n",
        "# 指定使用 1 個 GPU 進行訓練\n",
        "trainer.args._n_gpu=1\n",
        "\n",
        "# 開始進行模型訓練\n",
        "trainer.train()"
      ]
    },
    {
      "cell_type": "code",
      "execution_count": null,
      "metadata": {
        "id": "c_kNcENTJg2U"
      },
      "outputs": [],
      "source": [
        "# 21. 測試模型\n",
        "\n",
        "trainer.predict(test_dataset)"
      ]
    }
  ],
  "metadata": {
    "accelerator": "GPU",
    "colab": {
      "gpuType": "T4",
      "provenance": []
    },
    "gpuClass": "standard",
    "kernelspec": {
      "display_name": "Python 3",
      "language": "python",
      "name": "python3"
    },
    "language_info": {
      "codemirror_mode": {
        "name": "ipython",
        "version": 3
      },
      "file_extension": ".py",
      "mimetype": "text/x-python",
      "name": "python",
      "nbconvert_exporter": "python",
      "pygments_lexer": "ipython3",
      "version": "3.10.14"
    },
    "widgets": {
      "application/vnd.jupyter.widget-state+json": {
        "00dee68c6ffd43a4b5cf30f09d71bcb0": {
          "model_module": "@jupyter-widgets/controls",
          "model_module_version": "1.5.0",
          "model_name": "HTMLModel",
          "state": {
            "_dom_classes": [],
            "_model_module": "@jupyter-widgets/controls",
            "_model_module_version": "1.5.0",
            "_model_name": "HTMLModel",
            "_view_count": null,
            "_view_module": "@jupyter-widgets/controls",
            "_view_module_version": "1.5.0",
            "_view_name": "HTMLView",
            "description": "",
            "description_tooltip": null,
            "layout": "IPY_MODEL_f06d935a23144d0eba94969c6ea91cbb",
            "placeholder": "​",
            "style": "IPY_MODEL_8e95a576f3d34366beb19b5bde93dc5b",
            "value": " 5000/5000 [00:07&lt;00:00, 657.65 examples/s]"
          }
        },
        "02168fc723b143849b7d8488d4b73997": {
          "model_module": "@jupyter-widgets/controls",
          "model_module_version": "1.5.0",
          "model_name": "DescriptionStyleModel",
          "state": {
            "_model_module": "@jupyter-widgets/controls",
            "_model_module_version": "1.5.0",
            "_model_name": "DescriptionStyleModel",
            "_view_count": null,
            "_view_module": "@jupyter-widgets/base",
            "_view_module_version": "1.2.0",
            "_view_name": "StyleView",
            "description_width": ""
          }
        },
        "08040ed6406841cdb419bc520c27b0aa": {
          "model_module": "@jupyter-widgets/controls",
          "model_module_version": "1.5.0",
          "model_name": "HBoxModel",
          "state": {
            "_dom_classes": [],
            "_model_module": "@jupyter-widgets/controls",
            "_model_module_version": "1.5.0",
            "_model_name": "HBoxModel",
            "_view_count": null,
            "_view_module": "@jupyter-widgets/controls",
            "_view_module_version": "1.5.0",
            "_view_name": "HBoxView",
            "box_style": "",
            "children": [
              "IPY_MODEL_d92e9c53c0cc4b38afefb821b615b01c",
              "IPY_MODEL_08319e9ed1b9480baae1a5d697b8cc10",
              "IPY_MODEL_b86ee9c64f494d7bbefab8b86bc84da3"
            ],
            "layout": "IPY_MODEL_3938d967b7414535ba6b5011dc56470f"
          }
        },
        "08319e9ed1b9480baae1a5d697b8cc10": {
          "model_module": "@jupyter-widgets/controls",
          "model_module_version": "1.5.0",
          "model_name": "FloatProgressModel",
          "state": {
            "_dom_classes": [],
            "_model_module": "@jupyter-widgets/controls",
            "_model_module_version": "1.5.0",
            "_model_name": "FloatProgressModel",
            "_view_count": null,
            "_view_module": "@jupyter-widgets/controls",
            "_view_module_version": "1.5.0",
            "_view_name": "ProgressView",
            "bar_style": "success",
            "description": "",
            "description_tooltip": null,
            "layout": "IPY_MODEL_bcdeab999f3b48a9aae8c12420b2bfcb",
            "max": 20000,
            "min": 0,
            "orientation": "horizontal",
            "style": "IPY_MODEL_daaf705153f7406682246dfe5d7321f7",
            "value": 20000
          }
        },
        "0ea9133bf4664aee8c6dd74eda254cc5": {
          "model_module": "@jupyter-widgets/base",
          "model_module_version": "1.2.0",
          "model_name": "LayoutModel",
          "state": {
            "_model_module": "@jupyter-widgets/base",
            "_model_module_version": "1.2.0",
            "_model_name": "LayoutModel",
            "_view_count": null,
            "_view_module": "@jupyter-widgets/base",
            "_view_module_version": "1.2.0",
            "_view_name": "LayoutView",
            "align_content": null,
            "align_items": null,
            "align_self": null,
            "border": null,
            "bottom": null,
            "display": null,
            "flex": null,
            "flex_flow": null,
            "grid_area": null,
            "grid_auto_columns": null,
            "grid_auto_flow": null,
            "grid_auto_rows": null,
            "grid_column": null,
            "grid_gap": null,
            "grid_row": null,
            "grid_template_areas": null,
            "grid_template_columns": null,
            "grid_template_rows": null,
            "height": null,
            "justify_content": null,
            "justify_items": null,
            "left": null,
            "margin": null,
            "max_height": null,
            "max_width": null,
            "min_height": null,
            "min_width": null,
            "object_fit": null,
            "object_position": null,
            "order": null,
            "overflow": null,
            "overflow_x": null,
            "overflow_y": null,
            "padding": null,
            "right": null,
            "top": null,
            "visibility": null,
            "width": null
          }
        },
        "1dfed01ed6bf4f04994cf26f439380f7": {
          "model_module": "@jupyter-widgets/base",
          "model_module_version": "1.2.0",
          "model_name": "LayoutModel",
          "state": {
            "_model_module": "@jupyter-widgets/base",
            "_model_module_version": "1.2.0",
            "_model_name": "LayoutModel",
            "_view_count": null,
            "_view_module": "@jupyter-widgets/base",
            "_view_module_version": "1.2.0",
            "_view_name": "LayoutView",
            "align_content": null,
            "align_items": null,
            "align_self": null,
            "border": null,
            "bottom": null,
            "display": null,
            "flex": null,
            "flex_flow": null,
            "grid_area": null,
            "grid_auto_columns": null,
            "grid_auto_flow": null,
            "grid_auto_rows": null,
            "grid_column": null,
            "grid_gap": null,
            "grid_row": null,
            "grid_template_areas": null,
            "grid_template_columns": null,
            "grid_template_rows": null,
            "height": null,
            "justify_content": null,
            "justify_items": null,
            "left": null,
            "margin": null,
            "max_height": null,
            "max_width": null,
            "min_height": null,
            "min_width": null,
            "object_fit": null,
            "object_position": null,
            "order": null,
            "overflow": null,
            "overflow_x": null,
            "overflow_y": null,
            "padding": null,
            "right": null,
            "top": null,
            "visibility": null,
            "width": null
          }
        },
        "1ec526cda13940a6b77fdd623b69f1f7": {
          "model_module": "@jupyter-widgets/base",
          "model_module_version": "1.2.0",
          "model_name": "LayoutModel",
          "state": {
            "_model_module": "@jupyter-widgets/base",
            "_model_module_version": "1.2.0",
            "_model_name": "LayoutModel",
            "_view_count": null,
            "_view_module": "@jupyter-widgets/base",
            "_view_module_version": "1.2.0",
            "_view_name": "LayoutView",
            "align_content": null,
            "align_items": null,
            "align_self": null,
            "border": null,
            "bottom": null,
            "display": null,
            "flex": null,
            "flex_flow": null,
            "grid_area": null,
            "grid_auto_columns": null,
            "grid_auto_flow": null,
            "grid_auto_rows": null,
            "grid_column": null,
            "grid_gap": null,
            "grid_row": null,
            "grid_template_areas": null,
            "grid_template_columns": null,
            "grid_template_rows": null,
            "height": null,
            "justify_content": null,
            "justify_items": null,
            "left": null,
            "margin": null,
            "max_height": null,
            "max_width": null,
            "min_height": null,
            "min_width": null,
            "object_fit": null,
            "object_position": null,
            "order": null,
            "overflow": null,
            "overflow_x": null,
            "overflow_y": null,
            "padding": null,
            "right": null,
            "top": null,
            "visibility": null,
            "width": null
          }
        },
        "1fe8a068cd744e8ca846095190e977dc": {
          "model_module": "@jupyter-widgets/base",
          "model_module_version": "1.2.0",
          "model_name": "LayoutModel",
          "state": {
            "_model_module": "@jupyter-widgets/base",
            "_model_module_version": "1.2.0",
            "_model_name": "LayoutModel",
            "_view_count": null,
            "_view_module": "@jupyter-widgets/base",
            "_view_module_version": "1.2.0",
            "_view_name": "LayoutView",
            "align_content": null,
            "align_items": null,
            "align_self": null,
            "border": null,
            "bottom": null,
            "display": null,
            "flex": null,
            "flex_flow": null,
            "grid_area": null,
            "grid_auto_columns": null,
            "grid_auto_flow": null,
            "grid_auto_rows": null,
            "grid_column": null,
            "grid_gap": null,
            "grid_row": null,
            "grid_template_areas": null,
            "grid_template_columns": null,
            "grid_template_rows": null,
            "height": null,
            "justify_content": null,
            "justify_items": null,
            "left": null,
            "margin": null,
            "max_height": null,
            "max_width": null,
            "min_height": null,
            "min_width": null,
            "object_fit": null,
            "object_position": null,
            "order": null,
            "overflow": null,
            "overflow_x": null,
            "overflow_y": null,
            "padding": null,
            "right": null,
            "top": null,
            "visibility": null,
            "width": null
          }
        },
        "23697ab45e464e31bbf0f7e3883dce11": {
          "model_module": "@jupyter-widgets/controls",
          "model_module_version": "1.5.0",
          "model_name": "DescriptionStyleModel",
          "state": {
            "_model_module": "@jupyter-widgets/controls",
            "_model_module_version": "1.5.0",
            "_model_name": "DescriptionStyleModel",
            "_view_count": null,
            "_view_module": "@jupyter-widgets/base",
            "_view_module_version": "1.2.0",
            "_view_name": "StyleView",
            "description_width": ""
          }
        },
        "3299d0d455874ab38b7f3545d9c73e79": {
          "model_module": "@jupyter-widgets/controls",
          "model_module_version": "1.5.0",
          "model_name": "HTMLModel",
          "state": {
            "_dom_classes": [],
            "_model_module": "@jupyter-widgets/controls",
            "_model_module_version": "1.5.0",
            "_model_name": "HTMLModel",
            "_view_count": null,
            "_view_module": "@jupyter-widgets/controls",
            "_view_module_version": "1.5.0",
            "_view_name": "HTMLView",
            "description": "",
            "description_tooltip": null,
            "layout": "IPY_MODEL_339e040e2baf4dcf900b6d76abeb2c14",
            "placeholder": "​",
            "style": "IPY_MODEL_02168fc723b143849b7d8488d4b73997",
            "value": "Map: 100%"
          }
        },
        "339e040e2baf4dcf900b6d76abeb2c14": {
          "model_module": "@jupyter-widgets/base",
          "model_module_version": "1.2.0",
          "model_name": "LayoutModel",
          "state": {
            "_model_module": "@jupyter-widgets/base",
            "_model_module_version": "1.2.0",
            "_model_name": "LayoutModel",
            "_view_count": null,
            "_view_module": "@jupyter-widgets/base",
            "_view_module_version": "1.2.0",
            "_view_name": "LayoutView",
            "align_content": null,
            "align_items": null,
            "align_self": null,
            "border": null,
            "bottom": null,
            "display": null,
            "flex": null,
            "flex_flow": null,
            "grid_area": null,
            "grid_auto_columns": null,
            "grid_auto_flow": null,
            "grid_auto_rows": null,
            "grid_column": null,
            "grid_gap": null,
            "grid_row": null,
            "grid_template_areas": null,
            "grid_template_columns": null,
            "grid_template_rows": null,
            "height": null,
            "justify_content": null,
            "justify_items": null,
            "left": null,
            "margin": null,
            "max_height": null,
            "max_width": null,
            "min_height": null,
            "min_width": null,
            "object_fit": null,
            "object_position": null,
            "order": null,
            "overflow": null,
            "overflow_x": null,
            "overflow_y": null,
            "padding": null,
            "right": null,
            "top": null,
            "visibility": null,
            "width": null
          }
        },
        "3938d967b7414535ba6b5011dc56470f": {
          "model_module": "@jupyter-widgets/base",
          "model_module_version": "1.2.0",
          "model_name": "LayoutModel",
          "state": {
            "_model_module": "@jupyter-widgets/base",
            "_model_module_version": "1.2.0",
            "_model_name": "LayoutModel",
            "_view_count": null,
            "_view_module": "@jupyter-widgets/base",
            "_view_module_version": "1.2.0",
            "_view_name": "LayoutView",
            "align_content": null,
            "align_items": null,
            "align_self": null,
            "border": null,
            "bottom": null,
            "display": null,
            "flex": null,
            "flex_flow": null,
            "grid_area": null,
            "grid_auto_columns": null,
            "grid_auto_flow": null,
            "grid_auto_rows": null,
            "grid_column": null,
            "grid_gap": null,
            "grid_row": null,
            "grid_template_areas": null,
            "grid_template_columns": null,
            "grid_template_rows": null,
            "height": null,
            "justify_content": null,
            "justify_items": null,
            "left": null,
            "margin": null,
            "max_height": null,
            "max_width": null,
            "min_height": null,
            "min_width": null,
            "object_fit": null,
            "object_position": null,
            "order": null,
            "overflow": null,
            "overflow_x": null,
            "overflow_y": null,
            "padding": null,
            "right": null,
            "top": null,
            "visibility": null,
            "width": null
          }
        },
        "3a5a32b8db02492abf45cc1a5c111d7c": {
          "model_module": "@jupyter-widgets/controls",
          "model_module_version": "1.5.0",
          "model_name": "HBoxModel",
          "state": {
            "_dom_classes": [],
            "_model_module": "@jupyter-widgets/controls",
            "_model_module_version": "1.5.0",
            "_model_name": "HBoxModel",
            "_view_count": null,
            "_view_module": "@jupyter-widgets/controls",
            "_view_module_version": "1.5.0",
            "_view_name": "HBoxView",
            "box_style": "",
            "children": [
              "IPY_MODEL_608e362d2f92485a97e3556fd370957b",
              "IPY_MODEL_ec632d4d34544dd989df07c1c26f2467",
              "IPY_MODEL_00dee68c6ffd43a4b5cf30f09d71bcb0"
            ],
            "layout": "IPY_MODEL_0ea9133bf4664aee8c6dd74eda254cc5"
          }
        },
        "409db3f8a55a4cd28696e66074773aab": {
          "model_module": "@jupyter-widgets/base",
          "model_module_version": "1.2.0",
          "model_name": "LayoutModel",
          "state": {
            "_model_module": "@jupyter-widgets/base",
            "_model_module_version": "1.2.0",
            "_model_name": "LayoutModel",
            "_view_count": null,
            "_view_module": "@jupyter-widgets/base",
            "_view_module_version": "1.2.0",
            "_view_name": "LayoutView",
            "align_content": null,
            "align_items": null,
            "align_self": null,
            "border": null,
            "bottom": null,
            "display": null,
            "flex": null,
            "flex_flow": null,
            "grid_area": null,
            "grid_auto_columns": null,
            "grid_auto_flow": null,
            "grid_auto_rows": null,
            "grid_column": null,
            "grid_gap": null,
            "grid_row": null,
            "grid_template_areas": null,
            "grid_template_columns": null,
            "grid_template_rows": null,
            "height": null,
            "justify_content": null,
            "justify_items": null,
            "left": null,
            "margin": null,
            "max_height": null,
            "max_width": null,
            "min_height": null,
            "min_width": null,
            "object_fit": null,
            "object_position": null,
            "order": null,
            "overflow": null,
            "overflow_x": null,
            "overflow_y": null,
            "padding": null,
            "right": null,
            "top": null,
            "visibility": null,
            "width": null
          }
        },
        "4938681ec83a4338a20288242b762122": {
          "model_module": "@jupyter-widgets/controls",
          "model_module_version": "1.5.0",
          "model_name": "ProgressStyleModel",
          "state": {
            "_model_module": "@jupyter-widgets/controls",
            "_model_module_version": "1.5.0",
            "_model_name": "ProgressStyleModel",
            "_view_count": null,
            "_view_module": "@jupyter-widgets/base",
            "_view_module_version": "1.2.0",
            "_view_name": "StyleView",
            "bar_color": null,
            "description_width": ""
          }
        },
        "608e362d2f92485a97e3556fd370957b": {
          "model_module": "@jupyter-widgets/controls",
          "model_module_version": "1.5.0",
          "model_name": "HTMLModel",
          "state": {
            "_dom_classes": [],
            "_model_module": "@jupyter-widgets/controls",
            "_model_module_version": "1.5.0",
            "_model_name": "HTMLModel",
            "_view_count": null,
            "_view_module": "@jupyter-widgets/controls",
            "_view_module_version": "1.5.0",
            "_view_name": "HTMLView",
            "description": "",
            "description_tooltip": null,
            "layout": "IPY_MODEL_fae4e545f58e4ca9aa1f49bad91a36d4",
            "placeholder": "​",
            "style": "IPY_MODEL_fece13fdff59433ebbb3a35320574e5f",
            "value": "Map: 100%"
          }
        },
        "620d401375d7406e8922d7c51246bd31": {
          "model_module": "@jupyter-widgets/controls",
          "model_module_version": "1.5.0",
          "model_name": "DescriptionStyleModel",
          "state": {
            "_model_module": "@jupyter-widgets/controls",
            "_model_module_version": "1.5.0",
            "_model_name": "DescriptionStyleModel",
            "_view_count": null,
            "_view_module": "@jupyter-widgets/base",
            "_view_module_version": "1.2.0",
            "_view_name": "StyleView",
            "description_width": ""
          }
        },
        "6df9c93e3e6e4f94b48b1f2df6b350c3": {
          "model_module": "@jupyter-widgets/controls",
          "model_module_version": "1.5.0",
          "model_name": "ProgressStyleModel",
          "state": {
            "_model_module": "@jupyter-widgets/controls",
            "_model_module_version": "1.5.0",
            "_model_name": "ProgressStyleModel",
            "_view_count": null,
            "_view_module": "@jupyter-widgets/base",
            "_view_module_version": "1.2.0",
            "_view_name": "StyleView",
            "bar_color": null,
            "description_width": ""
          }
        },
        "7a142a6dd37b46daa64feff35f4168c6": {
          "model_module": "@jupyter-widgets/controls",
          "model_module_version": "1.5.0",
          "model_name": "FloatProgressModel",
          "state": {
            "_dom_classes": [],
            "_model_module": "@jupyter-widgets/controls",
            "_model_module_version": "1.5.0",
            "_model_name": "FloatProgressModel",
            "_view_count": null,
            "_view_module": "@jupyter-widgets/controls",
            "_view_module_version": "1.5.0",
            "_view_name": "ProgressView",
            "bar_style": "success",
            "description": "",
            "description_tooltip": null,
            "layout": "IPY_MODEL_1fe8a068cd744e8ca846095190e977dc",
            "max": 25000,
            "min": 0,
            "orientation": "horizontal",
            "style": "IPY_MODEL_6df9c93e3e6e4f94b48b1f2df6b350c3",
            "value": 25000
          }
        },
        "87a9ce7ed8fa43988c59bb3d9ced637b": {
          "model_module": "@jupyter-widgets/base",
          "model_module_version": "1.2.0",
          "model_name": "LayoutModel",
          "state": {
            "_model_module": "@jupyter-widgets/base",
            "_model_module_version": "1.2.0",
            "_model_name": "LayoutModel",
            "_view_count": null,
            "_view_module": "@jupyter-widgets/base",
            "_view_module_version": "1.2.0",
            "_view_name": "LayoutView",
            "align_content": null,
            "align_items": null,
            "align_self": null,
            "border": null,
            "bottom": null,
            "display": null,
            "flex": null,
            "flex_flow": null,
            "grid_area": null,
            "grid_auto_columns": null,
            "grid_auto_flow": null,
            "grid_auto_rows": null,
            "grid_column": null,
            "grid_gap": null,
            "grid_row": null,
            "grid_template_areas": null,
            "grid_template_columns": null,
            "grid_template_rows": null,
            "height": null,
            "justify_content": null,
            "justify_items": null,
            "left": null,
            "margin": null,
            "max_height": null,
            "max_width": null,
            "min_height": null,
            "min_width": null,
            "object_fit": null,
            "object_position": null,
            "order": null,
            "overflow": null,
            "overflow_x": null,
            "overflow_y": null,
            "padding": null,
            "right": null,
            "top": null,
            "visibility": null,
            "width": null
          }
        },
        "8e95a576f3d34366beb19b5bde93dc5b": {
          "model_module": "@jupyter-widgets/controls",
          "model_module_version": "1.5.0",
          "model_name": "DescriptionStyleModel",
          "state": {
            "_model_module": "@jupyter-widgets/controls",
            "_model_module_version": "1.5.0",
            "_model_name": "DescriptionStyleModel",
            "_view_count": null,
            "_view_module": "@jupyter-widgets/base",
            "_view_module_version": "1.2.0",
            "_view_name": "StyleView",
            "description_width": ""
          }
        },
        "a0bb14037015498794f441bcbac020da": {
          "model_module": "@jupyter-widgets/base",
          "model_module_version": "1.2.0",
          "model_name": "LayoutModel",
          "state": {
            "_model_module": "@jupyter-widgets/base",
            "_model_module_version": "1.2.0",
            "_model_name": "LayoutModel",
            "_view_count": null,
            "_view_module": "@jupyter-widgets/base",
            "_view_module_version": "1.2.0",
            "_view_name": "LayoutView",
            "align_content": null,
            "align_items": null,
            "align_self": null,
            "border": null,
            "bottom": null,
            "display": null,
            "flex": null,
            "flex_flow": null,
            "grid_area": null,
            "grid_auto_columns": null,
            "grid_auto_flow": null,
            "grid_auto_rows": null,
            "grid_column": null,
            "grid_gap": null,
            "grid_row": null,
            "grid_template_areas": null,
            "grid_template_columns": null,
            "grid_template_rows": null,
            "height": null,
            "justify_content": null,
            "justify_items": null,
            "left": null,
            "margin": null,
            "max_height": null,
            "max_width": null,
            "min_height": null,
            "min_width": null,
            "object_fit": null,
            "object_position": null,
            "order": null,
            "overflow": null,
            "overflow_x": null,
            "overflow_y": null,
            "padding": null,
            "right": null,
            "top": null,
            "visibility": null,
            "width": null
          }
        },
        "b86ee9c64f494d7bbefab8b86bc84da3": {
          "model_module": "@jupyter-widgets/controls",
          "model_module_version": "1.5.0",
          "model_name": "HTMLModel",
          "state": {
            "_dom_classes": [],
            "_model_module": "@jupyter-widgets/controls",
            "_model_module_version": "1.5.0",
            "_model_name": "HTMLModel",
            "_view_count": null,
            "_view_module": "@jupyter-widgets/controls",
            "_view_module_version": "1.5.0",
            "_view_name": "HTMLView",
            "description": "",
            "description_tooltip": null,
            "layout": "IPY_MODEL_409db3f8a55a4cd28696e66074773aab",
            "placeholder": "​",
            "style": "IPY_MODEL_f36b9796a29f45d980986087aeb79d42",
            "value": " 20000/20000 [00:23&lt;00:00, 898.68 examples/s]"
          }
        },
        "b9548eee1f3c45f3b49865e4a625d00f": {
          "model_module": "@jupyter-widgets/controls",
          "model_module_version": "1.5.0",
          "model_name": "HBoxModel",
          "state": {
            "_dom_classes": [],
            "_model_module": "@jupyter-widgets/controls",
            "_model_module_version": "1.5.0",
            "_model_name": "HBoxModel",
            "_view_count": null,
            "_view_module": "@jupyter-widgets/controls",
            "_view_module_version": "1.5.0",
            "_view_name": "HBoxView",
            "box_style": "",
            "children": [
              "IPY_MODEL_3299d0d455874ab38b7f3545d9c73e79",
              "IPY_MODEL_7a142a6dd37b46daa64feff35f4168c6",
              "IPY_MODEL_f5de6cf424a54676bb153afa6cfe96a4"
            ],
            "layout": "IPY_MODEL_1ec526cda13940a6b77fdd623b69f1f7"
          }
        },
        "bcdeab999f3b48a9aae8c12420b2bfcb": {
          "model_module": "@jupyter-widgets/base",
          "model_module_version": "1.2.0",
          "model_name": "LayoutModel",
          "state": {
            "_model_module": "@jupyter-widgets/base",
            "_model_module_version": "1.2.0",
            "_model_name": "LayoutModel",
            "_view_count": null,
            "_view_module": "@jupyter-widgets/base",
            "_view_module_version": "1.2.0",
            "_view_name": "LayoutView",
            "align_content": null,
            "align_items": null,
            "align_self": null,
            "border": null,
            "bottom": null,
            "display": null,
            "flex": null,
            "flex_flow": null,
            "grid_area": null,
            "grid_auto_columns": null,
            "grid_auto_flow": null,
            "grid_auto_rows": null,
            "grid_column": null,
            "grid_gap": null,
            "grid_row": null,
            "grid_template_areas": null,
            "grid_template_columns": null,
            "grid_template_rows": null,
            "height": null,
            "justify_content": null,
            "justify_items": null,
            "left": null,
            "margin": null,
            "max_height": null,
            "max_width": null,
            "min_height": null,
            "min_width": null,
            "object_fit": null,
            "object_position": null,
            "order": null,
            "overflow": null,
            "overflow_x": null,
            "overflow_y": null,
            "padding": null,
            "right": null,
            "top": null,
            "visibility": null,
            "width": null
          }
        },
        "d92e9c53c0cc4b38afefb821b615b01c": {
          "model_module": "@jupyter-widgets/controls",
          "model_module_version": "1.5.0",
          "model_name": "HTMLModel",
          "state": {
            "_dom_classes": [],
            "_model_module": "@jupyter-widgets/controls",
            "_model_module_version": "1.5.0",
            "_model_name": "HTMLModel",
            "_view_count": null,
            "_view_module": "@jupyter-widgets/controls",
            "_view_module_version": "1.5.0",
            "_view_name": "HTMLView",
            "description": "",
            "description_tooltip": null,
            "layout": "IPY_MODEL_1dfed01ed6bf4f04994cf26f439380f7",
            "placeholder": "​",
            "style": "IPY_MODEL_23697ab45e464e31bbf0f7e3883dce11",
            "value": "Map: 100%"
          }
        },
        "daaf705153f7406682246dfe5d7321f7": {
          "model_module": "@jupyter-widgets/controls",
          "model_module_version": "1.5.0",
          "model_name": "ProgressStyleModel",
          "state": {
            "_model_module": "@jupyter-widgets/controls",
            "_model_module_version": "1.5.0",
            "_model_name": "ProgressStyleModel",
            "_view_count": null,
            "_view_module": "@jupyter-widgets/base",
            "_view_module_version": "1.2.0",
            "_view_name": "StyleView",
            "bar_color": null,
            "description_width": ""
          }
        },
        "ec632d4d34544dd989df07c1c26f2467": {
          "model_module": "@jupyter-widgets/controls",
          "model_module_version": "1.5.0",
          "model_name": "FloatProgressModel",
          "state": {
            "_dom_classes": [],
            "_model_module": "@jupyter-widgets/controls",
            "_model_module_version": "1.5.0",
            "_model_name": "FloatProgressModel",
            "_view_count": null,
            "_view_module": "@jupyter-widgets/controls",
            "_view_module_version": "1.5.0",
            "_view_name": "ProgressView",
            "bar_style": "success",
            "description": "",
            "description_tooltip": null,
            "layout": "IPY_MODEL_87a9ce7ed8fa43988c59bb3d9ced637b",
            "max": 5000,
            "min": 0,
            "orientation": "horizontal",
            "style": "IPY_MODEL_4938681ec83a4338a20288242b762122",
            "value": 5000
          }
        },
        "f06d935a23144d0eba94969c6ea91cbb": {
          "model_module": "@jupyter-widgets/base",
          "model_module_version": "1.2.0",
          "model_name": "LayoutModel",
          "state": {
            "_model_module": "@jupyter-widgets/base",
            "_model_module_version": "1.2.0",
            "_model_name": "LayoutModel",
            "_view_count": null,
            "_view_module": "@jupyter-widgets/base",
            "_view_module_version": "1.2.0",
            "_view_name": "LayoutView",
            "align_content": null,
            "align_items": null,
            "align_self": null,
            "border": null,
            "bottom": null,
            "display": null,
            "flex": null,
            "flex_flow": null,
            "grid_area": null,
            "grid_auto_columns": null,
            "grid_auto_flow": null,
            "grid_auto_rows": null,
            "grid_column": null,
            "grid_gap": null,
            "grid_row": null,
            "grid_template_areas": null,
            "grid_template_columns": null,
            "grid_template_rows": null,
            "height": null,
            "justify_content": null,
            "justify_items": null,
            "left": null,
            "margin": null,
            "max_height": null,
            "max_width": null,
            "min_height": null,
            "min_width": null,
            "object_fit": null,
            "object_position": null,
            "order": null,
            "overflow": null,
            "overflow_x": null,
            "overflow_y": null,
            "padding": null,
            "right": null,
            "top": null,
            "visibility": null,
            "width": null
          }
        },
        "f36b9796a29f45d980986087aeb79d42": {
          "model_module": "@jupyter-widgets/controls",
          "model_module_version": "1.5.0",
          "model_name": "DescriptionStyleModel",
          "state": {
            "_model_module": "@jupyter-widgets/controls",
            "_model_module_version": "1.5.0",
            "_model_name": "DescriptionStyleModel",
            "_view_count": null,
            "_view_module": "@jupyter-widgets/base",
            "_view_module_version": "1.2.0",
            "_view_name": "StyleView",
            "description_width": ""
          }
        },
        "f5de6cf424a54676bb153afa6cfe96a4": {
          "model_module": "@jupyter-widgets/controls",
          "model_module_version": "1.5.0",
          "model_name": "HTMLModel",
          "state": {
            "_dom_classes": [],
            "_model_module": "@jupyter-widgets/controls",
            "_model_module_version": "1.5.0",
            "_model_name": "HTMLModel",
            "_view_count": null,
            "_view_module": "@jupyter-widgets/controls",
            "_view_module_version": "1.5.0",
            "_view_name": "HTMLView",
            "description": "",
            "description_tooltip": null,
            "layout": "IPY_MODEL_a0bb14037015498794f441bcbac020da",
            "placeholder": "​",
            "style": "IPY_MODEL_620d401375d7406e8922d7c51246bd31",
            "value": " 25000/25000 [00:27&lt;00:00, 846.66 examples/s]"
          }
        },
        "fae4e545f58e4ca9aa1f49bad91a36d4": {
          "model_module": "@jupyter-widgets/base",
          "model_module_version": "1.2.0",
          "model_name": "LayoutModel",
          "state": {
            "_model_module": "@jupyter-widgets/base",
            "_model_module_version": "1.2.0",
            "_model_name": "LayoutModel",
            "_view_count": null,
            "_view_module": "@jupyter-widgets/base",
            "_view_module_version": "1.2.0",
            "_view_name": "LayoutView",
            "align_content": null,
            "align_items": null,
            "align_self": null,
            "border": null,
            "bottom": null,
            "display": null,
            "flex": null,
            "flex_flow": null,
            "grid_area": null,
            "grid_auto_columns": null,
            "grid_auto_flow": null,
            "grid_auto_rows": null,
            "grid_column": null,
            "grid_gap": null,
            "grid_row": null,
            "grid_template_areas": null,
            "grid_template_columns": null,
            "grid_template_rows": null,
            "height": null,
            "justify_content": null,
            "justify_items": null,
            "left": null,
            "margin": null,
            "max_height": null,
            "max_width": null,
            "min_height": null,
            "min_width": null,
            "object_fit": null,
            "object_position": null,
            "order": null,
            "overflow": null,
            "overflow_x": null,
            "overflow_y": null,
            "padding": null,
            "right": null,
            "top": null,
            "visibility": null,
            "width": null
          }
        },
        "fece13fdff59433ebbb3a35320574e5f": {
          "model_module": "@jupyter-widgets/controls",
          "model_module_version": "1.5.0",
          "model_name": "DescriptionStyleModel",
          "state": {
            "_model_module": "@jupyter-widgets/controls",
            "_model_module_version": "1.5.0",
            "_model_name": "DescriptionStyleModel",
            "_view_count": null,
            "_view_module": "@jupyter-widgets/base",
            "_view_module_version": "1.2.0",
            "_view_name": "StyleView",
            "description_width": ""
          }
        }
      }
    }
  },
  "nbformat": 4,
  "nbformat_minor": 0
}
