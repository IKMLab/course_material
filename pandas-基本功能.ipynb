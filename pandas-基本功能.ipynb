{
 "cells": [
  {
   "cell_type": "markdown",
   "metadata": {},
   "source": [
    "# pandas-基本功能\n",
    "\n",
    "## 教學目標\n",
    "\n",
    "這份教學的目標是介紹基本的 pandas 功能，並學習快速操作大量的資料。\n",
    "\n",
    "## 適用對象\n",
    "\n",
    "適用於有程式基礎，且擁有 python 和 `numpy` 基礎的學生。\n",
    "\n",
    "若沒有先學過 python，請參考 [python-入門語法](./python-入門語法.ipynb) 教學。\n",
    "\n",
    "若沒有先學過 `numpy`，請參考 [numpy-基本功能](./numpy-基本功能.ipynb) 教學。\n",
    "\n",
    "## 執行時間\n",
    "\n",
    "本教學全部執行時間約為 1.3843801021575928 秒。\n",
    "\n",
    "|測試環境|名稱|\n",
    "|-|-|\n",
    "|主機板|X570 AORUS ELITE|\n",
    "|處理器|AMD Ryzen 7 3700X 8-Core Processor|\n",
    "|記憶體|Kingston KHX3200C16D4/16GX|\n",
    "|硬碟|Seagate ST1000DM003-1ER1|\n",
    "|顯示卡|GeForce RTX 2080|\n",
    "|作業系統|Ubuntu 18.04 LTS|"
   ]
  },
  {
   "cell_type": "markdown",
   "metadata": {},
   "source": [
    "## 大綱\n",
    "\n",
    "- [簡介](#簡介)\n",
    "- [安裝](#安裝)\n",
    "- [資料結構](#資料結構)\n",
    "- [操作資料](#操作資料)\n",
    "- [讀取資料](#讀取資料)\n",
    "- [練習](#練習)"
   ]
  },
  {
   "cell_type": "markdown",
   "metadata": {},
   "source": [
    "## 簡介\n",
    "\n",
    "根據 [pandas 官方網站](https://pandas.pydata.org/)（v1.0）：\n",
    "\n",
    "> pandas is a fast, powerful, flexible and easy to use open source data analysis and manipulation tool,\n",
    "built on top of the Python programming language.\n",
    ">\n",
    "> pandas 是基於 python 開發的一個快速、強大、具有彈性且容易使用的開源資料分析與操作工具。\n",
    "\n",
    "`pandas` 提供**讀取**或**輸出**以下資料格式的功能：\n",
    "\n",
    "- CSV\n",
    "- JSON\n",
    "- HTML\n",
    "- Microsoft Excel\n",
    "- OpenDocument Excel\n",
    "- SQL databases\n",
    "- pickle\n",
    "- Google BigQuery\n",
    "\n",
    "讀取資料後，`pandas` 能夠對資料進行以下的操作：\n",
    "\n",
    "- **索引（Index**）與**選取（Select）** 資料\n",
    "- **合併（Merge）**、**結合（Join）** 與**串接（Concatenate）** 資料\n",
    "- **統計（Statistic）** 與**視覺化（Visualization）**"
   ]
  },
  {
   "cell_type": "markdown",
   "metadata": {},
   "source": [
    "## 安裝\n",
    "\n",
    "透過 `pip` 安裝 `pandas`：\n",
    "\n",
    "```sh\n",
    "pip install pandas\n",
    "```"
   ]
  },
  {
   "cell_type": "code",
   "execution_count": 1,
   "metadata": {},
   "outputs": [],
   "source": [
    "# 匯入 pandas 模組\n",
    "import pandas as pd\n",
    "\n",
    "# 匯入 numpy 模組\n",
    "import numpy as np"
   ]
  },
  {
   "cell_type": "markdown",
   "metadata": {},
   "source": [
    "## 資料結構\n",
    "\n",
    "由於 `pandas` 是基於 python 與 `numpy` 進行開發，所以 `pandas` 也使用了 `numpy` 中的概念：\n",
    "\n",
    "- 維度：`pandas.Series.shape` 即 `numpy.shape`\n",
    "- 資料型態：`pandas.Series.dtype` 即 `numpy.dtype`\n",
    "\n",
    "### 資料格式介紹\n",
    "![Dataframe](resource/pandas/dataframe.png)\n",
    "- Source: https://www.geeksforgeeks.org/creating-a-pandas-dataframe/"
   ]
  },
  {
   "cell_type": "markdown",
   "metadata": {},
   "source": [
    "\n",
    "### Series\n",
    "\n",
    "`pandas.Series` 為**維度為 1**且**資料型態皆相同**的結構。\n",
    "\n",
    "- 操作方法與操作 `numpy.ndarray` 陣列相同\n",
    "    - 使用 `[位置]` 取值\n",
    "    - 使用 `[起始位置:結束位置]` 取連續值\n",
    "        - 包含起始位置\n",
    "        - **不包含**結束位置\n",
    "- 可以給予每個 `pandas.Series` 位置中的值一個名字\n",
    "    - 使用 `index` 參數進行命名\n",
    "    - 使用 `[index 名稱]` 取值\n",
    "    - 使用 `[起始 index 名稱:結束 index 名稱]` 取連續值\n",
    "        - 包含起始位置\n",
    "        - **包含**結束位置\n",
    "- 可以給予 `pandas.Series` 一個名字\n",
    "    - 使用 `name` 參數進行命名\n",
    "- 透過給予名稱讓資料具有**可閱讀性**"
   ]
  },
  {
   "cell_type": "code",
   "execution_count": 3,
   "metadata": {},
   "outputs": [
    {
     "name": "stdout",
     "output_type": "stream",
     "text": [
      "0    1\n",
      "1    2\n",
      "2    3\n",
      "dtype: int64\n",
      "\n",
      "True\n",
      "int64\n",
      "(3,)\n",
      "\n",
      "0    1.0\n",
      "1    2.0\n",
      "2    3.0\n",
      "dtype: float64\n",
      "\n",
      "True\n",
      "float64\n",
      "(3,)\n"
     ]
    }
   ],
   "source": [
    "# Series\n",
    "\n",
    "# 宣告 Series 變數\n",
    "s1 = pd.Series([1, 2, 3])    \n",
    "\n",
    "# 輸出 Series s1\n",
    "print(s1)                    \n",
    "print()\n",
    "# s1 型態為 Series，輸出 True\n",
    "print(type(s1) == pd.Series) \n",
    "# s1 中的數值型態為整數，輸出 int64\n",
    "print(s1.dtype)              \n",
    "# s1 維度為 1，共 3 個數值，輸出 (3,)\n",
    "print(s1.shape)              \n",
    "print()\n",
    "\n",
    "s2 = pd.Series([1., 2., 3.])\n",
    "\n",
    "# 輸出 Series s2\n",
    "print(s2)\n",
    "print()\n",
    "# s2 型態為 Series，輸出 True\n",
    "print(type(s2) == pd.Series) \n",
    "# s2 中的數值型態為浮點數，輸出 float64\n",
    "print(s2.dtype)\n",
    "# s2 維度為 1，共 3 個數值，輸出 (3,)\n",
    "print(s2.shape)"
   ]
  },
  {
   "cell_type": "code",
   "execution_count": 4,
   "metadata": {},
   "outputs": [
    {
     "name": "stdout",
     "output_type": "stream",
     "text": [
      "1st    1\n",
      "2nd    2\n",
      "3rd    3\n",
      "Name: my series, dtype: int64\n",
      "\n",
      "my series\n",
      "Index(['1st', '2nd', '3rd'], dtype='object')\n",
      "\n"
     ]
    }
   ],
   "source": [
    "# 宣告 Series 變數\n",
    "s3 = pd.Series(        \n",
    "    [1, 2, 3,],\n",
    "    index=['1st', '2nd', '3rd'],\n",
    "    name='my series'\n",
    ")\n",
    "\n",
    "# 輸出 Series s3\n",
    "print(s3)\n",
    "print()\n",
    "# 輸出 Series s3 的名字 my series\n",
    "print(s3.name)         \n",
    "# 依序輸出 Series s3 中所有值名字\n",
    "print(s3.index)        \n",
    "print()"
   ]
  },
  {
   "cell_type": "code",
   "execution_count": 5,
   "metadata": {},
   "outputs": [
    {
     "name": "stdout",
     "output_type": "stream",
     "text": [
      "1\n",
      "1\n",
      "2\n",
      "2\n",
      "3\n",
      "3\n",
      "\n",
      "1st    1\n",
      "2nd    2\n",
      "Name: my series, dtype: int64\n",
      "\n",
      "1st    1\n",
      "2nd    2\n",
      "3rd    3\n",
      "Name: my series, dtype: int64\n"
     ]
    }
   ],
   "source": [
    "# 輸出 Series s3 位置 0 的值\n",
    "print(s3[0])           \n",
    "# 輸出 Series s3 中名稱為 1st 的值\n",
    "print(s3['1st'])       \n",
    "# 輸出 Series s3 位置 1 的值\n",
    "print(s3[1])           \n",
    "# 輸出 Series s3 中名稱為 2nd 的值\n",
    "print(s3['2nd'])       \n",
    "# 輸出 Series s3 位置 2 的值\n",
    "print(s3[2])           \n",
    "# 輸出 Series s3 中名稱為 3rd 的值\n",
    "print(s3['3rd'])       \n",
    "print()\n",
    "\n",
    "# 輸出 Series s3 位置 0, 1 但不包含位置 2 的值\n",
    "print(s3[0:2])         \n",
    "print()\n",
    "# 輸出 Series s3 名稱為 1st 的值位置到名稱為 3rd 的值位置\n",
    "# 與 list 不同，包含 3rd 的位置\n",
    "print(s3['1st':'3rd']) "
   ]
  },
  {
   "cell_type": "code",
   "execution_count": 6,
   "metadata": {},
   "outputs": [
    {
     "name": "stdout",
     "output_type": "stream",
     "text": [
      "A    1\n",
      "B    2\n",
      "C    3\n",
      "Name: Series s4, dtype: int64\n",
      "s4 的 Index(['A', 'B', 'C'], dtype='object')\n"
     ]
    }
   ],
   "source": [
    "# 宣告 Series 變數 (使用dict)\n",
    "s4 = pd.Series(\n",
    "    data={\n",
    "        \"A\": 1,\n",
    "        \"B\": 2,\n",
    "        \"C\": 3,\n",
    "    },\n",
    "    name='Series s4'\n",
    ")\n",
    "print(s4)\n",
    "print(f\"s4 的 {s4.index}\")"
   ]
  },
  {
   "cell_type": "markdown",
   "metadata": {},
   "source": [
    "### DataFrame\n",
    "\n",
    "`pandas.DataFrame` 為**維度為 2**，**資料型態不一定相同**的結構。\n",
    "\n",
    "- 由一個或多個 `pandas.Series` 所組成\n",
    "- 以**表格**的方式呈現與操作（如同 SQL）\n",
    "    - 使用 **列（row）** 與 **行（column）** 進行操作\n",
    "    - 從 `pandas.DataFrame` 取到的單一列或行都會自動被轉換成 `pandas.Series`\n",
    "- 取值方法\n",
    "    - 先選擇 **行（column）**，再使用 **列的位置（row position）** 取值\n",
    "        - 同 `pandas.Series` 的操作方式\n",
    "    - 先選擇 **列（row）**，再使用 **行的位置（column position）** 或 **名稱（column index）** 取值\n",
    "        - 必須使用 `pandas.DataFrame.iloc[位置]`\n",
    "    - 先選擇 **列的名稱（row index）**，再使用 **行的位置（column position）** 或 **名稱（column index）** 取值\n",
    "        - 使用 `index` 參數進行命名\n",
    "        - 必須使用 `pandas.DataFrame.loc[名稱]`\n",
    "    - 支援連續取值，與 `pandas.Series` 操作方法相同\n",
    "- 透過給予名稱讓資料具有**可閱讀性**"
   ]
  },
  {
   "cell_type": "code",
   "execution_count": 7,
   "metadata": {},
   "outputs": [
    {
     "name": "stdout",
     "output_type": "stream",
     "text": [
      "   col1  col2 col3\n",
      "0     1   5.0    a\n",
      "1     2   6.0    b\n",
      "2     3   7.0    c\n",
      "3     4   8.0    d\n",
      "\n",
      "True\n",
      "0    1\n",
      "1    2\n",
      "2    3\n",
      "3    4\n",
      "Name: col1, dtype: int64\n",
      "\n",
      "True\n",
      "int64\n",
      "(4,)\n",
      "\n",
      "0    5.0\n",
      "1    6.0\n",
      "2    7.0\n",
      "3    8.0\n",
      "Name: col2, dtype: float64\n",
      "\n",
      "True\n",
      "float64\n",
      "(4,)\n",
      "\n",
      "0    a\n",
      "1    b\n",
      "2    c\n",
      "3    d\n",
      "Name: col3, dtype: object\n",
      "\n",
      "True\n",
      "object\n",
      "(4,)\n"
     ]
    }
   ],
   "source": [
    "# DataFrame\n",
    "\n",
    "# 宣告 DataFrame 變數\n",
    "df1 = pd.DataFrame({ \n",
    "    'col1': [1, 2, 3, 4],\n",
    "    'col2': [5., 6., 7., 8.],\n",
    "    'col3': ['a', 'b', 'c', 'd']\n",
    "})\n",
    "\n",
    "# 輸出 DataFrame df1\n",
    "print(df1)                            \n",
    "print()\n",
    "# df1 型態為 DataFrame，輸出 True\n",
    "print(type(df1) == pd.DataFrame)      \n",
    "\n",
    "# 輸出 DataFrame df1 名稱為 col1 的行\n",
    "print(df1['col1'])                    \n",
    "print()\n",
    "# df1['col1'] 型態為 Series，輸出 True\n",
    "print(type(df1['col1']) == pd.Series) \n",
    "# df1['col1'] 中的數值型態為整數，輸出 int64\n",
    "print(df1['col1'].dtype)              \n",
    "# df1['col1'] 維度為 1，共 4 個數值，輸出 (4,)\n",
    "print(df1['col1'].shape)              \n",
    "print()\n",
    "\n",
    "# 輸出 DataFrame df1 名稱為 col2 的行\n",
    "print(df1['col2'])                    \n",
    "print()\n",
    "# df1['col2'] 型態為 Series，輸出 True\n",
    "print(type(df1['col2']) == pd.Series) \n",
    "# df1['col2'] 中的數值型態為浮點數，輸出 float64\n",
    "print(df1['col2'].dtype)              \n",
    "# df1['col2'] 維度為 1，共 4 個數值，輸出 (4,)\n",
    "print(df1['col2'].shape)             \n",
    "print()\n",
    "\n",
    "# 輸出 DataFrame df1 名稱為 col3 的行\n",
    "print(df1['col3'])                    \n",
    "print()\n",
    "# df1['col3'] 型態為 Series，輸出 True\n",
    "print(type(df1['col3']) == pd.Series) \n",
    "# df1['col3'] 中的數值型態為字串，輸出 object\n",
    "print(df1['col3'].dtype)              \n",
    "# df1['col3'] 維度為 1，共 4 個數值，輸出 (4,)\n",
    "print(df1['col3'].shape)"
   ]
  },
  {
   "cell_type": "code",
   "execution_count": 10,
   "metadata": {},
   "outputs": [
    {
     "name": "stdout",
     "output_type": "stream",
     "text": [
      "      col1  col2 col3\n",
      "row1     1   5.0    a\n",
      "row2     2   6.0    b\n",
      "row3     3   7.0    c\n",
      "row4     4   8.0    d\n",
      "\n",
      "col1      1\n",
      "col2    5.0\n",
      "col3      a\n",
      "Name: row1, dtype: object\n",
      "\n",
      "col1      1\n",
      "col2    5.0\n",
      "col3      a\n",
      "Name: row1, dtype: object\n",
      "\n",
      "col1      2\n",
      "col2    6.0\n",
      "col3      b\n",
      "Name: row2, dtype: object\n",
      "\n",
      "col1      2\n",
      "col2    6.0\n",
      "col3      b\n",
      "Name: row2, dtype: object\n",
      "\n",
      "col1      3\n",
      "col2    7.0\n",
      "col3      c\n",
      "Name: row3, dtype: object\n",
      "\n",
      "col1      3\n",
      "col2    7.0\n",
      "col3      c\n",
      "Name: row3, dtype: object\n",
      "\n"
     ]
    }
   ],
   "source": [
    "# DataFrame\n",
    "\n",
    "# 宣告 DataFrame 變數\n",
    "df2 = pd.DataFrame(           \n",
    "    { \n",
    "        'col1': [1, 2, 3, 4],\n",
    "        'col2': [5., 6., 7., 8.],\n",
    "        'col3': ['a', 'b', 'c', 'd']\n",
    "    },\n",
    "    index=['row1', 'row2', 'row3', 'row4']\n",
    ")\n",
    "\n",
    "print(df2)\n",
    "print()\n",
    "\n",
    "# 輸出 DataFrame df2 第 0 個 row\n",
    "print(df2.iloc[0])            \n",
    "print()\n",
    "# 輸出 DataFrame df2 名稱為 row1 的 row\n",
    "print(df2.loc['row1'])        \n",
    "print()\n",
    "# 輸出 DataFrame df2 第 1 個 row\n",
    "print(df2.iloc[1])            \n",
    "print()\n",
    "# 輸出 DataFrame df2 名稱為 row2 的 row\n",
    "print(df2.loc['row2'])      \n",
    "print()\n",
    "# 輸出 DataFrame df2 第 2 個 row\n",
    "print(df2.iloc[2])            \n",
    "print()\n",
    "# 輸出 DataFrame df2 名稱為 row3 的 row\n",
    "print(df2.loc['row3'])       \n",
    "print()"
   ]
  },
  {
   "cell_type": "code",
   "execution_count": 9,
   "metadata": {},
   "outputs": [
    {
     "name": "stdout",
     "output_type": "stream",
     "text": [
      "      col1  col2 col3\n",
      "row1     1   5.0    a\n",
      "row2     2   6.0    b\n",
      "\n",
      "      col1  col2 col3\n",
      "row1     1   5.0    a\n",
      "row2     2   6.0    b\n",
      "row3     3   7.0    c\n"
     ]
    }
   ],
   "source": [
    "# 輸出 DataFrame df2 第 0, 1 個 rows\n",
    "print(df2.iloc[0:2])          \n",
    "print()\n",
    "# 輸出 DataFrame df2 的 rowname 為 row1 的位置\n",
    "# 到 rowname 為 row3 的位置的所有 rows\n",
    "# 與 list 不同，包含 row3 的位置\n",
    "print(df2.loc['row1':'row3'])"
   ]
  },
  {
   "cell_type": "code",
   "execution_count": 11,
   "metadata": {},
   "outputs": [
    {
     "name": "stderr",
     "output_type": "stream",
     "text": [
      "/tmp/ipykernel_1555794/1262549981.py:4: SettingWithCopyWarning: \n",
      "A value is trying to be set on a copy of a slice from a DataFrame\n",
      "\n",
      "See the caveats in the documentation: https://pandas.pydata.org/pandas-docs/stable/user_guide/indexing.html#returning-a-view-versus-a-copy\n",
      "  df1.loc[:, 'col1'][0:2] = -1    # 會出現警告\n"
     ]
    }
   ],
   "source": [
    "# SettingWithCopyWarning\n",
    "# https://stackoverflow.com/questions/20625582/how-to-deal-with-settingwithcopywarning-in-pandas\n",
    "\n",
    "df1.loc[:, 'col1'][0:2] = -1    # 會出現警告\n",
    "# df1.loc[0:2, 'col1'] = -1   # 不會出現警告"
   ]
  },
  {
   "cell_type": "markdown",
   "metadata": {},
   "source": [
    "### 合併操作\n",
    "|函數|意義|\n",
    "|-|-|\n",
    "|`pandas.concat(Iterable[DataFrame])`|合併 Series 或 DataFrame|\n",
    "- 搭配: `pandas.DataFrame.reset_index()`"
   ]
  },
  {
   "cell_type": "code",
   "execution_count": 13,
   "metadata": {},
   "outputs": [
    {
     "name": "stdout",
     "output_type": "stream",
     "text": [
      "0    1.0\n",
      "1    2.0\n",
      "2    3.0\n",
      "0    1.0\n",
      "1    2.0\n",
      "2    3.0\n",
      "dtype: float64\n",
      "\n",
      "<class 'pandas.core.series.Series'>\n",
      "\n",
      "   index    0\n",
      "0      0  1.0\n",
      "1      1  2.0\n",
      "2      2  3.0\n",
      "3      0  1.0\n",
      "4      1  2.0\n",
      "5      2  3.0\n",
      "\n",
      "0    1.0\n",
      "1    2.0\n",
      "2    3.0\n",
      "3    1.0\n",
      "4    2.0\n",
      "5    3.0\n",
      "dtype: float64\n",
      "\n"
     ]
    }
   ],
   "source": [
    "# 合併操作\n",
    "\n",
    "# 合併 s1 跟 s2\n",
    "print(pd.concat([s1, s2], axis=0))\n",
    "print()\n",
    "print(type(pd.concat([s1, s2], axis=0)))\n",
    "print()\n",
    "\n",
    "# 使用 reset_index() 來重置 index\n",
    "# 使用 reset_index(drop=True) 可避免輸出舊的 index\n",
    "print(pd.concat([s1, s2], axis=0).reset_index())\n",
    "print()\n",
    "\n",
    "# 合併 s1 跟 s2 (不保留原本的index)\n",
    "print(pd.concat([s1, s2], ignore_index=True, axis=0))\n",
    "print()"
   ]
  },
  {
   "cell_type": "code",
   "execution_count": 14,
   "metadata": {},
   "outputs": [
    {
     "name": "stdout",
     "output_type": "stream",
     "text": [
      "   0    1\n",
      "0  1  1.0\n",
      "1  2  2.0\n",
      "2  3  3.0\n",
      "\n",
      "<class 'pandas.core.frame.DataFrame'>\n",
      "\n"
     ]
    }
   ],
   "source": [
    "# 合併兩個 Series 後變成 DataFrame\n",
    "print(pd.concat([s1, s2], axis=1))\n",
    "print()\n",
    "print(type(pd.concat([s1, s2], axis=1)))\n",
    "print()"
   ]
  },
  {
   "cell_type": "markdown",
   "metadata": {},
   "source": [
    "## 操作資料"
   ]
  },
  {
   "cell_type": "markdown",
   "metadata": {},
   "source": [
    "\n",
    "### 資料資訊（Data Information）\n",
    "\n",
    "`pandas` 提供簡單的函數能夠快速瀏覽資料的資訊：\n",
    "\n",
    "|函數|意義|\n",
    "|-|-|\n",
    "|`pandas.DataFrame.info`|資料型態與大小|\n",
    "|`pandas.(DataFrame\\|Series).head`|前 n 筆資料|\n",
    "|`pandas.(DataFrame\\|Series).tail`|後 n 筆資料|\n",
    "|`pandas.(DataFrame\\|Series).describe`|統計資訊|\n",
    "|`pandas.(DataFrame\\|Series).hist`|繪出直方圖|"
   ]
  },
  {
   "cell_type": "code",
   "execution_count": 15,
   "metadata": {
    "tags": []
   },
   "outputs": [
    {
     "name": "stdout",
     "output_type": "stream",
     "text": [
      "    col-int  col-float\n",
      "0         0   0.989025\n",
      "1         1   0.650970\n",
      "2         2   0.220964\n",
      "3         3   0.541352\n",
      "4         4   0.147547\n",
      "5         5   0.927154\n",
      "6         6   0.765837\n",
      "7         7   0.395046\n",
      "8         8   0.327468\n",
      "9         9   0.597048\n",
      "10       10   0.437540\n",
      "\n",
      "<class 'pandas.core.frame.DataFrame'>\n",
      "RangeIndex: 11 entries, 0 to 10\n",
      "Data columns (total 2 columns):\n",
      " #   Column     Non-Null Count  Dtype  \n",
      "---  ------     --------------  -----  \n",
      " 0   col-int    11 non-null     int64  \n",
      " 1   col-float  11 non-null     float64\n",
      "dtypes: float64(1), int64(1)\n",
      "memory usage: 304.0 bytes\n",
      "None\n",
      "\n",
      "   col-int  col-float\n",
      "0        0   0.989025\n",
      "1        1   0.650970\n",
      "2        2   0.220964\n",
      "\n",
      "    col-int  col-float\n",
      "9         9   0.597048\n",
      "10       10   0.437540\n",
      "\n",
      "         col-int  col-float\n",
      "count  11.000000  11.000000\n",
      "mean    5.000000   0.545450\n",
      "std     3.316625   0.273905\n",
      "min     0.000000   0.147547\n",
      "25%     2.500000   0.361257\n",
      "50%     5.000000   0.541352\n",
      "75%     7.500000   0.708404\n",
      "max    10.000000   0.989025\n",
      "\n"
     ]
    },
    {
     "data": {
      "text/plain": [
       "array([[<Axes: title={'center': 'col-int'}>,\n",
       "        <Axes: title={'center': 'col-float'}>]], dtype=object)"
      ]
     },
     "execution_count": 15,
     "metadata": {},
     "output_type": "execute_result"
    },
    {
     "data": {
      "image/png": "[encoded data removed]",
      "text/plain": [
       "<Figure size 640x480 with 2 Axes>"
      ]
     },
     "metadata": {},
     "output_type": "display_data"
    }
   ],
   "source": [
    "# 資料資訊\n",
    "\n",
    "# 宣告 DataFrame 變數\n",
    "df3 = pd.DataFrame({  \n",
    "    'col-int': np.arange(11),\n",
    "    'col-float': np.random.rand(11),\n",
    "})\n",
    "\n",
    "print(df3)\n",
    "print()\n",
    "\n",
    "# 輸出 DataFrame df3 資料型態與大小\n",
    "print(df3.info())     \n",
    "print()\n",
    "# 輸出 DataFrame df3 前 3 筆資料\n",
    "print(df3.head(3))    \n",
    "print()\n",
    "# 輸出 DataFrame df3 後 2 筆資料\n",
    "print(df3.tail(2))    \n",
    "print()\n",
    "# 輸出 DataFrame df3 各 column 統計數值\n",
    "print(df3.describe()) \n",
    "print()\n",
    "# 畫出 DataFrame df3 的資料直方圖 (計數)\n",
    "df3.hist()            "
   ]
  },
  {
   "cell_type": "markdown",
   "metadata": {},
   "source": [
    "### 資料前處理（Data Preprocessing）\n",
    "\n",
    "有時後部份資料會遺失或是有誤（例如型態錯誤），這時就必須要進行資料前處理。\n",
    "\n",
    "在 `pandas` 中不存在或遺失的值以 `None` 表示，若資料欄位為浮點數則改用 `numpy.nan` 表示。\n",
    "\n",
    "|函數|意義|\n",
    "|-|-|\n",
    "|`pandas.(DataFrame\\|Series).isna`|列出不存在或遺失的資料|\n",
    "|`pandas.(DataFrame\\|Series).notna`|列出存在的資料|\n",
    "|`pandas.(DataFrame\\|Series).dropna`|去除不存在或遺失的資料|\n",
    "|`pandas.(DataFrame\\|Series).fillna`|對不存在或遺失的資料覆寫指定數值|\n",
    "\n",
    "處理遺失資料的策略為\n",
    "\n",
    "1. 找到遺失的資料\n",
    "2. 若與該資料相同的數值有某些**簡單**或是**可預測**的值，則以**覆寫**遺失值\n",
    "    - 若資料為**數字**，則可以填入**平均值**或是**中位數**\n",
    "    - 若資料為**類別**，則可以填入**出現次數最多的類別**\n",
    "3. 若無法處理，則**丟棄**資料"
   ]
  },
  {
   "cell_type": "code",
   "execution_count": 17,
   "metadata": {},
   "outputs": [
    {
     "name": "stdout",
     "output_type": "stream",
     "text": [
      "        hw1   hw2   hw3  final\n",
      "Alice  90.0  90.0  90.0   90.0\n",
      "Bob    90.0  90.0  90.0   90.0\n",
      "Cindy  90.0   NaN   NaN    NaN\n",
      "Emily   NaN   NaN   NaN    NaN\n",
      "Frank  70.0  70.0  70.0   70.0\n",
      "\n",
      "True 代表 df4 中沒有遺失資料的欄位\n",
      "         hw1    hw2    hw3  final\n",
      "Alice   True   True   True   True\n",
      "Bob     True   True   True   True\n",
      "Cindy   True  False  False  False\n",
      "Emily  False  False  False  False\n",
      "Frank   True   True   True   True\n",
      "\n",
      "True 代表 df4 中遺失資料的欄位\n",
      "         hw1    hw2    hw3  final\n",
      "Alice  False  False  False  False\n",
      "Bob    False  False  False  False\n",
      "Cindy  False   True   True   True\n",
      "Emily   True   True   True   True\n",
      "Frank  False  False  False  False\n",
      "\n"
     ]
    }
   ],
   "source": [
    "# 資料前處理\n",
    "\n",
    "# 宣告 DataFrame 變數\n",
    "df4 = pd.DataFrame(\n",
    "    data={\n",
    "        'hw1': [90, 90, 90, np.nan, 70],\n",
    "        'hw2': [90, 90, np.nan, np.nan, 70],\n",
    "        'hw3': [90, 90, np.nan, np.nan, 70],\n",
    "        'final': [90, 90, np.nan, np.nan, 70],\n",
    "  \t},\n",
    "\tindex=[\n",
    "        'Alice', 'Bob', 'Cindy', 'Emily', 'Frank'\n",
    "    ],\n",
    ")\n",
    "# 輸出 DataFrame df4\n",
    "print(df4)     \n",
    "print()\n",
    "\n",
    "# 找出 DataFrame df4 中沒有遺失資料的欄位\n",
    "print(\"True 代表 df4 中沒有遺失資料的欄位\")\n",
    "print(df4.notna())\n",
    "print()\n",
    "\n",
    "# 找出 DataFrame df4 中遺失資料的欄位\n",
    "print(\"True 代表 df4 中遺失資料的欄位\")\n",
    "print(df4.isna())\n",
    "print()"
   ]
  },
  {
   "cell_type": "code",
   "execution_count": 19,
   "metadata": {},
   "outputs": [
    {
     "name": "stdout",
     "output_type": "stream",
     "text": [
      "        hw1   hw2   hw3  final\n",
      "Alice  90.0  90.0  90.0   90.0\n",
      "Bob    90.0  90.0  90.0   90.0\n",
      "Cindy  90.0   NaN   NaN    NaN\n",
      "Emily   NaN   NaN   NaN    NaN\n",
      "Frank  70.0  70.0  70.0   70.0\n",
      "\n",
      "填入0\n",
      "Alice    90.0\n",
      "Bob      90.0\n",
      "Cindy    90.0\n",
      "Emily     0.0\n",
      "Frank    70.0\n",
      "Name: hw1, dtype: float64\n",
      "\n",
      "填入平均數\n",
      "Alice    90.0\n",
      "Bob      90.0\n",
      "Cindy    90.0\n",
      "Emily    85.0\n",
      "Frank    70.0\n",
      "Name: hw1, dtype: float64\n",
      "\n",
      "移除na\n",
      "Alice    90.0\n",
      "Bob      90.0\n",
      "Frank    70.0\n",
      "Name: final, dtype: float64\n"
     ]
    }
   ],
   "source": [
    "# 輸出 DataFrame df4\n",
    "print(df4)     \n",
    "print()\n",
    "\n",
    "# 對 df4['hw1'] 中遺失的欄位填入0\n",
    "print(\"填入0\")\n",
    "print(df4['hw1'].fillna(0))\n",
    "print()\n",
    "\n",
    "# 對 df4['hw1'] 中遺失的欄位填入0\n",
    "print(\"填入平均數\")\n",
    "print(df4['hw1'].fillna(df4['hw1'].mean()))\n",
    "print()\n",
    "\n",
    "# 移除 df4['final'] 中遺失的欄位\n",
    "print(\"移除na\")\n",
    "print(df4['final'].dropna())"
   ]
  },
  {
   "cell_type": "markdown",
   "metadata": {},
   "source": [
    "### 取得資料（Select Data）\n",
    "\n",
    "使用條件運算子對 `pandas.Series` 進行運算，並回傳 `dtype` 為 `bool` 的 `pandas.Series`。\n",
    "\n",
    "可以進一步在使用回傳的 `pandas.Series` 取出 `pandas.DataFrame` 中的符合條件的資料列（row）。"
   ]
  },
  {
   "cell_type": "code",
   "execution_count": 21,
   "metadata": {
    "scrolled": true
   },
   "outputs": [
    {
     "name": "stdout",
     "output_type": "stream",
     "text": [
      "     name  age sex\n",
      "0   Alice   18   F\n",
      "1    Beth   30   F\n",
      "2    Carl   24   M\n",
      "3  Dennis   40   M\n",
      "\n",
      "0    False\n",
      "1     True\n",
      "2    False\n",
      "3     True\n",
      "Name: age, dtype: bool\n",
      "\n",
      "     name  age sex\n",
      "1    Beth   30   F\n",
      "3  Dennis   40   M\n",
      "\n",
      "0     True\n",
      "1     True\n",
      "2    False\n",
      "3    False\n",
      "Name: sex, dtype: bool\n",
      "\n",
      "    name  age sex\n",
      "0  Alice   18   F\n",
      "1   Beth   30   F\n",
      "\n"
     ]
    }
   ],
   "source": [
    "# 取得資料\n",
    "\n",
    "# 宣告 DataFrame 變數\n",
    "df5 = pd.DataFrame({              \n",
    "    # 名字\n",
    "    'name': ['Alice', 'Beth',\n",
    "             'Carl', 'Dennis'],   \n",
    "    # 年紀\n",
    "    'age': [18, 30, 24, 40],\n",
    "    # 性別\n",
    "    'sex': ['F', 'F', 'M', 'M'],  \n",
    "})\n",
    "\n",
    "print(df5)\n",
    "print()\n",
    "\n",
    "# 找出大於 25 歲的資料\n",
    "print(df5['age'] > 25)            \n",
    "print()\n",
    "# 取出大於 25 歲的資料\n",
    "print(df5[df5['age'] > 25])       \n",
    "print()\n",
    "\n",
    "# 找出性別為女性的資料\n",
    "print(df5['sex'] == 'F')          \n",
    "print()\n",
    "# 取出性別為女性的資料\n",
    "print(df5[df5['sex'] == 'F'])     \n",
    "print()"
   ]
  },
  {
   "cell_type": "code",
   "execution_count": 22,
   "metadata": {},
   "outputs": [
    {
     "name": "stdout",
     "output_type": "stream",
     "text": [
      "     name  age sex\n",
      "0   Alice   18   F\n",
      "1    Beth   30   F\n",
      "2    Carl   24   M\n",
      "3  Dennis   40   M\n",
      "\n",
      "0    False\n",
      "1     True\n",
      "2    False\n",
      "3    False\n",
      "dtype: bool\n",
      "\n",
      "   name  age sex\n",
      "1  Beth   30   F\n"
     ]
    }
   ],
   "source": [
    "print(df5)\n",
    "print()\n",
    "\n",
    "# 找出年紀大於 25 歲且性別為女性的資料\n",
    "print((df5['age'] > 25)           \n",
    "      &\n",
    "      (df5['sex'] == 'F'))\n",
    "print()\n",
    "# 取出年紀大於 25 歲且性別為女性的資料\n",
    "print(df5[                        \n",
    "    (df5['age'] > 25)\n",
    "    &\n",
    "    (df5['sex'] == 'F')\n",
    "])"
   ]
  },
  {
   "cell_type": "markdown",
   "metadata": {},
   "source": [
    "\n",
    "### 資料運算（Data Operation）\n",
    "\n",
    "使用 `pandas` 內建的運算功能進行資料運算，基本上與 `numpy.ndarray` 所提供的功能相同。\n",
    "\n",
    "若需要客制化每一筆資料的運算，則使用 `pandas.(DataFrame|Series).apply`。\n",
    "\n",
    "- `axis=0` 為行（column）方向運算，預設為 `axis=0`\n",
    "- `axis=1` 為列（row）方向運算\n",
    "\n",
    "|函數|意義|\n",
    "|-|-|\n",
    "|`pandas.(DataFrame\\|Series).add`|每筆資料進行加法|\n",
    "|`pandas.(DataFrame\\|Series).sub`|每筆資料進行減法|\n",
    "|`pandas.(DataFrame\\|Series).mul`|每筆資料進行乘法|\n",
    "|`pandas.(DataFrame\\|Series).div`|每筆資料進行除法|\n",
    "|`pandas.(DataFrame\\|Series).max`|取出資料中最大值|\n",
    "|`pandas.(DataFrame\\|Series).min`|取出資料中最小值|\n",
    "|`pandas.Series.argmax`|取出資料中最大值的位置|\n",
    "|`pandas.Series.argmin`|取出資料中最小值的位置|\n",
    "|`pandas.Series.idxmax`|取出資料中最大值的名稱|\n",
    "|`pandas.Series.idxmin`|取出資料中最小值的名稱|\n",
    "|`pandas.(DataFrame\\|Series).mean`|計算平均數|\n",
    "|`pandas.(DataFrame\\|Series).var`|計算變異數|\n",
    "|`pandas.(DataFrame\\|Series).std`|計算標準差|\n",
    "|`pandas.(DataFrame\\|Series).sum`|計算總和|"
   ]
  },
  {
   "cell_type": "code",
   "execution_count": 23,
   "metadata": {},
   "outputs": [
    {
     "name": "stdout",
     "output_type": "stream",
     "text": [
      "                 year  month  date\n",
      "my birthday      1995     10    12\n",
      "a big day        1989      6     4\n",
      "another big day  1947      2    28\n",
      "\n",
      "                 year  month  date\n",
      "my birthday      1998     13    15\n",
      "a big day        1992      9     7\n",
      "another big day  1950      5    31\n",
      "\n",
      "                 year  month  date\n",
      "my birthday      1990      5     7\n",
      "a big day        1984      1    -1\n",
      "another big day  1942     -3    23\n",
      "\n",
      "                  year  month  date\n",
      "my birthday      13965     70    84\n",
      "a big day        13923     42    28\n",
      "another big day  13629     14   196\n",
      "\n",
      "                       year     month      date\n",
      "my birthday      221.666667  1.111111  1.333333\n",
      "a big day        221.000000  0.666667  0.444444\n",
      "another big day  216.333333  0.222222  3.111111\n",
      "\n"
     ]
    }
   ],
   "source": [
    "# 資料運算\n",
    "\n",
    "# 宣告 DataFrame 變數\n",
    "df6 = pd.DataFrame( \n",
    "    {\n",
    "        'year': [1995, 1989, 1947],\n",
    "        'month': [10, 6, 2],\n",
    "        'date': [12, 4, 28],\n",
    "    }, \n",
    "    index=['my birthday', 'a big day', 'another big day']\n",
    ")\n",
    "\n",
    "print(df6)\n",
    "print()\n",
    "\n",
    "# 將 DataFrame df6 中所有數值加 3\n",
    "print(df6.add(3))            \n",
    "print()\n",
    "# 將 DataFrame df6 中所有數值減 5\n",
    "print(df6.sub(5))            \n",
    "print()\n",
    "# 將 DataFrame df6 中所有數值乘 7\n",
    "print(df6.mul(7))            \n",
    "print()\n",
    "# 將 DataFrame df6 中所有數值除 9\n",
    "print(df6.div(9))            \n",
    "print()            "
   ]
  },
  {
   "cell_type": "code",
   "execution_count": 30,
   "metadata": {},
   "outputs": [
    {
     "name": "stdout",
     "output_type": "stream",
     "text": [
      "                 year  month  date\n",
      "my birthday      1995     10    12\n",
      "a big day        1989      6     4\n",
      "another big day  1947      2    28\n",
      "\n",
      "year     1995\n",
      "month      10\n",
      "date       28\n",
      "dtype: int64\n",
      "\n",
      "my birthday        10\n",
      "a big day           4\n",
      "another big day     2\n",
      "dtype: int64\n",
      "\n",
      "0\n",
      "2\n",
      "my birthday\n",
      "a big day\n"
     ]
    }
   ],
   "source": [
    "print(df6)\n",
    "print()\n",
    "\n",
    "# 找出 DataFrame df6 中每一行的最大值\n",
    "print(df6.max())             \n",
    "print()\n",
    "# 找出 DataFrame df6 中每一行的最小值\n",
    "print(df6.min(axis=1))             \n",
    "print()\n",
    "# 找出 Series df6['year'] 中最大值的位置\n",
    "print(df6['year'].argmax())  \n",
    "# 找出 Series df6['month'] 中最小值的位置\n",
    "print(df6['month'].argmin()) \n",
    "# 找出 Series df6['year'] 中最大值的名稱\n",
    "print(df6['year'].idxmax())  \n",
    "# 找出 Series df6['date'] 中最小值的名稱\n",
    "print(df6['date'].idxmin())  "
   ]
  },
  {
   "cell_type": "code",
   "execution_count": 25,
   "metadata": {},
   "outputs": [
    {
     "name": "stdout",
     "output_type": "stream",
     "text": [
      "year     1977.000000\n",
      "month       6.000000\n",
      "date       14.666667\n",
      "dtype: float64\n",
      "\n",
      "year     684.000000\n",
      "month     16.000000\n",
      "date     149.333333\n",
      "dtype: float64\n",
      "\n",
      "year     26.153394\n",
      "month     4.000000\n",
      "date     12.220202\n",
      "dtype: float64\n",
      "\n",
      "year     5931\n",
      "month      18\n",
      "date       44\n",
      "dtype: int64\n"
     ]
    }
   ],
   "source": [
    "# 計算 DataFrame df6 中每一行的平均值\n",
    "print(df6.mean())            \n",
    "print()\n",
    "# 計算 DataFrame df6 中每一行的變異數\n",
    "print(df6.var())             \n",
    "print()\n",
    "# 計算 DataFrame df6 中每一行的標準差\n",
    "print(df6.std())             \n",
    "print()\n",
    "# 計算 DataFrame df6 中每一行的總和\n",
    "print(df6.sum()) "
   ]
  },
  {
   "cell_type": "markdown",
   "metadata": {},
   "source": [
    "### 迭代操作\n",
    "\n",
    "|函數|意義|對象|\n",
    "|-|-|-|\n",
    "|[map](https://pandas.pydata.org/docs/reference/api/pandas.Series.map.html)|對每個 row 進行映射 (map) 操作|`pd.Series`|\n",
    "|[apply](https://pandas.pydata.org/docs/reference/api/pandas.DataFrame.apply.html)|對每個 row (axis=1) 或 column (axis=0) 進行函數 (function) 操作|`pd.Series` or `pd.DataFrame`|\n",
    "|[applymap](https://pandas.pydata.org/docs/reference/api/pandas.DataFrame.applymap.html)|對每個 element 進行函數 (function) 操作|`pd.DataFrame`|"
   ]
  },
  {
   "cell_type": "code",
   "execution_count": 26,
   "metadata": {},
   "outputs": [
    {
     "name": "stdout",
     "output_type": "stream",
     "text": [
      "     name  age sex\n",
      "0   Alice   18   F\n",
      "1    Beth   30   F\n",
      "2    Carl   24   M\n",
      "3  Dennis   40   M\n",
      "\n",
      "0    2005\n",
      "1    1993\n",
      "2    1999\n",
      "3    1983\n",
      "Name: age, dtype: int64\n",
      "\n",
      "0    female\n",
      "1    female\n",
      "2      male\n",
      "3      male\n",
      "Name: sex, dtype: object\n",
      "\n",
      "0    female\n",
      "1    female\n",
      "2      male\n",
      "3      male\n",
      "Name: sex, dtype: object\n",
      "\n",
      "0    Alice is a female and was born at 2005.\n",
      "1     Beth is a female and was born at 1993.\n",
      "2       Carl is a male and was born at 1999.\n",
      "3     Dennis is a male and was born at 1983.\n",
      "dtype: object\n"
     ]
    }
   ],
   "source": [
    "# 迭代操作 (map and apply)\n",
    "\n",
    "import datetime\n",
    "\n",
    "# 宣告 DataFrame 變數\n",
    "df7 = pd.DataFrame({                \n",
    "    # 名字\n",
    "    'name': ['Alice', 'Beth',\n",
    "             'Carl', 'Dennis'],     \n",
    "    # 年紀\n",
    "    'age': [18, 30, 24, 40],        \n",
    "    # 性別\n",
    "    'sex': ['F', 'F', 'M', 'M'],    \n",
    "})\n",
    "\n",
    "# 宣告字典轉換\n",
    "id_words = {\n",
    "    'F': 'female',\n",
    "    'M': 'male'\n",
    "}\n",
    "\n",
    "# 計算出生西元年\n",
    "def birth_year(age: int) -> int:\n",
    "    return datetime.date.today().year - age\n",
    "\n",
    "# 根據性別輸出 Female 或 Male\n",
    "def sex_str(sex: str) -> str:                   \n",
    "    return 'female' if sex == 'F' else 'male'\n",
    "\n",
    "# 將資料轉換成可閱讀的資訊\n",
    "def info_str(row: pd.Series) -> str:\n",
    "    return '{} is a {} and was born at {}.'.format(\n",
    "        row['name'],\n",
    "        sex_str(row['sex']),\n",
    "        birth_year(row['age'])\n",
    "    )\n",
    "\n",
    "print(df7)\n",
    "print()\n",
    "\n",
    "# 輸出出生西元年\n",
    "print(df7['age'].apply(birth_year)) \n",
    "print()\n",
    "# 輸出性別\n",
    "print(df7['sex'].map(sex_str))    \n",
    "print()\n",
    "print(df7['sex'].map(id_words))    \n",
    "print()\n",
    "# 輸出可閱讀的資訊\n",
    "print(df7.apply(info_str, axis=1))"
   ]
  },
  {
   "cell_type": "code",
   "execution_count": 27,
   "metadata": {},
   "outputs": [
    {
     "name": "stdout",
     "output_type": "stream",
     "text": [
      "       0      1\n",
      "0  1.000  2.120\n",
      "1  3.356  4.567\n",
      "\n",
      "       0      1\n",
      "0  2.000  3.120\n",
      "1  4.356  5.567\n"
     ]
    }
   ],
   "source": [
    "# 迭代操作 (applymap)\n",
    "\n",
    "# 宣告 DataFrame 變數\n",
    "df8 = pd.DataFrame([[1, 2.12], [3.356, 4.567]])\n",
    "\n",
    "print(df8)\n",
    "print()\n",
    "\n",
    "# 使用 applymap, lambda 進行 element-wise operations\n",
    "print(df8.applymap(lambda x: x+1))"
   ]
  },
  {
   "cell_type": "markdown",
   "metadata": {},
   "source": [
    "## 讀取資料\n",
    "\n",
    "使用 `pandas.read_*` 進行讀取特定資料格式，同時支援輸出部份格式：\n",
    "\n",
    "|格式|讀取函數|輸出函數|\n",
    "|-|-|-|\n",
    "|CSV|`pandas.read_csv`|`pandas.to_csv`|\n",
    "|JSON|`pandas.read_json`|`pandas.to_json`|\n",
    "|HTML|`pandas.read_html`|`pandas.to_html`|\n",
    "|Excel|`pandas.read_excel`|`pandas.to_excel`|\n",
    "|SQL|`pandas.read_sql`|`pandas.to_sql`|\n",
    "|pickle|`pandas.read_pickle`|`pandas.to_pickle`|\n",
    "|Google BigQuery|`pandas.read_gbq`|`pandas.to_gbq`|\n",
    "\n",
    "### 資料集\n",
    "\n",
    "本教學使用[台南氣象觀測站（467410）](https://e-service.cwb.gov.tw/HistoryDataQuery/MonthDataController.do?command=viewMain&station=467410&stname=%25E8%2587%25BA%25E5%258D%2597&datepicker=2020-03)所提供的資料，觀測時間為 2022 年 2 月。\n",
    "\n",
    "請將檔案下載並放置於 `course_material/data` 資料夾底下，檔案名稱為 `467410-2022-02.csv`。"
   ]
  },
  {
   "cell_type": "code",
   "execution_count": 15,
   "metadata": {},
   "outputs": [
    {
     "ename": "FileNotFoundError",
     "evalue": "[Errno 2] No such file or directory: './data/467410-2022-02.csv'",
     "output_type": "error",
     "traceback": [
      "\u001b[0;31m---------------------------------------------------------------------------\u001b[0m",
      "\u001b[0;31mFileNotFoundError\u001b[0m                         Traceback (most recent call last)",
      "\u001b[1;32m/home/hedy881028/course_material/pandas-基本功能.ipynb Cell 30\u001b[0m in \u001b[0;36m4\n\u001b[1;32m      <a href='vscode-notebook-cell:/home/hedy881028/course_material/pandas-%E5%9F%BA%E6%9C%AC%E5%8A%9F%E8%83%BD.ipynb#X41sZmlsZQ%3D%3D?line=0'>1</a>\u001b[0m \u001b[39m# 讀取資料\u001b[39;00m\n\u001b[1;32m      <a href='vscode-notebook-cell:/home/hedy881028/course_material/pandas-%E5%9F%BA%E6%9C%AC%E5%8A%9F%E8%83%BD.ipynb#X41sZmlsZQ%3D%3D?line=1'>2</a>\u001b[0m \u001b[39m# 資料中第一列（row）為中文欄位名稱，第二列為英文欄位名稱\u001b[39;00m\n\u001b[1;32m      <a href='vscode-notebook-cell:/home/hedy881028/course_material/pandas-%E5%9F%BA%E6%9C%AC%E5%8A%9F%E8%83%BD.ipynb#X41sZmlsZQ%3D%3D?line=2'>3</a>\u001b[0m \u001b[39m# 我們選擇使用英文欄位名稱進行操作\u001b[39;00m\n\u001b[0;32m----> <a href='vscode-notebook-cell:/home/hedy881028/course_material/pandas-%E5%9F%BA%E6%9C%AC%E5%8A%9F%E8%83%BD.ipynb#X41sZmlsZQ%3D%3D?line=3'>4</a>\u001b[0m df9 \u001b[39m=\u001b[39m pd\u001b[39m.\u001b[39;49mread_csv(\u001b[39m'\u001b[39;49m\u001b[39m./data/467410-2022-02.csv\u001b[39;49m\u001b[39m'\u001b[39;49m, skiprows\u001b[39m=\u001b[39;49m\u001b[39m1\u001b[39;49m)\n\u001b[1;32m      <a href='vscode-notebook-cell:/home/hedy881028/course_material/pandas-%E5%9F%BA%E6%9C%AC%E5%8A%9F%E8%83%BD.ipynb#X41sZmlsZQ%3D%3D?line=5'>6</a>\u001b[0m df9\u001b[39m.\u001b[39minfo() \n",
      "File \u001b[0;32m~/.local/lib/python3.10/site-packages/pandas/util/_decorators.py:211\u001b[0m, in \u001b[0;36mdeprecate_kwarg.<locals>._deprecate_kwarg.<locals>.wrapper\u001b[0;34m(*args, **kwargs)\u001b[0m\n\u001b[1;32m    209\u001b[0m     \u001b[39melse\u001b[39;00m:\n\u001b[1;32m    210\u001b[0m         kwargs[new_arg_name] \u001b[39m=\u001b[39m new_arg_value\n\u001b[0;32m--> 211\u001b[0m \u001b[39mreturn\u001b[39;00m func(\u001b[39m*\u001b[39;49margs, \u001b[39m*\u001b[39;49m\u001b[39m*\u001b[39;49mkwargs)\n",
      "File \u001b[0;32m~/.local/lib/python3.10/site-packages/pandas/util/_decorators.py:331\u001b[0m, in \u001b[0;36mdeprecate_nonkeyword_arguments.<locals>.decorate.<locals>.wrapper\u001b[0;34m(*args, **kwargs)\u001b[0m\n\u001b[1;32m    325\u001b[0m \u001b[39mif\u001b[39;00m \u001b[39mlen\u001b[39m(args) \u001b[39m>\u001b[39m num_allow_args:\n\u001b[1;32m    326\u001b[0m     warnings\u001b[39m.\u001b[39mwarn(\n\u001b[1;32m    327\u001b[0m         msg\u001b[39m.\u001b[39mformat(arguments\u001b[39m=\u001b[39m_format_argument_list(allow_args)),\n\u001b[1;32m    328\u001b[0m         \u001b[39mFutureWarning\u001b[39;00m,\n\u001b[1;32m    329\u001b[0m         stacklevel\u001b[39m=\u001b[39mfind_stack_level(),\n\u001b[1;32m    330\u001b[0m     )\n\u001b[0;32m--> 331\u001b[0m \u001b[39mreturn\u001b[39;00m func(\u001b[39m*\u001b[39;49margs, \u001b[39m*\u001b[39;49m\u001b[39m*\u001b[39;49mkwargs)\n",
      "File \u001b[0;32m~/.local/lib/python3.10/site-packages/pandas/io/parsers/readers.py:950\u001b[0m, in \u001b[0;36mread_csv\u001b[0;34m(filepath_or_buffer, sep, delimiter, header, names, index_col, usecols, squeeze, prefix, mangle_dupe_cols, dtype, engine, converters, true_values, false_values, skipinitialspace, skiprows, skipfooter, nrows, na_values, keep_default_na, na_filter, verbose, skip_blank_lines, parse_dates, infer_datetime_format, keep_date_col, date_parser, dayfirst, cache_dates, iterator, chunksize, compression, thousands, decimal, lineterminator, quotechar, quoting, doublequote, escapechar, comment, encoding, encoding_errors, dialect, error_bad_lines, warn_bad_lines, on_bad_lines, delim_whitespace, low_memory, memory_map, float_precision, storage_options)\u001b[0m\n\u001b[1;32m    935\u001b[0m kwds_defaults \u001b[39m=\u001b[39m _refine_defaults_read(\n\u001b[1;32m    936\u001b[0m     dialect,\n\u001b[1;32m    937\u001b[0m     delimiter,\n\u001b[0;32m   (...)\u001b[0m\n\u001b[1;32m    946\u001b[0m     defaults\u001b[39m=\u001b[39m{\u001b[39m\"\u001b[39m\u001b[39mdelimiter\u001b[39m\u001b[39m\"\u001b[39m: \u001b[39m\"\u001b[39m\u001b[39m,\u001b[39m\u001b[39m\"\u001b[39m},\n\u001b[1;32m    947\u001b[0m )\n\u001b[1;32m    948\u001b[0m kwds\u001b[39m.\u001b[39mupdate(kwds_defaults)\n\u001b[0;32m--> 950\u001b[0m \u001b[39mreturn\u001b[39;00m _read(filepath_or_buffer, kwds)\n",
      "File \u001b[0;32m~/.local/lib/python3.10/site-packages/pandas/io/parsers/readers.py:605\u001b[0m, in \u001b[0;36m_read\u001b[0;34m(filepath_or_buffer, kwds)\u001b[0m\n\u001b[1;32m    602\u001b[0m _validate_names(kwds\u001b[39m.\u001b[39mget(\u001b[39m\"\u001b[39m\u001b[39mnames\u001b[39m\u001b[39m\"\u001b[39m, \u001b[39mNone\u001b[39;00m))\n\u001b[1;32m    604\u001b[0m \u001b[39m# Create the parser.\u001b[39;00m\n\u001b[0;32m--> 605\u001b[0m parser \u001b[39m=\u001b[39m TextFileReader(filepath_or_buffer, \u001b[39m*\u001b[39;49m\u001b[39m*\u001b[39;49mkwds)\n\u001b[1;32m    607\u001b[0m \u001b[39mif\u001b[39;00m chunksize \u001b[39mor\u001b[39;00m iterator:\n\u001b[1;32m    608\u001b[0m     \u001b[39mreturn\u001b[39;00m parser\n",
      "File \u001b[0;32m~/.local/lib/python3.10/site-packages/pandas/io/parsers/readers.py:1442\u001b[0m, in \u001b[0;36mTextFileReader.__init__\u001b[0;34m(self, f, engine, **kwds)\u001b[0m\n\u001b[1;32m   1439\u001b[0m     \u001b[39mself\u001b[39m\u001b[39m.\u001b[39moptions[\u001b[39m\"\u001b[39m\u001b[39mhas_index_names\u001b[39m\u001b[39m\"\u001b[39m] \u001b[39m=\u001b[39m kwds[\u001b[39m\"\u001b[39m\u001b[39mhas_index_names\u001b[39m\u001b[39m\"\u001b[39m]\n\u001b[1;32m   1441\u001b[0m \u001b[39mself\u001b[39m\u001b[39m.\u001b[39mhandles: IOHandles \u001b[39m|\u001b[39m \u001b[39mNone\u001b[39;00m \u001b[39m=\u001b[39m \u001b[39mNone\u001b[39;00m\n\u001b[0;32m-> 1442\u001b[0m \u001b[39mself\u001b[39m\u001b[39m.\u001b[39m_engine \u001b[39m=\u001b[39m \u001b[39mself\u001b[39;49m\u001b[39m.\u001b[39;49m_make_engine(f, \u001b[39mself\u001b[39;49m\u001b[39m.\u001b[39;49mengine)\n",
      "File \u001b[0;32m~/.local/lib/python3.10/site-packages/pandas/io/parsers/readers.py:1735\u001b[0m, in \u001b[0;36mTextFileReader._make_engine\u001b[0;34m(self, f, engine)\u001b[0m\n\u001b[1;32m   1733\u001b[0m     \u001b[39mif\u001b[39;00m \u001b[39m\"\u001b[39m\u001b[39mb\u001b[39m\u001b[39m\"\u001b[39m \u001b[39mnot\u001b[39;00m \u001b[39min\u001b[39;00m mode:\n\u001b[1;32m   1734\u001b[0m         mode \u001b[39m+\u001b[39m\u001b[39m=\u001b[39m \u001b[39m\"\u001b[39m\u001b[39mb\u001b[39m\u001b[39m\"\u001b[39m\n\u001b[0;32m-> 1735\u001b[0m \u001b[39mself\u001b[39m\u001b[39m.\u001b[39mhandles \u001b[39m=\u001b[39m get_handle(\n\u001b[1;32m   1736\u001b[0m     f,\n\u001b[1;32m   1737\u001b[0m     mode,\n\u001b[1;32m   1738\u001b[0m     encoding\u001b[39m=\u001b[39;49m\u001b[39mself\u001b[39;49m\u001b[39m.\u001b[39;49moptions\u001b[39m.\u001b[39;49mget(\u001b[39m\"\u001b[39;49m\u001b[39mencoding\u001b[39;49m\u001b[39m\"\u001b[39;49m, \u001b[39mNone\u001b[39;49;00m),\n\u001b[1;32m   1739\u001b[0m     compression\u001b[39m=\u001b[39;49m\u001b[39mself\u001b[39;49m\u001b[39m.\u001b[39;49moptions\u001b[39m.\u001b[39;49mget(\u001b[39m\"\u001b[39;49m\u001b[39mcompression\u001b[39;49m\u001b[39m\"\u001b[39;49m, \u001b[39mNone\u001b[39;49;00m),\n\u001b[1;32m   1740\u001b[0m     memory_map\u001b[39m=\u001b[39;49m\u001b[39mself\u001b[39;49m\u001b[39m.\u001b[39;49moptions\u001b[39m.\u001b[39;49mget(\u001b[39m\"\u001b[39;49m\u001b[39mmemory_map\u001b[39;49m\u001b[39m\"\u001b[39;49m, \u001b[39mFalse\u001b[39;49;00m),\n\u001b[1;32m   1741\u001b[0m     is_text\u001b[39m=\u001b[39;49mis_text,\n\u001b[1;32m   1742\u001b[0m     errors\u001b[39m=\u001b[39;49m\u001b[39mself\u001b[39;49m\u001b[39m.\u001b[39;49moptions\u001b[39m.\u001b[39;49mget(\u001b[39m\"\u001b[39;49m\u001b[39mencoding_errors\u001b[39;49m\u001b[39m\"\u001b[39;49m, \u001b[39m\"\u001b[39;49m\u001b[39mstrict\u001b[39;49m\u001b[39m\"\u001b[39;49m),\n\u001b[1;32m   1743\u001b[0m     storage_options\u001b[39m=\u001b[39;49m\u001b[39mself\u001b[39;49m\u001b[39m.\u001b[39;49moptions\u001b[39m.\u001b[39;49mget(\u001b[39m\"\u001b[39;49m\u001b[39mstorage_options\u001b[39;49m\u001b[39m\"\u001b[39;49m, \u001b[39mNone\u001b[39;49;00m),\n\u001b[1;32m   1744\u001b[0m )\n\u001b[1;32m   1745\u001b[0m \u001b[39massert\u001b[39;00m \u001b[39mself\u001b[39m\u001b[39m.\u001b[39mhandles \u001b[39mis\u001b[39;00m \u001b[39mnot\u001b[39;00m \u001b[39mNone\u001b[39;00m\n\u001b[1;32m   1746\u001b[0m f \u001b[39m=\u001b[39m \u001b[39mself\u001b[39m\u001b[39m.\u001b[39mhandles\u001b[39m.\u001b[39mhandle\n",
      "File \u001b[0;32m~/.local/lib/python3.10/site-packages/pandas/io/common.py:856\u001b[0m, in \u001b[0;36mget_handle\u001b[0;34m(path_or_buf, mode, encoding, compression, memory_map, is_text, errors, storage_options)\u001b[0m\n\u001b[1;32m    851\u001b[0m \u001b[39melif\u001b[39;00m \u001b[39misinstance\u001b[39m(handle, \u001b[39mstr\u001b[39m):\n\u001b[1;32m    852\u001b[0m     \u001b[39m# Check whether the filename is to be opened in binary mode.\u001b[39;00m\n\u001b[1;32m    853\u001b[0m     \u001b[39m# Binary mode does not support 'encoding' and 'newline'.\u001b[39;00m\n\u001b[1;32m    854\u001b[0m     \u001b[39mif\u001b[39;00m ioargs\u001b[39m.\u001b[39mencoding \u001b[39mand\u001b[39;00m \u001b[39m\"\u001b[39m\u001b[39mb\u001b[39m\u001b[39m\"\u001b[39m \u001b[39mnot\u001b[39;00m \u001b[39min\u001b[39;00m ioargs\u001b[39m.\u001b[39mmode:\n\u001b[1;32m    855\u001b[0m         \u001b[39m# Encoding\u001b[39;00m\n\u001b[0;32m--> 856\u001b[0m         handle \u001b[39m=\u001b[39m \u001b[39mopen\u001b[39;49m(\n\u001b[1;32m    857\u001b[0m             handle,\n\u001b[1;32m    858\u001b[0m             ioargs\u001b[39m.\u001b[39;49mmode,\n\u001b[1;32m    859\u001b[0m             encoding\u001b[39m=\u001b[39;49mioargs\u001b[39m.\u001b[39;49mencoding,\n\u001b[1;32m    860\u001b[0m             errors\u001b[39m=\u001b[39;49merrors,\n\u001b[1;32m    861\u001b[0m             newline\u001b[39m=\u001b[39;49m\u001b[39m\"\u001b[39;49m\u001b[39m\"\u001b[39;49m,\n\u001b[1;32m    862\u001b[0m         )\n\u001b[1;32m    863\u001b[0m     \u001b[39melse\u001b[39;00m:\n\u001b[1;32m    864\u001b[0m         \u001b[39m# Binary mode\u001b[39;00m\n\u001b[1;32m    865\u001b[0m         handle \u001b[39m=\u001b[39m \u001b[39mopen\u001b[39m(handle, ioargs\u001b[39m.\u001b[39mmode)\n",
      "\u001b[0;31mFileNotFoundError\u001b[0m: [Errno 2] No such file or directory: './data/467410-2022-02.csv'"
     ]
    }
   ],
   "source": [
    "# 讀取資料\n",
    "# 資料中第一列（row）為中文欄位名稱，第二列為英文欄位名稱\n",
    "# 我們選擇使用英文欄位名稱進行操作\n",
    "df9 = pd.read_csv('./data/467410-2022-02.csv', skiprows=1)\n",
    "\n",
    "df9.info() "
   ]
  },
  {
   "cell_type": "code",
   "execution_count": null,
   "metadata": {},
   "outputs": [],
   "source": [
    "# 輸出統計資訊\n",
    "df9.describe()"
   ]
  },
  {
   "cell_type": "code",
   "execution_count": null,
   "metadata": {},
   "outputs": [],
   "source": [
    "# 輸出最高溫\n",
    "print(df9.describe()['Temperature']['max'])\n",
    "# 輸出最高溫\n",
    "print(df9.describe()['Temperature']['min'])\n",
    "# 輸出平均溫度\n",
    "print(df9.describe()['Temperature']['mean'])"
   ]
  },
  {
   "cell_type": "code",
   "execution_count": null,
   "metadata": {},
   "outputs": [],
   "source": [
    "# 畫出氣溫分佈\n",
    "print(df9['Temperature'].hist())"
   ]
  },
  {
   "cell_type": "markdown",
   "metadata": {},
   "source": [
    "## 練習\n",
    "\n",
    "### 練習 1\n",
    "\n",
    "將台南氣象觀測站資料集所有氣溫從攝氏溫度標準轉成華氏溫度標準：\n",
    "\n",
    "$$\n",
    "F = \\frac{9}{5} * C + 32\n",
    "$$\n",
    "\n",
    "### 練習 2\n",
    "\n",
    "從台南氣象觀測站資料集中取出高於平均氣溫的資料欄位，並輸出高於平均氣溫總共天數。"
   ]
  },
  {
   "cell_type": "code",
   "execution_count": null,
   "metadata": {},
   "outputs": [],
   "source": [
    "# 練習 1 解答\n",
    "\n",
    "# 溫度轉換公式\n",
    "c2f = lambda t: t*9/5+32\n",
    "\n",
    "# 讀取資料\n",
    "df9 = pd.read_csv('./data/467410-2022-02.csv', skiprows=1)        \n",
    "\n",
    "# 套用公式到所有溫度資料\n",
    "df9['Temperature'] = df9['Temperature'].apply(c2f) \n",
    "# 套用公式到所有溫度資料\n",
    "df9['T Max'] = df9['T Max'].apply(c2f)\n",
    "# 套用公式到所有溫度資料\n",
    "df9['T Min'] = df9['T Min'].apply(c2f)\n",
    "\n",
    "# 輸出前 5 筆資料\n",
    "df9.head(5)                                           "
   ]
  },
  {
   "cell_type": "code",
   "execution_count": null,
   "metadata": {},
   "outputs": [],
   "source": [
    "# 練習 2 解答\n",
    "\n",
    "# 讀取資料\n",
    "df9 = pd.read_csv('./data/467410-2022-02.csv', skiprows=1)        \n",
    "\n",
    "# 計算平均氣溫\n",
    "mean_temp = df9.describe()['Temperature']['mean'] \n",
    "# 取出大於平均氣溫的資料\n",
    "df9 = df9[df9['Temperature'] > mean_temp]       \n",
    "# 輸出資料數\n",
    "print(df9.shape[0])                               "
   ]
  }
 ],
 "metadata": {
  "kernelspec": {
   "display_name": "Python 3",
   "language": "python",
   "name": "python3"
  },
  "language_info": {
   "codemirror_mode": {
    "name": "ipython",
    "version": 3
   },
   "file_extension": ".py",
   "mimetype": "text/x-python",
   "name": "python",
   "nbconvert_exporter": "python",
   "pygments_lexer": "ipython3",
   "version": "3.8.16"
  }
 },
 "nbformat": 4,
 "nbformat_minor": 4
}
