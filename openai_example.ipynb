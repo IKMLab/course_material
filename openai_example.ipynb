{
  "cells": [
    {
      "attachments": {},
      "cell_type": "markdown",
      "metadata": {
        "id": "Rho_TiLvdJxq"
      },
      "source": [
        "# OpenAI API 使用範例\n",
        "## 教學目標\n",
        "- 使用 Python 語法來透過 OpenAI API 呼叫 OpenAI 模型\n",
        "- 首先需要到此取得你的 API https://platform.openai.com/api-keys\n",
        "## 參考資料\n",
        "- [OpenAI Cookbook](https://github.com/openai/openai-cookbook)\n",
        "- [OpenAI Cookbook - How to format inputs_to ChatGPT models](https://github.com/openai/openai-cookbook/blob/main/examples/How_to_format_inputs_to_ChatGPT_models.ipynb)\n",
        "- [OpenAI API Models](https://platform.openai.com/docs/models)"
      ]
    },
    {
      "attachments": {},
      "cell_type": "markdown",
      "metadata": {
        "id": "F-e6J5qxePfP"
      },
      "source": [
        "## 安裝\n",
        "透過 `pip` 來安裝 `openai` 函式庫"
      ]
    },
    {
      "cell_type": "code",
      "execution_count": 1,
      "metadata": {
        "colab": {
          "base_uri": "https://localhost:8080/"
        },
        "id": "UIiYYL1zdJEb",
        "outputId": "14655cec-abf9-4971-fb4a-32df6ccbf0af"
      },
      "outputs": [
        {
          "name": "stdout",
          "output_type": "stream",
          "text": [
            "Requirement already satisfied: openai in /usr/local/lib/python3.10/dist-packages (1.2.4)\n",
            "Requirement already satisfied: anyio<4,>=3.5.0 in /usr/local/lib/python3.10/dist-packages (from openai) (3.7.1)\n",
            "Requirement already satisfied: distro<2,>=1.7.0 in /usr/lib/python3/dist-packages (from openai) (1.7.0)\n",
            "Requirement already satisfied: httpx<1,>=0.23.0 in /usr/local/lib/python3.10/dist-packages (from openai) (0.25.1)\n",
            "Requirement already satisfied: pydantic<3,>=1.9.0 in /usr/local/lib/python3.10/dist-packages (from openai) (1.10.13)\n",
            "Requirement already satisfied: tqdm>4 in /usr/local/lib/python3.10/dist-packages (from openai) (4.66.1)\n",
            "Requirement already satisfied: typing-extensions<5,>=4.5 in /usr/local/lib/python3.10/dist-packages (from openai) (4.5.0)\n",
            "Requirement already satisfied: idna>=2.8 in /usr/local/lib/python3.10/dist-packages (from anyio<4,>=3.5.0->openai) (3.4)\n",
            "Requirement already satisfied: sniffio>=1.1 in /usr/local/lib/python3.10/dist-packages (from anyio<4,>=3.5.0->openai) (1.3.0)\n",
            "Requirement already satisfied: exceptiongroup in /usr/local/lib/python3.10/dist-packages (from anyio<4,>=3.5.0->openai) (1.1.3)\n",
            "Requirement already satisfied: certifi in /usr/local/lib/python3.10/dist-packages (from httpx<1,>=0.23.0->openai) (2023.7.22)\n",
            "Requirement already satisfied: httpcore in /usr/local/lib/python3.10/dist-packages (from httpx<1,>=0.23.0->openai) (1.0.2)\n",
            "Requirement already satisfied: h11<0.15,>=0.13 in /usr/local/lib/python3.10/dist-packages (from httpcore->httpx<1,>=0.23.0->openai) (0.14.0)\n"
          ]
        }
      ],
      "source": [
        "!pip install openai"
      ]
    },
    {
      "cell_type": "code",
      "execution_count": 2,
      "metadata": {
        "id": "hCNKImhgc4tn"
      },
      "outputs": [],
      "source": [
        "from openai import OpenAI\n",
        "my_api_key = \"在這邊輸入你的 API\""
      ]
    },
    {
      "cell_type": "code",
      "execution_count": 3,
      "metadata": {
        "id": "cY8cfnIYhqyM"
      },
      "outputs": [],
      "source": [
        "from tenacity import (\n",
        "    retry,\n",
        "    stop_after_attempt,\n",
        "    wait_random_exponential,\n",
        ")\n",
        "import logging\n",
        "logger = logging.getLogger('my_logger')"
      ]
    },
    {
      "cell_type": "code",
      "execution_count": 4,
      "metadata": {
        "id": "sb1Vbmb2h8Mz"
      },
      "outputs": [],
      "source": [
        "import os\n",
        "\n",
        "# 建立 logs 資料夾來儲存 OpenAI 的輸出\n",
        "os.mkdir(\"logs\")\n",
        "LOG_PATH = \"logs/chatgpt.txt\""
      ]
    },
    {
      "cell_type": "code",
      "execution_count": 5,
      "metadata": {
        "id": "Wjn_T0Dej6lW"
      },
      "outputs": [],
      "source": [
        "client = OpenAI(api_key=my_api_key)"
      ]
    },
    {
      "attachments": {},
      "cell_type": "markdown",
      "metadata": {
        "id": "a_-JTGXUt4NK"
      },
      "source": [
        "## 在輸入時給予沒有給範例\n",
        "- 僅單純給予 prompt"
      ]
    },
    {
      "cell_type": "code",
      "execution_count": 6,
      "metadata": {
        "id": "y22hlV_XgF5H"
      },
      "outputs": [],
      "source": [
        "# Use tenacity to retry the API call\n",
        "# 基本上 @retry 這行不會需要被改變\n",
        "@retry(wait=wait_random_exponential(min=1, max=60), stop=stop_after_attempt(6))\n",
        "def completion_with_backoff(message: str, temperature: int):\n",
        "    response = client.chat.completions.create(\n",
        "        model=\"gpt-4\", # 可選擇任意 OpenAI 的模型\n",
        "        messages=[\n",
        "            {\n",
        "                \"role\": \"system\",\n",
        "                # content 的內容可以自行根據任務性質來進行調整\n",
        "                \"content\": \"You are a professional NLP scientist who has published numerous research papers.\",\n",
        "            },\n",
        "            {\"role\": \"user\", \"content\": message},\n",
        "        ],\n",
        "        temperature=temperature,\n",
        "    )\n",
        "    return response"
      ]
    },
    {
      "cell_type": "code",
      "execution_count": 7,
      "metadata": {
        "id": "T6NxaY4rgnJe"
      },
      "outputs": [],
      "source": [
        "message = \"Please explain BERT for me like a five year old child.\"\n",
        "response = completion_with_backoff(message, temperature=0)"
      ]
    },
    {
      "cell_type": "code",
      "execution_count": 8,
      "metadata": {
        "colab": {
          "base_uri": "https://localhost:8080/"
        },
        "id": "bDut576InrlB",
        "outputId": "f923869f-f78f-4064-e800-5019e40284c4"
      },
      "outputs": [
        {
          "name": "stdout",
          "output_type": "stream",
          "text": [
            "('id', 'chatcmpl-8Ki1ZS9miOPQn6sHhass9Ahp5bzsJ')\n",
            "('choices', [Choice(finish_reason='stop', index=0, message=ChatCompletionMessage(content='Sure, imagine you have a big box of toys, but they are all mixed up. You don\\'t know which toy is which, and you can\\'t play properly. Now, imagine you have a super toy-organizer robot. This robot doesn\\'t just organize your toys based on their color or size, but it also understands which toys you like to play with together, like your toy cars with your toy garage, or your action figures with your toy castle. \\n\\nBERT is like that super toy-organizer robot, but for words and sentences. It doesn\\'t just look at words on their own, but it also understands how words relate to each other in a sentence. It can understand that in the sentence \"He went to the bank\", the word \"bank\" is a place where money is kept, not the side of a river, because of the other words in the sentence. This helps BERT to understand language much better, and it can help us with things like translating languages, answering questions, or even writing stories!', role='assistant', function_call=None, tool_calls=None))])\n",
            "('created', 1699946481)\n",
            "('model', 'gpt-4-0613')\n",
            "('object', 'chat.completion')\n",
            "('system_fingerprint', None)\n",
            "('usage', CompletionUsage(completion_tokens=208, prompt_tokens=38, total_tokens=246))\n"
          ]
        }
      ],
      "source": [
        "# 觀察 response 的內容\n",
        "\n",
        "for item in response:\n",
        "    print(item)"
      ]
    },
    {
      "cell_type": "code",
      "execution_count": 9,
      "metadata": {
        "id": "Ja2QJSZ0leZG"
      },
      "outputs": [],
      "source": [
        "output = response.choices[0].message.content\n",
        "logging.info(output)\n",
        "logging.info(\"=\" * 30)"
      ]
    },
    {
      "attachments": {},
      "cell_type": "markdown",
      "metadata": {
        "id": "yMGaZQFVtJbF"
      },
      "source": [
        "## 在輸入時給予少量範例\n",
        "- 又稱做 few-shot 或 In-context Learning\n",
        "- 本範例以 `role_play` 變數進行舉例\n",
        "- `role_play` 中包含三組範例，分別有我希望 GPT 回答的輸出\n",
        "- 如果希望 GPT 的輸出帶有一定格式，如 `role_play` 中我希望輸出有 《 》，則建議以此方式給予模型輸入。"
      ]
    },
    {
      "cell_type": "code",
      "execution_count": 10,
      "metadata": {
        "id": "Ume1_76DhBwJ"
      },
      "outputs": [],
      "source": [
        "@retry(wait=wait_random_exponential(min=1, max=60), stop=stop_after_attempt(6))\n",
        "def completion_with_backoff(message: str, temperature: int):\n",
        "\n",
        "    role_play = (\n",
        "        \"你現在是一個維基百科搜索引擎，我給你的輸入是一段簡短的敘述，這段敘述可能是不正確的，請幫我判斷該敘述的主詞，並輸出與該主詞最接近的維基百科文章名稱。\"\n",
        "        + '範例1，輸入：\"天衛三軌道在天王星內部的磁層，以《 仲夏夜之夢 》作者緹坦妮雅命名。\"'\n",
        "        + '輸出：\"《天衛三》\"。'\n",
        "        + '範例2，輸入：\"信天翁科的活動範圍位於北冰洋以及南太平洋，牠的翼展可達到3.7米，是世界上現存的翼展最大的鳥類。\"'\n",
        "        + '輸出：\"《信天翁科》\"。'\n",
        "        + '範例3，輸入：\"南京大學附屬中學，從中國江蘇省遷移。\"'\n",
        "        + '輸出：\"《南大附中》\"。'\n",
        "    )\n",
        "\n",
        "    response = client.chat.completions.create(\n",
        "        model=\"gpt-4\",\n",
        "        messages=[\n",
        "            {\n",
        "                \"role\": \"system\",\n",
        "                \"content\": role_play,\n",
        "            },\n",
        "            {\"role\": \"user\", \"content\": message},\n",
        "        ],\n",
        "        temperature=temperature,\n",
        "    )\n",
        "    return response"
      ]
    },
    {
      "cell_type": "code",
      "execution_count": 11,
      "metadata": {
        "id": "qp4clWJRfV7q"
      },
      "outputs": [],
      "source": [
        "message = \"成功大學有12座籃球場。\"\n",
        "response = completion_with_backoff(message, temperature=0)"
      ]
    },
    {
      "cell_type": "code",
      "execution_count": 12,
      "metadata": {
        "colab": {
          "base_uri": "https://localhost:8080/"
        },
        "id": "djH16q4aoCE3",
        "outputId": "3f7239a9-1886-4add-8c1b-643ccbba4d9c"
      },
      "outputs": [
        {
          "name": "stdout",
          "output_type": "stream",
          "text": [
            "('id', 'chatcmpl-8Ki1tNEKJvtDub6PkrSFpDfOHQUe6')\n",
            "('choices', [Choice(finish_reason='stop', index=0, message=ChatCompletionMessage(content='\"《成功大學》\"', role='assistant', function_call=None, tool_calls=None))])\n",
            "('created', 1699946501)\n",
            "('model', 'gpt-4-0613')\n",
            "('object', 'chat.completion')\n",
            "('system_fingerprint', None)\n",
            "('usage', CompletionUsage(completion_tokens=8, prompt_tokens=351, total_tokens=359))\n"
          ]
        }
      ],
      "source": [
        "# 觀察 response 的內容\n",
        "\n",
        "for item in response:\n",
        "    print(item)"
      ]
    },
    {
      "cell_type": "code",
      "execution_count": 13,
      "metadata": {
        "id": "90RAAhVidFiP"
      },
      "outputs": [],
      "source": [
        "output = response.choices[0].message.content\n",
        "\n",
        "# Write outputs\n",
        "with open(LOG_PATH, \"a\") as f:\n",
        "    f.write(message + \"\\n\")\n",
        "    f.write(output + \"\\n\")\n",
        "    f.write(\"=\" * 30 + \"\\n\")"
      ]
    }
  ],
  "metadata": {
    "colab": {
      "provenance": [],
      "toc_visible": true
    },
    "kernelspec": {
      "display_name": "Python 3",
      "name": "python3"
    },
    "language_info": {
      "name": "python"
    }
  },
  "nbformat": 4,
  "nbformat_minor": 0
}
