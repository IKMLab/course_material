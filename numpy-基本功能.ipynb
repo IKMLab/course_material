{
  "cells": [
    {
      "cell_type": "markdown",
      "metadata": {
        "id": "X6T_-At_Nk5r"
      },
      "source": [
        "# numpy-基本功能\n",
        "\n",
        "## 教學目標\n",
        "\n",
        "這份教學的目標是介紹基本的 numpy 功能，並學習快速操作大量數值型態的資料。\n",
        "\n",
        "## 適用對象\n",
        "\n",
        "適用於有程式基礎，且擁有 python 基礎的學生。\n",
        "\n",
        "若沒有先學過 python，請參考 [python-入門語法](./python-入門語法.ipynb) 教學。\n",
        "\n",
        "## 執行時間\n",
        "\n",
        "本教學全部執行時間約為 1.7527921199798584 秒。\n",
        "\n",
        "|測試環境|名稱|\n",
        "|-|-|\n",
        "|主機板|X570 AORUS ELITE|\n",
        "|處理器|AMD Ryzen 7 3700X 8-Core Processor|\n",
        "|記憶體|Kingston KHX3200C16D4/16GX|\n",
        "|硬碟|Seagate ST1000DM003-1ER1|\n",
        "|顯示卡|GeForce RTX 2080|\n",
        "|作業系統|Ubuntu 18.04 LTS|"
      ]
    },
    {
      "cell_type": "markdown",
      "metadata": {
        "id": "NdaxZUpnNk5x"
      },
      "source": [
        "## 大綱\n",
        "\n",
        "- [簡介](#簡介)\n",
        "- [安裝](#安裝)\n",
        "- [陣列宣告](#陣列宣告)\n",
        "- [陣列取值](#陣列取值)\n",
        "- [陣列運算](#陣列運算)\n",
        "- [創造陣列](#創造陣列)\n",
        "- [矩陣運算](#矩陣運算)\n",
        "- [維度運算](#維度運算)\n",
        "- [練習](#練習)"
      ]
    },
    {
      "cell_type": "markdown",
      "metadata": {
        "id": "QLnOsCLYNk5x"
      },
      "source": [
        "## 簡介\n",
        "\n",
        "根據 [Numpy 官方網站](https://numpy.org/)（v1.18）：\n",
        "\n",
        "> NumPy is the fundamental package for scientific computing with Python.\n",
        "> \n",
        "> NumPy 是設計用於進行科學計算的 Python 工具\n",
        "> \n",
        "> It contains among other things:\n",
        ">\n",
        "> 包含了以下內容:\n",
        ">\n",
        "> - a powerful N-dimensional array object\n",
        ">\n",
        "> N 維度的矩陣運算功能\n",
        ">\n",
        "> - sophisticated (broadcasting) functions\n",
        ">\n",
        "> 方便的運算傳播功能\n",
        ">\n",
        "> - tools for integrating C/C++ and Fortran code\n",
        ">\n",
        "> 能夠跟 C/C++/Fortran 程式碼整合的工具\n",
        ">\n",
        "> - useful linear algebra, Fourier transform, and random number capabilities\n",
        ">\n",
        "> 包含線性代數、傅利葉轉換、隨機變數的功能"
      ]
    },
    {
      "cell_type": "markdown",
      "metadata": {
        "id": "Bq4-lUvsNk5y"
      },
      "source": [
        "## 安裝\n",
        "\n",
        "透過 `pip` 安裝 `numpy`：\n",
        "\n",
        "```sh\n",
        "pip install numpy\n",
        "```"
      ]
    },
    {
      "cell_type": "code",
      "execution_count": null,
      "metadata": {
        "id": "CPeIL7K3Nk5z"
      },
      "outputs": [],
      "source": [
        "# import 的功能為匯入模組，在這裡我們匯入 numpy 模組\n",
        "# 為了程式撰寫方便，在程式中可以用別稱來取代模組名稱\n",
        "# 使用方式為 import 模組名稱 as 別稱\n",
        "\n",
        "import numpy as np"
      ]
    },
    {
      "cell_type": "markdown",
      "metadata": {
        "id": "hlbpBXKdNk50"
      },
      "source": [
        "## 陣列宣告\n",
        "\n",
        "在 `numpy` 中陣列稱為 `ndarray`，創造陣列的語法為 `numpy.array([value1, value2, ...])`。\n",
        "\n",
        "- 每個 `numpy.ndarray` 都有不同的**數值型態屬性** `numpy.ndarray.dtype`\n",
        "    - 必須透過 `numpy.ndarray.dtype` 取得，無法透過 `type()` 取得\n",
        "\n",
        "|`numpy` 型態|C 型態|範圍|\n",
        "|-|-|-|\n",
        "|`numpy.int8`|`int_8`|-128~127|\n",
        "|`numpy.int16`|`int_16`|-32768~32767|\n",
        "|`numpy.int32`|`int_32`|-2147483648~2147483647|\n",
        "|`numpy.int64`|`int_64`|-9223372036854775808~9223372036854775807|\n",
        "|`numpy.uint8`|`uint_8`|0~255|\n",
        "|`numpy.uint16`|`uint_16`|0~65535|\n",
        "|`numpy.uint32`|`uint_32`|0~4294967295|\n",
        "|`numpy.uint64`|`uint_64`|0~18446744073709551615|\n",
        "|`numpy.float32`|`float`||\n",
        "|`numpy.float64`|`double`||"
      ]
    },
    {
      "cell_type": "code",
      "execution_count": null,
      "metadata": {
        "id": "96H0FeGoNk50",
        "scrolled": true
      },
      "outputs": [],
      "source": [
        "# 陣列宣告\n",
        "\n",
        "# 宣告 ndarray 變數\n",
        "arr1 = np.array([1, 2, 3])                    \n",
        "# 輸出 ndarray\n",
        "print(arr1)                                   \n",
        "# 輸出 True\n",
        "print(type(arr1) == np.ndarray)               \n",
        "# 輸出 int64\n",
        "print(arr1.dtype)                             \n",
        "print()\n",
        "\n"
      ]
    },
    {
      "cell_type": "code",
      "execution_count": null,
      "metadata": {},
      "outputs": [],
      "source": [
        "# 宣告 ndarray 變數\n",
        "arr2 = np.array([1., 2., 3.])                 \n",
        "# 輸出 ndarray\n",
        "print(arr2)                             \n",
        "# 輸出 True\n",
        "print(type(arr2) == np.ndarray)               \n",
        "# 輸出 float64\n",
        "print(arr2.dtype)\n",
        "print()"
      ]
    },
    {
      "cell_type": "code",
      "execution_count": null,
      "metadata": {},
      "outputs": [],
      "source": [
        "# 各種 dtype\n",
        "# 輸出 int8\n",
        "print(np.array(arr1, dtype=np.int8).dtype)    \n",
        "# 輸出 int16\n",
        "print(np.array(arr1, dtype=np.int16).dtype)   \n",
        "# 輸出 int32\n",
        "print(np.array(arr1, dtype=np.int32).dtype)   \n",
        "# 輸出 int64\n",
        "print(np.array(arr1, dtype=np.int64).dtype)   \n",
        "# 輸出 uint8\n",
        "print(np.array(arr1, dtype=np.uint8).dtype)   \n",
        "# 輸出 uint16\n",
        "print(np.array(arr1, dtype=np.uint16).dtype)  \n",
        "# 輸出 uint32\n",
        "print(np.array(arr1, dtype=np.uint32).dtype)  \n",
        "# 輸出 uint64\n",
        "print(np.array(arr1, dtype=np.uint64).dtype)  \n",
        "# 輸出 float32\n",
        "print(np.array(arr2, dtype=np.float32).dtype) \n",
        "# 輸出 float64\n",
        "print(np.array(arr2, dtype=np.float64).dtype) "
      ]
    },
    {
      "cell_type": "markdown",
      "metadata": {
        "id": "xS_P2vjkNk52"
      },
      "source": [
        "## 維度屬性\n",
        "- 每個 `numpy.ndarray` 都有**維度屬性** `numpy.ndarray.shape`\n",
        "    - `numpy.ndarray.shape` 本質是 `tuple`\n",
        "    - 陣列維度愈高，`len(numpy.ndarray.shape)` 數字愈大\n",
        "- 可以使用 `numpy.ndarray.reshape` 進行維度變更\n",
        "    - 變更後的維度乘積必須要與變更前的維度乘積相同\n",
        "    - 變更後的內容為 **shallow copy**"
      ]
    },
    {
      "cell_type": "markdown",
      "metadata": {
        "id": "Utlbp0vmACVH"
      },
      "source": [
        "比較\n",
        "*   A single value: scalar\n",
        "*   N-dimensional array\n",
        "  * a single dimension: vector\n",
        "  * two dimensions: matrix\n",
        "  * higher dimensional array\n",
        "\n"
      ]
    },
    {
      "cell_type": "code",
      "execution_count": null,
      "metadata": {
        "id": "RzBI4IeJNk53"
      },
      "outputs": [],
      "source": [
        "# shape 屬性\n",
        "\n",
        "# 宣告 ndarray 變數\n",
        "arr3 = np.array([                  \n",
        "    [1, 2, 3],\n",
        "    [4, 5, 6],\n",
        "    [7, 8, 9],\n",
        "    [10, 11, 12],\n",
        "])"
      ]
    },
    {
      "cell_type": "code",
      "execution_count": null,
      "metadata": {},
      "outputs": [],
      "source": [
        "# 輸出 ndarray\n",
        "print(arr3)                        \n",
        "# 輸出 arr3.shape (4, 3)\n",
        "print(arr3.shape)                  \n",
        "print()"
      ]
    },
    {
      "cell_type": "code",
      "execution_count": null,
      "metadata": {},
      "outputs": [],
      "source": [
        "# 重新更改 arr3.shape\n",
        "print(arr3.reshape(3, 4))         \n",
        "# 輸出更改後的維度 (3, 4)\n",
        "print(arr3.reshape(3, 4).shape)    \n",
        "print()"
      ]
    },
    {
      "cell_type": "code",
      "execution_count": null,
      "metadata": {},
      "outputs": [],
      "source": [
        "# 重新更改 arr3.shape\n",
        "print(arr3.reshape(2, 6))          \n",
        "# 輸出更改後的維度 (2, 6)\n",
        "print(arr3.reshape(2, 6).shape)    \n",
        "print()"
      ]
    },
    {
      "cell_type": "code",
      "execution_count": null,
      "metadata": {},
      "outputs": [],
      "source": [
        "# 重新更改 arr3.shape\n",
        "print(arr3.reshape(2, 3, 2))       \n",
        "# 輸出更改後的維度 (2, 3, 2)\n",
        "print(arr3.reshape(2, 3, 2).shape) "
      ]
    },
    {
      "cell_type": "markdown",
      "metadata": {
        "id": "tu1gPORHNk54"
      },
      "source": [
        "## 陣列取值\n",
        "\n",
        "與 `list` 語法概念相似。\n",
        "\n",
        "- 使用 `numpy.ndarray[位置]` 來取得 `numpy.ndarray` 中指定位置的值\n",
        "    - 若為**多個維度**的陣列，則使用 `tuple` 來取得指定位置的值\n",
        "    - 若位置為**負數**，則等同於反向取得指定位置的值\n",
        "    - 取出的值會以 `numpy.ndarray.dtype` 的形式保留"
      ]
    },
    {
      "cell_type": "markdown",
      "metadata": {},
      "source": [
        "### 單維陣列取值"
      ]
    },
    {
      "cell_type": "code",
      "execution_count": null,
      "metadata": {
        "id": "8NoQxBzMNk54"
      },
      "outputs": [],
      "source": [
        "# 宣告 ndarray 變數\n",
        "arr4 = np.array([   \n",
        "    0, 10, 20, 30, 40, \n",
        "    50, 60, 70, 80, 90\n",
        "])"
      ]
    },
    {
      "cell_type": "code",
      "execution_count": null,
      "metadata": {},
      "outputs": [],
      "source": [
        "# 輸出陣列 arr4 中的第 0 個位置的值 0\n",
        "print(arr4[0])      "
      ]
    },
    {
      "cell_type": "code",
      "execution_count": null,
      "metadata": {},
      "outputs": [],
      "source": [
        "# 輸出陣列 arr4 中的第 1 個位置的值 10\n",
        "print(arr4[1])    \n",
        "# 輸出陣列 arr4 中的第 2 個位置的值 20\n",
        "print(arr4[2])      "
      ]
    },
    {
      "cell_type": "code",
      "execution_count": null,
      "metadata": {},
      "outputs": [],
      "source": [
        "# 輸出陣列 arr4 中的第 -2 個位置的值 80\n",
        "print(arr4[-2])      \n",
        "# 輸出陣列 arr4 中的第 -1 個位置的值 90\n",
        "print(arr4[-1])      "
      ]
    },
    {
      "cell_type": "markdown",
      "metadata": {},
      "source": [
        "### 多維陣列取值"
      ]
    },
    {
      "cell_type": "code",
      "execution_count": null,
      "metadata": {
        "id": "mXjaCDd6Nk55"
      },
      "outputs": [],
      "source": [
        "# 宣告 ndarray 變數\n",
        "arr5 = np.array([   \n",
        "    [0, 1, 2],\n",
        "    [3, 4, 5],\n",
        "    [6, 7, 8],\n",
        "    [9, 10, 11],\n",
        "])\n"
      ]
    },
    {
      "cell_type": "code",
      "execution_count": null,
      "metadata": {},
      "outputs": [],
      "source": [
        "# 輸出陣列 arr5 中的第 0 個位置的值 [0, 1, 2]\n",
        "print(arr5[0])      \n",
        "# 輸出陣列 arr5 中的第 1 個位置的值 [3, 4, 5]\n",
        "print(arr5[1])      \n",
        "# 輸出陣列 arr5 中的第 1 個位置的值 [6, 7, 8]\n",
        "print(arr5[2])      \n",
        "# 輸出陣列 arr5 中的第 -2 個位置的值 [6, 7, 8]\n",
        "print(arr5[-2])     \n",
        "# 輸出陣列 arr5 中的第 -1 個位置的值 [9, 10, 11]\n",
        "print(arr5[-1])     \n",
        "print()"
      ]
    },
    {
      "cell_type": "markdown",
      "metadata": {
        "id": "wURiSohiNk55"
      },
      "source": [
        "## 取連續值\n",
        "- 使用 `numpy.ndarray[起始位置:結束位置]` 來取得 `numpy.ndarray` 中的部分**連續**值\n",
        "    - **包含起始位置**的值\n",
        "    - **不包含結束位置**的值\n",
        "    - 取出的值會以 `numpy.ndarray` 的形式保留"
      ]
    },
    {
      "cell_type": "markdown",
      "metadata": {},
      "source": [
        "### 單維取連續值"
      ]
    },
    {
      "cell_type": "code",
      "execution_count": null,
      "metadata": {
        "id": "uAvNtj6DNk55"
      },
      "outputs": [],
      "source": [
        "# 宣告 ndarray 變數\n",
        "arr6 = np.array([ \n",
        "    0, 10, 20, 30, 40, \n",
        "    50, 60, 70, 80, 90\n",
        "])\n",
        "\n",
        "# 輸出陣列 arr6 位置 0, 1, 2 但是不含位置 3 的值 [0, 10, 20]\n",
        "print(arr6[0:3])  \n",
        "# 輸出陣列 arr6 位置 7, 8, 9 的值 [70, 80, 90]\n",
        "print(arr6[7:])   \n",
        "# 輸出陣列 arr6 位置 0, 1 但是不含位置 2 的值 [0, 10]\n",
        "print(arr6[:2])   \n",
        "# 輸出陣列 arr6 所有位置的值 [0, 10, 20, 30, 40, 50, 60, 70, 80, 90]\n",
        "print(arr6[:])"
      ]
    },
    {
      "cell_type": "markdown",
      "metadata": {},
      "source": [
        "### 多維陣列取連續值"
      ]
    },
    {
      "cell_type": "code",
      "execution_count": null,
      "metadata": {
        "id": "o6ddyFDqNk56"
      },
      "outputs": [],
      "source": [
        "# 宣告 ndarray 變數\n",
        "arr7 = np.array([ \n",
        "    [0, 1, 2],\n",
        "    [3, 4, 5],\n",
        "    [6, 7, 8],\n",
        "    [9, 10, 11],\n",
        "])\n",
        "\n",
        "# 輸出陣列 arr7 位置 0, 1, 但是不含位置 2 的值 [[0, 1, 2], [3, 4, 5]]\n",
        "print(arr7[0:2])\n",
        "print()\n",
        "# 輸出陣列 arr7 位置 1, 2, 3 的值 [[3, 4, 5], [6, 7, 8], [9, 10, 11]]\n",
        "print(arr7[1:])\n",
        "print()\n",
        "# 輸出陣列 arr7 位置 0 但是不含位置 1 的值 [[0, 1, 2]]\n",
        "print(arr7[:1])\n",
        "print()\n",
        "# 輸出陣列 arr7 全部位置的值 [[0, 1, 2], [3, 4, 5], [6, 7, 8], [9, 10, 11]]\n",
        "print(arr7[:])"
      ]
    },
    {
      "cell_type": "markdown",
      "metadata": {
        "id": "7aoMFGilNk56"
      },
      "source": [
        "### 使用 iterable 取得多個值\n",
        "- 使用 `numpy.ndarray[iterable]`（例如 `list`, `tuple` 等）來取得**多個** `numpy.ndarray` 中的值\n",
        "    - 取出的值會以 `numpy.ndarray` 的形式保留"
      ]
    },
    {
      "cell_type": "code",
      "execution_count": null,
      "metadata": {
        "id": "xMZ7FSzRNk57",
        "tags": []
      },
      "outputs": [],
      "source": [
        "# 使用 iterable 取得多個值\n",
        "\n",
        "# 宣告 ndarray 變數\n",
        "arr8 = np.array([            \n",
        "    0, 10, 20, 30, 40, \n",
        "    50, 60, 70, 80, 90\n",
        "])\n",
        "\n",
        "# 輸出陣列 arr8 中偶數位置的值 [0, 20, 40, 60, 80]\n",
        "print(arr8[[0, 2, 4, 6, 8]])    # 同 arr8[0::2]\n",
        "print()\n",
        "# 輸出陣列 arr8 中奇數位置的值 [10, 30, 50, 70, 90]\n",
        "print(arr8[[1, 3, 5, 7, 9]])    # 同 arr8[1::2]\n",
        "print()"
      ]
    },
    {
      "cell_type": "markdown",
      "metadata": {},
      "source": [
        "### 多維陣列使用 iterable 取得多個值"
      ]
    },
    {
      "cell_type": "code",
      "execution_count": null,
      "metadata": {},
      "outputs": [],
      "source": [
        "# 宣告 ndarray 變數\n",
        "arr9 = np.array([\n",
        "    [1, 2, 3, 4],\n",
        "    [5, 6, 7, 8],\n",
        "    [9, 10, 11, 12]\n",
        "])\n",
        "\n",
        "# 輸出陣列 arr9[0] 與 arr9[1] 的值 [[1, 2, 3, 4] [5, 6, 7, 8]]\n",
        "print(arr9[[0, 1]])          \n",
        "print()\n",
        "# 輸出陣列 arr9[0, 2] 與 arr9[1, 3] 的值 [3, 8]\n",
        "print(arr9[[0, 1], [2, 3]])"
      ]
    },
    {
      "cell_type": "markdown",
      "metadata": {
        "id": "P3Eb90JMNk57"
      },
      "source": [
        "### 判斷式取值\n",
        "- 使用判斷式來取得 `numpy.ndarray` 中的部份資料\n",
        "    - 經由判斷式所得結果也為 `numpy.ndarray`\n",
        "    - 判斷式所得結果之 `numpy.ndarray.dtype` 為**布林值** `bool`（`True` 或 `False`）\n",
        "    - 取出的值會以 `numpy.ndarray` 的形式保留"
      ]
    },
    {
      "cell_type": "code",
      "execution_count": null,
      "metadata": {
        "id": "NRMXhtk5Nk57"
      },
      "outputs": [],
      "source": [
        "# 判斷式取值\n",
        "\n",
        "# 宣告 ndarray 變數\n",
        "arr10 = np.array([            \n",
        "    0, 10, 20, 30, 40, \n",
        "    50, 60, 70, 80, 90\n",
        "])\n",
        "\n",
        "# 輸出每個值是否大於 50 的 `numpy.ndarray`\n",
        "print(arr10 > 50)             \n",
        "# 輸出 bool\n",
        "print((arr10 > 50).dtype)     \n",
        "# 輸出大於 50 的值 [60, 70, 80, 90]\n",
        "print(arr10[arr10 > 50])      \n",
        "# 輸出除以 20 餘數為 0 的值 [0, 20, 40, 60, 80]\n",
        "print(arr10[arr10 % 20 == 0]) "
      ]
    },
    {
      "cell_type": "markdown",
      "metadata": {
        "id": "y9ShcRNW0424"
      },
      "source": [
        "## 陣列運算"
      ]
    },
    {
      "cell_type": "markdown",
      "metadata": {
        "id": "PluQ1mQELDpA"
      },
      "source": [
        "### 純量運算（Scalar Operation）\n",
        "\n",
        "對陣列內所有數值與單一純量（Scalar）進行相同計算。\n",
        "\n",
        "|符號|意義|\n",
        "|-|-|\n",
        "|`numpy.ndarray + scalar`|陣列中的每個數值加上 `scalar`|\n",
        "|`numpy.ndarray - scalar`|陣列中的每個數值減去 `scalar`|\n",
        "|`numpy.ndarray * scalar`|陣列中的每個數值乘上 `scalar`|\n",
        "|`numpy.ndarray / scalar`|陣列中的每個數值除以 `scalar`|\n",
        "|`numpy.ndarray // scalar`|陣列中的每個數值除以 `scalar` 所得之商|\n",
        "|`numpy.ndarray % scalar`|陣列中的每個數值除以 `scalar` 所得之餘數|\n",
        "|`numpy.ndarray ** scalar`|陣列中的每個數值取 `scalar` 次方|"
      ]
    },
    {
      "cell_type": "code",
      "execution_count": null,
      "metadata": {
        "id": "4eRNn5DRNk58"
      },
      "outputs": [],
      "source": [
        "# 純量運算\n",
        "\n",
        "# 宣告 ndarray 變數\n",
        "arr11 = np.array([ \n",
        "    [0, 10, 20],\n",
        "    [30, 40, 50],\n",
        "    [60, 70, 80],\n",
        "    [90, 100, 110],\n",
        "])\n",
        "\n",
        "# 輸出陣列 arr11\n",
        "print('輸出陣列 arr11')\n",
        "print(arr11)       \n",
        "print()\n",
        "# 對陣列 arr11 所有數值加 5\n",
        "print('對陣列 arr11 所有數值加 5')\n",
        "print(arr11 + 5)   \n",
        "print()\n",
        "# 對陣列 arr11 所有數值減 4\n",
        "print('對陣列 arr11 所有數值減 4')\n",
        "print(arr11 - 4)   \n",
        "print()\n",
        "# 對陣列 arr11 所有數值乘 3\n",
        "print('對陣列 arr11 所有數值乘 3')\n",
        "print(arr11 * 3)   \n",
        "print()\n",
        "# 對陣列 arr11 所有數值除以 10\n",
        "print('對陣列 arr11 所有數值除以 10')\n",
        "print(arr11 / 10)  \n",
        "print()"
      ]
    },
    {
      "cell_type": "code",
      "execution_count": null,
      "metadata": {},
      "outputs": [],
      "source": [
        "# 對陣列 arr11 所有數值除以 10 所得整數部份\n",
        "print('對陣列 arr11 所有數值除以 10 所得整數部份')\n",
        "print(arr11 // 10) \n",
        "print()\n",
        "# 對陣列 arr11 所有數值除以 7 得到餘數\n",
        "print('對陣列 arr11 所有數值除以 7 得到餘數')\n",
        "print(arr11 % 7)   \n",
        "print()\n",
        "# 對陣列 arr11 所有數值取 2 次方\n",
        "print('對陣列 arr11 所有數值取 2 次方')\n",
        "print(arr11 ** 2)  "
      ]
    },
    {
      "cell_type": "markdown",
      "metadata": {
        "id": "gJ1035IBNk57"
      },
      "source": [
        "### 個別數值運算（Element-wised Operation）\n",
        "\n",
        "若兩個陣列想要進行運算，則兩個陣列必須符合**相同維度（Shape）**或**陣列自動擴充（Broadcasting）**的條件。\n",
        "\n",
        "|符號|意義|\n",
        "|-|-|\n",
        "|`A + B`|陣列 `A` 中的每個數值加上陣列 `B` 中相同位置的數值|\n",
        "|`A - B`|陣列 `A` 中的每個數值減去陣列 `B` 中相同位置的數值|\n",
        "|`A * B`|陣列 `A` 中的每個數值乘上陣列 `B` 中相同位置的數值|\n",
        "|`A / B`|陣列 `A` 中的每個數值除以陣列 `B` 中相同位置的數值|\n",
        "|`A // B`|陣列 `A` 中的每個數值除以陣列 `B` 中相同位置的數值所得之商|\n",
        "|`A % B`|陣列 `A` 中的每個數值除以陣列 `B` 中相同位置的數值所得之餘數|\n",
        "|`A ** B`|陣列 `A` 中的每個數值取陣列 `B` 中相同位置的數值之次方|"
      ]
    },
    {
      "cell_type": "code",
      "execution_count": null,
      "metadata": {
        "id": "gn398dNvNk58"
      },
      "outputs": [],
      "source": [
        "# 個別數值運算\n",
        "\n",
        "# 宣告 ndarray 變數\n",
        "arr12 = np.array([    \n",
        "    [1, 2, 3],\n",
        "    [4, 5, 6]\n",
        "])\n",
        "\n",
        "# 宣告 ndarray 變數\n",
        "arr13 = np.array([    \n",
        "    [6, 5, 4],\n",
        "    [3, 2, 1]\n",
        "])\n",
        "\n",
        "# 陣列相加\n",
        "print('陣列相加')\n",
        "print(arr12 + arr13)  \n",
        "print()\n",
        "# 陣列相減\n",
        "print('陣列相減')\n",
        "print(arr12 - arr13)  \n",
        "print()\n",
        "# 陣列各元素相乘\n",
        "print('陣列各元素相乘')\n",
        "print(arr12 * arr13)  \n",
        "print()\n",
        "# 陣列相除\n",
        "print('陣列相除')\n",
        "print(arr12 / arr13)  \n",
        "print()"
      ]
    },
    {
      "cell_type": "code",
      "execution_count": null,
      "metadata": {},
      "outputs": [],
      "source": [
        "# 陣列相除取商\n",
        "print('陣列相除取商')\n",
        "print(arr12 // arr13) \n",
        "print()\n",
        "# 陣列相除取餘數\n",
        "print('陣列相除取餘數')\n",
        "print(arr12 % arr13)  \n",
        "print()\n",
        "# 陣列 A 取陣列 B 次方\n",
        "print('陣列 A 取陣列 B 次方')\n",
        "print(arr12 ** arr13) "
      ]
    },
    {
      "cell_type": "markdown",
      "metadata": {
        "id": "RusBTjcNQKaM"
      },
      "source": [
        "### 個別數值函數運算（Element-wised Functional Operation）\n",
        "\n",
        "若想對陣列中的**所有數值**進行**相同函數運算**，必須透過 `numpy` 提供的介面進行。\n",
        "\n",
        "|函數|意義|\n",
        "|-|-|\n",
        "|`numpy.sin`|陣列中的每個數值 $x$ 計算 $\\sin(x)$|\n",
        "|`numpy.cos`|陣列中的每個數值 $x$ 計算 $\\cos(x)$|\n",
        "|`numpy.tan`|陣列中的每個數值 $x$ 計算 $\\tan(x)$|\n",
        "|`numpy.exp`|陣列中的每個數值 $x$ 計算 $e^{x}$|\n",
        "|`numpy.log`|陣列中的每個數值 $x$ 計算 $\\log x$\n",
        "|`numpy.ceil`|陣列中的每個數值 $x$ 計算 $\\left\\lceil x \\right\\rceil$\n",
        "|`numpy.floor`|陣列中的每個數值 $x$ 計算 $\\left\\lfloor x \\right\\rfloor$"
      ]
    },
    {
      "cell_type": "code",
      "execution_count": null,
      "metadata": {
        "id": "qFmseblaNk59"
      },
      "outputs": [],
      "source": [
        "# 個別數值函數運算\n",
        "\n",
        "print(f'np.pi = {np.pi}')\n",
        "print()\n",
        "\n",
        "# 宣告 ndarray 變數\n",
        "arr14 = np.array([             \n",
        "    [0,     np.pi / 4,     np.pi / 2,     np.pi / 4 * 3],\n",
        "    [np.pi, np.pi / 4 * 5, np.pi / 2 * 3, np.pi / 4 * 7]\n",
        "])\n",
        "\n",
        "# 陣列所有數值計算 sine\n",
        "print('陣列所有數值計算 sine')\n",
        "print(np.sin(arr14))           \n",
        "print()\n",
        "# 陣列所有數值計算 cosine\n",
        "print('陣列所有數值計算 cosine')\n",
        "print(np.cos(arr14))           \n",
        "print()\n",
        "# 陣列所有數值計算 tangent\n",
        "print('陣列所有數值計算 tangent')\n",
        "print(np.tan(arr14))           \n",
        "print()"
      ]
    },
    {
      "cell_type": "code",
      "execution_count": null,
      "metadata": {},
      "outputs": [],
      "source": [
        "# 宣告 ndarray 變數\n",
        "arr15 = np.array([             \n",
        "    [1, 2, 3],\n",
        "    [4, 5, 6]\n",
        "])\n",
        "\n",
        "# 陣列所有數值取指數\n",
        "print('陣列所有數值取指數')\n",
        "print(np.exp(arr15))           \n",
        "print()\n",
        "# 陣列所有數值取對數\n",
        "print('陣列所有數值取指數')\n",
        "print(np.log(arr15))           \n",
        "print()\n",
        "# 陣列所有數值取對數後無條件進位\n",
        "print('陣列所有數值取對數後無條件進位')\n",
        "print(np.ceil(np.log(arr15)))  \n",
        "print()\n",
        "# 陣列所有數值取對數後無條件捨去\n",
        "print('陣列所有數值取對數後無條件捨去')\n",
        "print(np.floor(np.log(arr15))) "
      ]
    },
    {
      "cell_type": "markdown",
      "metadata": {
        "id": "fSGrM8cSqNF3"
      },
      "source": [
        "### 陣列自動擴充（Broadcasting）\n",
        "使不同維度（shape）的陣列可以做運算。\n",
        "\n",
        "若陣列 `A` 的維度為 `(a1, a2, ..., an)`（即 `A.shape == (a1, a2, ..., an)`），則陣列 `B` 在滿足以下其中一種條件時即可與陣列 `A` 進行運算：\n",
        "\n",
        "- 陣列 `B` 與陣列 `A` 維度相同（即 `B.shape == (a1, a2, ..., an)`）\n",
        "- 陣列 `B` 為純量（即 `B.shape == (1,)`）\n",
        "- 陣列 `B` 的維度為 `(b1, b2, ..., bn)`，若 `ai != bi`，則 `ai == 1` 或 `bi == 1`\n",
        "    - 從**最後**一個維度開始比較\n",
        "    - 如果有任何一個維度無法滿足前述需求，則會得到 `ValueError`"
      ]
    },
    {
      "cell_type": "markdown",
      "metadata": {
        "id": "Ms56hnbEpRMG"
      },
      "source": [
        "[圖片來源](https://numpy.org/doc/stable/user/basics.broadcasting.html#basics-broadcasting:~:text=A%20one%20dimensional%20array%20added%20to%20a%20two%20dimensional%20array%20results%20in%20broadcasting%20if%20number%20of%201%2Dd%20array%20elements%20matches%20the%20number%20of%202%2Dd%20array%20columns.)\n",
        "![broadcasting_2.png](data:image/png;base64,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)"
      ]
    },
    {
      "cell_type": "code",
      "execution_count": null,
      "metadata": {
        "id": "8R5T7ZUxNk59"
      },
      "outputs": [],
      "source": [
        "# 陣列自動擴充\n",
        "\n",
        "# 宣告 ndarray 變數\n",
        "arr16 = np.array([   \n",
        "    [\n",
        "        [1, 2],\n",
        "        [3, 4],\n",
        "        [5, 6],\n",
        "    ],\n",
        "    [\n",
        "        [7, 8],\n",
        "        [9 ,10],\n",
        "        [11, 12]\n",
        "    ]\n",
        "])\n",
        "\n",
        "# 宣告 ndarray 變數\n",
        "arr17 = np.array([   \n",
        "    [\n",
        "        [1],\n",
        "        [1],\n",
        "        [1]\n",
        "    ],\n",
        "    [\n",
        "        [2],\n",
        "        [2],\n",
        "        [2]\n",
        "    ],\n",
        "])\n",
        "\n",
        "# 輸出陣列 arr16 維度\n",
        "print('輸出陣列 arr16 維度')\n",
        "print(arr16.shape)   \n",
        "# 輸出陣列 arr17 維度\n",
        "print('輸出陣列 arr17 維度')\n",
        "print(arr17.shape)   \n",
        "print()\n",
        "# 陣列 arr16 與陣列 arr16 維度相同，所以可以直接運算\n",
        "print('陣列 arr16 與陣列 arr16 維度相同，所以可以直接運算')\n",
        "print(arr16 + arr16) \n",
        "print()\n",
        "# 陣列 arr16 與陣列 arr17 可以擴充成相同維度，所以可以運算\n",
        "print('陣列 arr16 與陣列 arr17 可以擴充成相同維度，所以可以運算')\n",
        "print(arr16 + arr17) "
      ]
    },
    {
      "cell_type": "markdown",
      "metadata": {
        "id": "s6dVfmXFKdj7"
      },
      "source": [
        "### 陣列乘法\n",
        "\n",
        "使用此運算，兩個陣列必須符合**陣列自動擴充（Broadcasting）**的條件。\n",
        "- Element-wise multiplication of two arrays.\n",
        "    - `A * B`\n",
        "    - `np.multiply`\n",
        "\n",
        "使用此運算，第一個陣列的「最後一個維度」必須和第二個陣列的「倒數第二個維度」相同，而且其餘維度符合**陣列自動擴充（Broadcasting）**的條件。\n",
        "- Matrix product of two arrays.\n",
        "    - `A @ B`\n",
        "    - `np.matmul`\n",
        "\n",
        "使用此運算，第一個陣列的「最後一個維度」必須和第二個陣列的「倒數第二個維度」相同。\n",
        "- Dot product of two arrays.\n",
        "    - `A.dot(B)`\n",
        "    - `np.dot`\n",
        "\n",
        "使用此運算，只要符合輸入格式就可以，沒有維度的條件限制。\n",
        "- Einstein summation convention / Einstein notation\n",
        "    - `np.einsum`\n",
        "\n"
      ]
    },
    {
      "cell_type": "code",
      "execution_count": null,
      "metadata": {
        "id": "oZaBFJ-gKmUJ"
      },
      "outputs": [],
      "source": [
        "# 陣列乘法: 一維陣列\n",
        "\n",
        "# 宣告 ndarray 變數\n",
        "arr29 = np.array([\n",
        "    1, 2, 3, 4, 5\n",
        "])\n",
        "\n",
        "# 宣告 ndarray 變數\n",
        "arr30 = np.array([\n",
        "    6, 7, 8, 9, 10\n",
        "])\n",
        "\n",
        "print(arr29)\n",
        "print(arr30)\n",
        "print()\n",
        "print('Element-wise multiplication of two arrays')\n",
        "print(arr29 * arr30)\n",
        "print()\n",
        "print('Matrix multiplication of two arrays')\n",
        "print(arr29 @ arr30)\n",
        "print()\n",
        "print('Dot product of two arrays')\n",
        "print(arr29.dot(arr30))   # 在一維陣列中，矩陣乘法和矩陣內積結果相同"
      ]
    },
    {
      "cell_type": "code",
      "execution_count": null,
      "metadata": {
        "id": "LULJcscNgKMp"
      },
      "outputs": [],
      "source": [
        "# 陣列乘法: 二維陣列\n",
        "\n",
        "# 宣告 ndarray 變數\n",
        "arr31 = np.array([\n",
        "    [1, 2],\n",
        "    [3, 4]\n",
        "])\n",
        "\n",
        "# 宣告 ndarray 變數\n",
        "arr32 = np.array([\n",
        "    [10, 100]                  \n",
        "])\n",
        "\n",
        "# 宣告 ndarray 變數\n",
        "arr33 = np.array([\n",
        "    [1, 2],\n",
        "    [3, 4]\n",
        "])\n",
        "\n",
        "print(arr31)\n",
        "print(arr32)\n",
        "print(arr33)\n",
        "print(arr31.shape)\n",
        "print(arr32.shape)\n",
        "print(arr33.shape)\n",
        "print()\n",
        "print('Element-wise multiplication of two arrays')\n",
        "print(arr31 * arr32)\n",
        "# print(arr31 @ arr32)        # 這一行會產生 error，因為第一個陣列的「最後一個維度」(=2)必須和第二個陣列的「倒數第二個維度」(=1)不同\n",
        "# print(arr31.dot(arr32))     # 這一行會產生 error，因為第一個陣列的「最後一個維度」(=2)必須和第二個陣列的「倒數第二個維度」(=1)不同\n",
        "# print(arr31 @ 3)            # 這一行會產生 error，因為此運算只能傳入 ndarray, 然而 3 是 scalar \n",
        "print()\n",
        "print('Element-wise multiplication of two arrays')\n",
        "print(arr31 * arr33)\n",
        "print()\n",
        "print('Matrix multiplication of two arrays')\n",
        "print(arr31 @ arr33)\n",
        "print()\n",
        "print('Dot product of two arrays')\n",
        "print(arr31.dot(arr33))       # 在二維陣列中，使用.dot 和 @ 的結果相同"
      ]
    },
    {
      "cell_type": "code",
      "execution_count": null,
      "metadata": {
        "id": "VMDoKopbgJ_5"
      },
      "outputs": [],
      "source": [
        "# 陣列乘法: 三維陣列\n",
        "\n",
        "# 宣告 ndarray 變數\n",
        "arr34 = np.array([   \n",
        "    [\n",
        "        [1, 2],\n",
        "        [3, 4],\n",
        "    ],\n",
        "    [\n",
        "        [5, 6],\n",
        "        [7, 8]\n",
        "    ],\n",
        "    [\n",
        "        [9 ,10],\n",
        "        [11, 12]\n",
        "    ]\n",
        "])\n",
        "\n",
        "# 宣告 ndarray 變數\n",
        "arr35 = np.array([   \n",
        "    [\n",
        "        [1, 1],\n",
        "        [4 ,4],\n",
        "    ]\n",
        "])\n",
        "\n",
        "print(f'arr34: {arr34.shape}')\n",
        "# print(arr34)\n",
        "print(f'arr35: {arr35.shape}')\n",
        "# print(arr35)\n",
        "print()\n",
        "\n",
        "# 輸出 matrix product 的維度與結果\n",
        "print('輸出 matrix product 的維度與結果')\n",
        "print(f'arr34 @ arr35: {(arr34 @ arr35).shape}')            # 維度變化：natmul((i,j,x), (i,x,m)) -> (i,j,m)\n",
        "print(arr34 @ arr35)\n",
        "print()\n",
        "# 輸出 dot product 的維度與結果\n",
        "print('輸出 dot product 的維度與結果')\n",
        "print(f'arr34.dot(arr35): {(arr34.dot(arr35)).shape}')      # 維度變化：dot((i,j,x), (k,x,m)) -> (i,j,k,m)\n",
        "print(arr34.dot(arr35))"
      ]
    },
    {
      "cell_type": "markdown",
      "metadata": {
        "id": "aflYVkAeZfSD"
      },
      "source": [
        "### 矩陣運算\n",
        "\n",
        "矩陣等同於是維度為 2 的陣列。\n",
        "\n",
        "|函數|意義|\n",
        "|-|-|\n",
        "|`numpy.transpose`|矩陣轉置|\n",
        "|`numpy.matmul`|矩陣乘法|\n",
        "|`numpy.dot`|矩陣內積|\n",
        "|`numpy.diag`|取出對角線|\n",
        "\n",
        "\n",
        "使用 `numpy.linalg` 進行線性代數中常見的計算。\n",
        "\n",
        "|函數|意義|\n",
        "|-|-|\n",
        "|`numpy.linalg.inv`|反矩陣（Inverse Matrix）|\n",
        "|`numpy.linalg.eig`|特徵值與特徵向量矩陣（Eigenvalues & Eigenvectors）|\n",
        "|`numpy.linalg.eigvals`|特徵值矩陣（Eigenvalues）|\n",
        "|`numpy.linalg.det`|行列式（Determinant）|\n",
        "|`numpy.linalg.matrix_rank`|秩（Rank）|"
      ]
    },
    {
      "cell_type": "code",
      "execution_count": null,
      "metadata": {
        "id": "4qq-xoT5Nk6A",
        "tags": []
      },
      "outputs": [],
      "source": [
        "# 創造矩陣\n",
        "\n",
        "# 創造 3x3 矩陣, 對角線為 1，也就是單位矩陣\n",
        "print('創造 3x3 矩陣, 對角線為 1，也就是單位矩陣')\n",
        "print(np.eye(3))                    \n",
        "print()\n",
        "\n",
        "# 創造 3x3 單位矩陣\n",
        "# 對角線分別初始化為 8, 1, 7\n",
        "print('創造 3x3 單位矩陣，對角線分別初始化為 8, 1, 7')\n",
        "print(np.diag([8, 1, 7]))           \n",
        "print()                             \n",
        "\n",
        "# 從 0 列舉至 10，但不包含 10\n",
        "print('從 0 列舉至 10，但不包含 10')\n",
        "print(np.arange(10))                \n",
        "print()\n",
        "\n",
        "# 從 6 列舉至 9，但不包含 9\n",
        "print('從 6 列舉至 9，但不包含 9')\n",
        "print(np.arange(6, 9))             \n",
        "print()\n",
        "\n",
        "# 從 4 遞增至 20，但不包含 20，每次遞增 7\n",
        "print('從 4 遞增至 20，但不包含 20，每次遞增 7')\n",
        "print(np.arange(4, 20, 7))          \n",
        "print()\n",
        "\n",
        "# 將 0 到 100 切割成 9 - 1 = 8 等分\n",
        "print('將 0 到 100 切割成 9 - 1 = 8 等分')\n",
        "print(np.linspace(0, 100, 9))       \n",
        "print()\n",
        "\n",
        "# 將 0 到 5 切割成 4 - 1 = 3 等分\n",
        "# 並將每個數字 x 變成 10 ** x\n",
        "print('將 0 到 5 切割成 4 - 1 = 3 等分, 並將每個數字 x 變成 10 ** x')\n",
        "print(np.logspace(0, 5, 4))         \n",
        "print()                             \n",
        "\n",
        "# 將 1 到 6 切割成 6 - 1 = 5 等分\n",
        "# 並將每個數字 x 變成 2 ** x\n",
        "print('將 1 到 6 切割成 6 - 1 = 5 等分, 並將每個數字 x 變成 2 ** x')\n",
        "print(np.logspace(1, 6, 6, base=2))                                     "
      ]
    },
    {
      "cell_type": "code",
      "execution_count": null,
      "metadata": {
        "id": "xu2W1mZ-Nk6B"
      },
      "outputs": [],
      "source": [
        "# 矩陣運算\n",
        "\n",
        "# 宣告二維的 ndarray 變數\n",
        "mat1 = np.array([        \n",
        "    [0, 10, 20],\n",
        "    [30, 40, 50]\n",
        "])\n",
        "\n",
        "# 輸出矩陣 mat1\n",
        "print(mat1)               \n",
        "print()\n",
        "# 輸出矩陣 mat1 轉置後的結果\n",
        "print('輸出矩陣 mat1 轉置後的結果')\n",
        "print(np.transpose(mat1)) \n",
        "print()\n",
        "# 輸出矩陣 mat1 轉置後的結果\n",
        "print('輸出矩陣 mat1 轉置後的結果')\n",
        "print(mat1.T)             \n",
        "print()\n",
        "\n",
        "# 宣告二維的 ndarray 變數\n",
        "mat2 = np.arange(12).reshape(3, 4)\n",
        "\n",
        "# 輸出矩陣 mat2\n",
        "print(mat2)               \n",
        "print()\n",
        "# 輸出矩陣 mat1 乘上矩陣 mat2 後的結果\n",
        "print('輸出矩陣 mat1 乘上矩陣 mat2 後的結果')\n",
        "print(np.matmul(mat1, mat2))     \n",
        "print()\n",
        "# 輸出矩陣 mat1 和矩陣 mat2 內積後的結果\n",
        "print('輸出矩陣 mat1 和矩陣 mat2 內積後的結果')\n",
        "print(np.dot(mat1, mat2)) \n",
        "print()\n",
        "\n",
        "# 輸出矩陣 mat2 的對角線數值\n",
        "print('輸出矩陣 mat2 的對角線數值')\n",
        "print(np.diag(mat2))      \n",
        "print(mat2.diagonal())    "
      ]
    },
    {
      "cell_type": "code",
      "execution_count": null,
      "metadata": {
        "id": "X0zne9IiNk6B"
      },
      "outputs": [],
      "source": [
        "# 矩陣運算：反矩陣\n",
        "\n",
        "# 宣告二維的 ndarray 變數\n",
        "mat3 = np.array([             \n",
        "    [1, 2],\n",
        "    [3, 4]\n",
        "])\n",
        "print(mat3)\n",
        "print()\n",
        "\n",
        "# 計算矩陣 mat3 的反矩陣\n",
        "mat3_inv = np.linalg.inv(mat3) \n",
        "# 輸出矩陣 mat3 的反矩陣\n",
        "print('輸出矩陣 mat3 的反矩陣')\n",
        "print(mat3_inv)                \n",
        "print()\n",
        "# 計算矩陣 mat3 與其反矩陣乘積\n",
        "print('計算矩陣 mat3 與其反矩陣乘積')\n",
        "print(np.matmul(mat3, mat3_inv))      "
      ]
    },
    {
      "cell_type": "code",
      "execution_count": null,
      "metadata": {
        "id": "QkE_I94KNk6C",
        "tags": []
      },
      "outputs": [],
      "source": [
        "# 矩陣運算：特徵值與特徵向量\n",
        "\n",
        "# 宣告二維的 ndarray 變數\n",
        "mat4 = np.diag([1, 2, 3])    \n",
        "print(mat4)\n",
        "print()\n",
        "\n",
        "# 同時計算矩陣 mat4 的特徵值與特徵向量\n",
        "mat4_eigval, mat4_eigvec = np.linalg.eig(mat4) \n",
        "# 輸出矩陣 mat4 的特徵值\n",
        "print('輸出矩陣 mat4 的特徵值')\n",
        "print(mat4_eigval)                             \n",
        "print()\n",
        "# 輸出矩陣 mat4 的一組特徵向量\n",
        "print('輸出矩陣 mat4 的一組特徵向量')\n",
        "print(mat4_eigvec)                             \n",
        "print()\n",
        "# 單獨計算矩陣 mat4 的特徵值\n",
        "print('單獨計算矩陣 mat4 的特徵值')\n",
        "print(np.linalg.eigvals(mat4))                 "
      ]
    },
    {
      "cell_type": "code",
      "execution_count": null,
      "metadata": {
        "id": "gXl0fXOgNk6C"
      },
      "outputs": [],
      "source": [
        "# 矩陣運算：求行列式與秩\n",
        "\n",
        "# 宣告二維的 ndarray 變數\n",
        "mat5 = np.array([                 \n",
        "    [1, 2],\n",
        "    [3, 4]\n",
        "])\n",
        "\n",
        "# 輸出矩陣 mat5 的行列式\n",
        "print('輸出矩陣 mat5 的行列式')\n",
        "print(np.linalg.det(mat5))         \n",
        "# 輸出矩陣 mat5 的秩\n",
        "print('輸出矩陣 mat5 的秩')\n",
        "print(np.linalg.matrix_rank(mat5)) "
      ]
    },
    {
      "cell_type": "markdown",
      "metadata": {
        "id": "5HdNOfoiNk5-"
      },
      "source": [
        "## 創造陣列\n",
        "\n",
        "### 賦值（Assignment）\n",
        "\n",
        "使用 `=` 賦與指定位置數值。可以使用 `iterable` 一次指定多個位置。\n",
        "\n",
        "|符號|意義|\n",
        "|-|-|\n",
        "|`=`|賦值|\n",
        "|`+=`|進行加法後賦值|\n",
        "|`-=`|進行減法後賦值|\n",
        "|`*=`|進行乘法後賦值|"
      ]
    },
    {
      "cell_type": "code",
      "execution_count": null,
      "metadata": {
        "id": "2jNe-YRFNk5-",
        "tags": []
      },
      "outputs": [],
      "source": [
        "# 賦值\n",
        "\n",
        "# 宣告 ndarray 變數\n",
        "arr18 = np.array([         \n",
        "    [1, 2, 3],\n",
        "    [4, 5, 6],\n",
        "    [7, 8, 9],\n",
        "    [10, 11, 12]\n",
        "])\n",
        "print(arr18)\n",
        "print()\n",
        "\n",
        "# 將陣列 arr18 位置 0 的所有數值改成 1995\n",
        "print('將陣列 arr18 位置 0 的所有數值改成 1995')\n",
        "arr18[0] = 1995            \n",
        "print(arr18)\n",
        "print()\n",
        "\n",
        "# 將陣列 arr18 位置 [0, 1] 的所有數值改成 10\n",
        "print('將陣列 arr18 位置 [0, 1] 的所有數值改成 10')\n",
        "arr18[0, 1] = 10           \n",
        "print(arr18)\n",
        "print()\n",
        "\n",
        "# 將陣列 arr18 位置 [2, 1] 與 [0, 2] 的所有數值改成 12\n",
        "print('將陣列 arr18 位置 [2, 1] 與 [0, 2] 的所有數值改成 12')\n",
        "arr18[[2, 0], [1, 2]] = 12 \n",
        "print(arr18)"
      ]
    },
    {
      "cell_type": "code",
      "execution_count": null,
      "metadata": {
        "id": "mL4GuSpTNk5_"
      },
      "outputs": [],
      "source": [
        "# 宣告 ndarray 變數\n",
        "arr19 = np.array([          \n",
        "    [1, 2, 3],\n",
        "    [4, 5, 6],\n",
        "    [7, 8, 9],\n",
        "    [10, 11, 12]\n",
        "])\n",
        "print(arr19)\n",
        "print()\n",
        "\n",
        "# 將陣列 arr19 位置 0 的所有數值加上 1995\n",
        "print('將陣列 arr19 位置 0 的所有數值加上 1995')\n",
        "arr19[0] += 1995            \n",
        "print(arr19)\n",
        "print()\n",
        "\n",
        "# 將陣列 arr19 位置 [0, 1] 的所有數值減掉 10\n",
        "print('將陣列 arr19 位置 [0, 1] 的所有數值減掉 10')\n",
        "arr19[0, 1] -= 10           \n",
        "print(arr19)\n",
        "print()\n",
        "\n",
        "# 將陣列 arr19 位置 [2, 1] 與 [0, 2] 的所有數值乘上 12\n",
        "print('將陣列 arr19 位置 [2, 1] 與 [0, 2] 的所有數值乘上 12')\n",
        "arr19[[2, 0], [1, 2]] *= 12 \n",
        "print(arr19)"
      ]
    },
    {
      "cell_type": "markdown",
      "metadata": {
        "id": "mbBqA_e6Nk5_"
      },
      "source": [
        "### 隨機（Random）\n",
        "\n",
        "創造出新的陣列，所有數值皆為**隨機決定**，必須**事先指定陣列維度**。\n",
        "\n",
        "|函數|意義|用途|備註|\n",
        "|-|-|-|-|\n",
        "|`numpy.empty`|創造隨機未初始化陣列|已確認維度，尚未確認數值|無法控制隨機|\n",
        "|`numpy.random.rand`|創造隨機浮點數陣列|需要隨機浮點數時|透過均勻分佈決定亂數，範圍介於 0 到 1之間|\n",
        "|`numpy.random.randint`|創造隨機整數陣列|需要隨機整數時|透過均勻分佈決定亂數，可以控制隨機範圍|"
      ]
    },
    {
      "cell_type": "code",
      "execution_count": null,
      "metadata": {
        "id": "EANgea3hNk6A",
        "scrolled": true,
        "tags": []
      },
      "outputs": [],
      "source": [
        "# 隨機\n",
        "\n",
        "# 隨機創造維度為 (2, 3) 的陣列\n",
        "# 數值為任意數，未初始化\n",
        "print('隨機創造維度為 (2, 3) 的陣列，數值為任意數，未初始化')\n",
        "print(np.empty((2, 3)))                      \n",
        "print()                                      \n",
        "\n",
        "# 隨機創造維度為 (2, 3) 的陣列\n",
        "# 數值為介於 0 到 1 之間的浮點數，[0, 1)\n",
        "print('隨機創造維度為 (2, 3) 的陣列，數值為介於 0 到 1 之間的浮點數，[0, 1)')\n",
        "print(np.random.rand(2, 3))                  \n",
        "print()                                      \n",
        "\n",
        "# 隨機創造維度為 (2, 3) 的陣列\n",
        "# 數值為介於 0 到 10 之間的浮點數, [0, 10)\n",
        "print('隨機創造維度為 (2, 3) 的陣列，數值為介於 0 到 10 之間的浮點數, [0, 10)')\n",
        "print(np.random.rand(2, 3) * 10)             \n",
        "print()                                      \n",
        "\n",
        "# 隨機創造維度為 (2, 3) 的陣列\n",
        "# 數值為介於 -5 到 5 之間的浮點數, [-5, 5)\n",
        "print('隨機創造維度為 (2, 3) 的陣列，數值為介於 -5 到 5 之間的浮點數, [-5, 5)')\n",
        "print(np.random.rand(2, 3) * 10 - 5)         \n",
        "print()                                      \n",
        "\n",
        "# 隨機創造維度為 (2, 3) 的陣列\n",
        "# 數值為介於 -5 到 5 之間的整數, [-5, 5)\n",
        "print('隨機創造維度為 (2, 3) 的陣列，數值為介於 -5 到 5 之間的整數, [-5, 5)')\n",
        "print(np.random.randint(-5, 5, size=(2, 3)))\n",
        "print()\n",
        "\n",
        "# 隨機創造維度為 (2, 3) 的陣列\n",
        "# np.random.randint 若只給一個數值，則表示範圍的上界且下界為零，給的數值必須為正數\n",
        "# 數值為介於 0 到 -5 之間的整數, [0, -5) = empty set => error\n",
        "# print(np.random.randint(-5, size=(2, 3)))\n",
        "\n",
        "# 隨機創造維度為 (2, 3) 的陣列\n",
        "# 數值為介於 0 到 5 之間的整數, [0, 5)   \n",
        "print('隨機創造維度為 (2, 3) 的陣列，數值為介於 0 到 5 之間的整數, [0, 5)') \n",
        "print(np.random.randint(5, size=(2, 3)))\n",
        "print()                                 "
      ]
    },
    {
      "cell_type": "code",
      "execution_count": null,
      "metadata": {
        "id": "mGEV9pBR9SMf"
      },
      "outputs": [],
      "source": [
        "# 每次執行都會產生不一樣的值\n",
        "print('每次執行都會產生不一樣的值')\n",
        "print(np.random.randint(-10, 10, size=(2, 4)))"
      ]
    },
    {
      "cell_type": "code",
      "execution_count": null,
      "metadata": {
        "id": "-U6BSdq68AJd"
      },
      "outputs": [],
      "source": [
        "# pseudo-random number\n",
        "# 固定隨機變數\n",
        "print('固定隨機變數')\n",
        "np.random.seed(2022)\n",
        "print(np.random.randint(-10, 10, size=(2, 4)))"
      ]
    },
    {
      "cell_type": "markdown",
      "metadata": {
        "id": "ibr76eGPNk6A"
      },
      "source": [
        "### 指定數值（Filled In）\n",
        "\n",
        "**快速創造**擁有特定數值的陣列，必須**事先指定陣列維度**。\n",
        "\n",
        "|函數|意義|用途|\n",
        "|-|-|-|\n",
        "|`numpy.zeros`|創造指定維度大小的陣列，所有數值初始化為 0|快速初始化|\n",
        "|`numpy.zeros_like`|複製指定陣列的維度，創造出新的陣列，所有數值初始化為 0|複製陣列並初始化|\n",
        "|`numpy.ones`|創造指定維度大小的陣列，所有數值初始化為 1|快速初始化|\n",
        "|`numpy.ones_like`|複製指定陣列的維度，創造出新的陣列，所有數值初始化為 1|複製陣列並初始化|\n",
        "|`numpy.full`|創造指定維度大小的陣列，所有數值初始化為指定數值|快速初始化|\n",
        "|`numpy.full_like`|複製指定陣列的維度，創造出新的陣列，所有數值初始化為指定數值|複製陣列並初始化|\n",
        "|`numpy.eye`|創造單位矩陣|矩陣微分|\n",
        "|`numpy.diag`|創造對角線矩陣，對角線初始化為指定數值|矩陣微分|\n",
        "|`numpy.arange`|列舉數字|等同於 `list(range(value))`|\n",
        "|`numpy.linspace`|給予起始與結束範圍，並進行線性等分|繪製圖表|\n",
        "|`numpy.logspace`|給予起始與結束範圍，進行線性等分後取指數|繪製圖表|"
      ]
    },
    {
      "cell_type": "code",
      "execution_count": null,
      "metadata": {
        "id": "sAF28dbvNk6A",
        "scrolled": true
      },
      "outputs": [],
      "source": [
        "# 指定數值\n",
        "\n",
        "# 創造維度為 (2, 3) 的陣列，並初始化為 0\n",
        "print('創造維度為 (2, 3) 的陣列，並初始化為 0')\n",
        "print(np.zeros((2, 3)))        \n",
        "print()\n",
        "\n",
        "# 宣告 ndarray 變數\n",
        "arr20 = np.array([             \n",
        "    [1, 2, 3],\n",
        "    [4, 5, 6],\n",
        "])\n",
        "# 複製陣列 arr20 的維度，創造出新的陣列，並初始化為 0\n",
        "print('複製陣列 arr20 的維度，創造出新的陣列，並初始化為 0')\n",
        "print(np.zeros_like(arr20))    \n",
        "print()\n",
        "\n",
        "# 創造維度為 (3, 4) 的陣列，並初始化為 1\n",
        "print('創造維度為 (3, 4) 的陣列，並初始化為 1')\n",
        "print(np.ones((3, 4)))         \n",
        "print()\n",
        "\n",
        "# 宣告 ndarray 變數\n",
        "arr21 = np.array([             \n",
        "    [1, 2, 3, 4],\n",
        "    [5, 6, 7, 8],\n",
        "    [9, 10, 11, 12]\n",
        "])\n",
        "# 複製陣列 arr21 的維度，創造出新的陣列，並初始化為 1\n",
        "print('複製陣列 arr21 的維度，創造出新的陣列，並初始化為 1')\n",
        "print(np.ones_like(arr21))     \n",
        "print()\n",
        "\n",
        "# 創造維度為 (5, 6) 的陣列，並初始化為 420\n",
        "print('創造維度為 (5, 6) 的陣列，並初始化為 420')\n",
        "print(np.full((5, 6), 420))    \n",
        "print()\n",
        "\n",
        "# 宣告 ndarray 變數\n",
        "arr22 = np.array([             \n",
        "    [1, 2, 3, 4, 5, 6],\n",
        "    [7, 8, 9, 10, 11, 12],\n",
        "    [13, 14, 15, 16, 17, 18],\n",
        "    [19, 20, 21, 22, 23, 24],\n",
        "    [25, 26, 27, 28, 29, 30]\n",
        "])\n",
        "# 複製陣列 arr22 的維度，創造出新的陣列，並初始化為 69\n",
        "print('複製陣列 arr22 的維度，創造出新的陣列，並初始化為 69')\n",
        "print(np.full_like(arr22, 69)) "
      ]
    },
    {
      "cell_type": "markdown",
      "metadata": {
        "id": "_z72amJ6Nk6C"
      },
      "source": [
        "## 維度運算"
      ]
    },
    {
      "cell_type": "markdown",
      "metadata": {
        "id": "RvQ14hWjQkxU"
      },
      "source": [
        "### 降維函數（Dimension Decreasing Function）\n",
        "\n",
        "以下函數將會使**輸出**陣列維度**小於輸入**陣列維度。\n",
        "\n",
        "|函數|意義|\n",
        "|-|-|\n",
        "|`numpy.sum`|將所有數值相加|\n",
        "|`numpy.max`|取出所有數值中最大者|\n",
        "|`numpy.min`|取出所有數值中最小者|\n",
        "|`numpy.argmax`|取出所有數值中最大者的位置|\n",
        "|`numpy.argmin`|取出所有數值中最小者的位置|\n",
        "|`numpy.mean`|取出所有數值的平均值|\n",
        "|`numpy.var`|取出所有數值的變異數|\n",
        "|`numpy.std`|取出所有數值的標準差|\n",
        "|`numpy.squeeze`|移除數字為 1 的維度|"
      ]
    },
    {
      "cell_type": "code",
      "execution_count": null,
      "metadata": {
        "id": "pfFlENndNk6C"
      },
      "outputs": [],
      "source": [
        "# 降維函數\n",
        "'''\n",
        "想像一個 2D-array:\n",
        "\n",
        "axis=0  axis=1 ------>\n",
        "|\n",
        "|\n",
        "|\n",
        "v\n",
        "'''\n",
        "\n",
        "# 宣告 ndarray 變數\n",
        "arr23 = np.array([           \n",
        "    [1, 2, 3, 4],\n",
        "    [5, 6, 7, 8],\n",
        "    [9, 10, 11, 12]\n",
        "])\n",
        "\n",
        "# 將陣列 arr23 中所有值相加\n",
        "print('將陣列 arr23 中所有值相加')\n",
        "print(np.sum(arr23))         \n",
        "print()\n",
        "# 將陣列 arr23 中所有值相加\n",
        "print('將陣列 arr23 中所有值相加')\n",
        "print(arr23.sum())\n",
        "print()           \n",
        "\n",
        "# 將陣列 arr23 中依照維度 0 將所有值相加\n",
        "print('將陣列 arr23 中依照維度 0 將所有值相加')\n",
        "print(np.sum(arr23, axis=0)) \n",
        "print()\n",
        "# 將陣列 arr23 中依照維度 0 將所有值相加\n",
        "print('將陣列 arr23 中依照維度 0 將所有值相加')\n",
        "print(arr23.sum(axis=0))     \n",
        "print()\n",
        "# 將陣列 arr23 中依照維度 1 將所有值相加\n",
        "print('將陣列 arr23 中依照維度 1 將所有值相加')\n",
        "print(np.sum(arr23, axis=1)) \n",
        "print()\n",
        "# 將陣列 arr23 中依照維度 1 將所有值相加\n",
        "print('將陣列 arr23 中依照維度 1 將所有值相加')\n",
        "print(arr23.sum(axis=1))     \n",
        "print()"
      ]
    },
    {
      "cell_type": "code",
      "execution_count": null,
      "metadata": {},
      "outputs": [],
      "source": [
        "# 找出陣列 arr23 中最大值\n",
        "print('找出陣列 arr23 中最大值')\n",
        "print(np.max(arr23))         \n",
        "print()\n",
        "# 找出陣列 arr23 中最大值\n",
        "print('找出陣列 arr23 中最大值')\n",
        "print(arr23.max())\n",
        "print()           \n",
        "\n",
        "# 依照維度 0 找出陣列 arr23 中最大值\n",
        "print('依照維度 0 找出陣列 arr23 中最大值')\n",
        "print(np.max(arr23, axis=0)) \n",
        "print()\n",
        "# 依照維度 0 找出陣列 arr23 中最大值\n",
        "print('依照維度 0 找出陣列 arr23 中最大值')\n",
        "print(arr23.max(axis=0))     \n",
        "print()\n",
        "# 依照維度 1 找出陣列 arr23 中最大值\n",
        "print('依照維度 1 找出陣列 arr23 中最大值')\n",
        "print(np.max(arr23, axis=1)) \n",
        "print()\n",
        "# 依照維度 1 找出陣列 arr23 中最大值\n",
        "print('依照維度 1 找出陣列 arr23 中最大值')\n",
        "print(arr23.max(axis=1))     \n",
        "print()"
      ]
    },
    {
      "cell_type": "code",
      "execution_count": null,
      "metadata": {},
      "outputs": [],
      "source": [
        "# 找出陣列 arr23 中最小值\n",
        "print('找出陣列 arr23 中最小值')\n",
        "print(np.min(arr23))     \n",
        "print()    \n",
        "# 找出陣列 arr23 中最小值\n",
        "print('找出陣列 arr23 中最小值')\n",
        "print(arr23.min())           \n",
        "print()\n",
        "\n",
        "# 依照維度 0 找出陣列 arr23 中最小值\n",
        "print('依照維度 0 找出陣列 arr23 中最小值')\n",
        "print(np.min(arr23, axis=0)) \n",
        "print()\n",
        "# 依照維度 0 找出陣列 arr23 中最小值\n",
        "print('依照維度 0 找出陣列 arr23 中最小值')\n",
        "print(arr23.min(axis=0))     \n",
        "print()\n",
        "# 依照維度 1 找出陣列 arr23 中最小值\n",
        "print('依照維度 1 找出陣列 arr23 中最小值')\n",
        "print(np.min(arr23, axis=1)) \n",
        "print()\n",
        "# 依照維度 1 找出陣列 arr23 中最小值\n",
        "print('依照維度 1 找出陣列 arr23 中最小值')\n",
        "print(arr23.min(axis=1))     "
      ]
    },
    {
      "cell_type": "code",
      "execution_count": null,
      "metadata": {
        "id": "Yd176ubxNk6D",
        "tags": []
      },
      "outputs": [],
      "source": [
        "# 宣告 ndarray 變數\n",
        "arr24 = np.array([              \n",
        "    [1, 2, 3, 4],\n",
        "    [5, 6, 7, 8],\n",
        "    [9, 10, 11, 12]\n",
        "])\n",
        "\n",
        "# 找出陣列 arr24 中最大值的位置\n",
        "print('找出陣列 arr24 中最大值的位置')\n",
        "print(np.argmax(arr24))         \n",
        "print()\n",
        "# 找出陣列 arr24 中最大值的位置\n",
        "print('找出陣列 arr24 中最大值的位置')\n",
        "print(arr24.argmax())           \n",
        "print()\n",
        "\n",
        "# 依照維度 0 找出陣列 arr24 中最大值的位置\n",
        "print('依照維度 0 找出陣列 arr24 中最大值的位置')\n",
        "print(np.argmax(arr24, axis=0)) \n",
        "print()\n",
        "# 依照維度 0 找出陣列 arr24 中最大值的位置\n",
        "print('依照維度 0 找出陣列 arr24 中最大值的位置')\n",
        "print(arr24.argmax(axis=0))     \n",
        "print()\n",
        "# 依照維度 1 找出陣列 arr24 中最大值的位置\n",
        "print('依照維度 1 找出陣列 arr24 中最大值的位置')\n",
        "print(np.argmax(arr24, axis=1)) \n",
        "print()\n",
        "# 依照維度 1 找出陣列 arr24 中最大值的位置\n",
        "print('依照維度 1 找出陣列 arr24 中最大值的位置')\n",
        "print(arr24.argmax(axis=1))     \n",
        "print()"
      ]
    },
    {
      "cell_type": "code",
      "execution_count": null,
      "metadata": {},
      "outputs": [],
      "source": [
        "# 找出陣列 arr24 中最小值的位置\n",
        "print('找出陣列 arr24 中最小值的位置')\n",
        "print(np.argmin(arr24))         \n",
        "print()\n",
        "# 找出陣列 arr24 中最小值的位置\n",
        "print('找出陣列 arr24 中最小值的位置')\n",
        "print(arr24.argmin())           \n",
        "print()\n",
        "\n",
        "# 依照維度 0 找出陣列 arr24 中最小值的位置\n",
        "print('依照維度 0 找出陣列 arr24 中最小值的位置')\n",
        "print(np.argmin(arr24, axis=0)) \n",
        "print()\n",
        "# 依照維度 0 找出陣列 arr24 中最小值的位置\n",
        "print('依照維度 0 找出陣列 arr24 中最小值的位置')\n",
        "print(arr24.argmin(axis=0))     \n",
        "print()\n",
        "# 依照維度 1 找出陣列 arr24 中最小值的位置\n",
        "print('依照維度 1 找出陣列 arr24 中最小值的位置')\n",
        "print(np.argmin(arr24, axis=1)) \n",
        "print()\n",
        "# 依照維度 1 找出陣列 arr24 中最小值的位置\n",
        "print('依照維度 1 找出陣列 arr24 中最小值的位置')\n",
        "print(arr24.argmin(axis=1))     \n",
        "print()"
      ]
    },
    {
      "cell_type": "code",
      "execution_count": null,
      "metadata": {
        "id": "ISL5CgU8Nk6D"
      },
      "outputs": [],
      "source": [
        "# 宣告 ndarray 變數\n",
        "arr25 = np.array([            \n",
        "    [1, 2, 3, 4],\n",
        "    [5, 6, 7, 8],\n",
        "    [9, 10, 11, 12]\n",
        "])\n",
        "\n",
        "# 計算陣列 arr25 中所有值的平均數\n",
        "print('計算陣列 arr25 中所有值的平均數')\n",
        "print(np.mean(arr25))         \n",
        "# 計算陣列 arr25 中所有值的平均數\n",
        "print(arr25.mean())           \n",
        "print()\n",
        "\n",
        "# 依照維度 0 計算陣列 arr25 中所有值的平均數\n",
        "print('依照維度 0 計算陣列 arr25 中所有值的平均數')\n",
        "print(np.mean(arr25, axis=0)) \n",
        "# 依照維度 0 計算陣列 arr25 中所有值的平均數\n",
        "print(arr25.mean(axis=0))\n",
        "print()     \n",
        "# 依照維度 1 計算陣列 arr25 中所有值的平均數\n",
        "print('依照維度 1 計算陣列 arr25 中所有值的平均數')\n",
        "print(np.mean(arr25, axis=1)) \n",
        "# 依照維度 1 計算陣列 arr25 中所有值的平均數\n",
        "print(arr25.mean(axis=1))     \n",
        "print()\n"
      ]
    },
    {
      "cell_type": "code",
      "execution_count": null,
      "metadata": {},
      "outputs": [],
      "source": [
        "# 計算陣列 arr25 中所有值的變異數\n",
        "print('計算陣列 arr25 中所有值的變異數')\n",
        "print(np.var(arr25))          \n",
        "# 計算陣列 arr25 中所有值的變異數\n",
        "print(arr25.var())            \n",
        "print()                \n",
        "\n",
        "# 依照維度 0 計算陣列 arr25 中所有值的變異數\n",
        "print('依照維度 0 計算陣列 arr25 中所有值的變異數')\n",
        "print(np.var(arr25, axis=0))  \n",
        "# 依照維度 0 計算陣列 arr25 中所有值的變異數\n",
        "print(arr25.var(axis=0))      \n",
        "print()\n",
        "# 依照維度 1 計算陣列 arr25 中所有值的變異數\n",
        "print('依照維度 1 計算陣列 arr25 中所有值的變異數')\n",
        "print(np.var(arr25, axis=1))  \n",
        "# 依照維度 1 計算陣列 arr25 中所有值的變異數\n",
        "print(arr25.var(axis=1))      \n",
        "print()"
      ]
    },
    {
      "cell_type": "code",
      "execution_count": null,
      "metadata": {},
      "outputs": [],
      "source": [
        "# 計算陣列 arr25 中所有值的標準差\n",
        "print('計算陣列 arr25 中所有值的標準差')\n",
        "print(np.std(arr25))          \n",
        "# 計算陣列 arr25 中所有值的標準差\n",
        "print(arr25.std())            \n",
        "print()\n",
        "\n",
        "# 依照維度 0 計算陣列 arr25 中所有值的標準差\n",
        "print('依照維度 0 計算陣列 arr25 中所有值的標準差')\n",
        "print(np.std(arr25, axis=0))  \n",
        "# 依照維度 0 計算陣列 arr25 中所有值的標準差\n",
        "print(arr25.std(axis=0))      \n",
        "print()\n",
        "# 依照維度 1 計算陣列 arr25 中所有值的標準差\n",
        "print('依照維度 1 計算陣列 arr25 中所有值的標準差')\n",
        "print(np.std(arr25, axis=1))  \n",
        "# 依照維度 1 計算陣列 arr25 中所有值的標準差\n",
        "print(arr25.std(axis=1))      "
      ]
    },
    {
      "cell_type": "code",
      "execution_count": null,
      "metadata": {
        "id": "ttxnRMywNk6E"
      },
      "outputs": [],
      "source": [
        "# 宣告 ndarray 變數\n",
        "arr26 = np.array([           \n",
        "    [1, 2, 3]\n",
        "])\n",
        "\n",
        "# 移除陣列 arr26 中多餘的維度\n",
        "arr26_sq = np.squeeze(arr26)\n",
        "\n",
        "# 輸出陣列 arr26\n",
        "print(arr26)\n",
        "# 輸出陣列 arr26 的維度\n",
        "print('輸出陣列 arr26 的維度')\n",
        "print(arr26.shape)\n",
        "print()\n",
        "# 輸出移除維度後的陣列 arr26\n",
        "print(arr26_sq)\n",
        "# 輸出移除維度後陣列 arr26 的維度\n",
        "print('輸出移除維度後陣列 arr26 的維度')\n",
        "print(arr26_sq.shape)"
      ]
    },
    {
      "cell_type": "markdown",
      "metadata": {
        "id": "ZDTsTWBENk6E"
      },
      "source": [
        "### 增維函數（Dimension Increasing Function）\n",
        "\n",
        "以下函數將會使**輸出**陣列維度**大於輸入**陣列維度。\n",
        "\n",
        "|函數|意義|\n",
        "|-|-|\n",
        "|`numpy.concatenate`|串接多個相同維度的陣列|\n",
        "|`numpy.expand_dims`|在指定的維度間增加 1 維度|"
      ]
    },
    {
      "cell_type": "code",
      "execution_count": null,
      "metadata": {
        "id": "P3tmjZJuNk6E"
      },
      "outputs": [],
      "source": [
        "# 增維函數\n",
        "\n",
        "# 宣告 ndarray 變數\n",
        "arr27 = np.array([                       \n",
        "    [1, 2, 3]\n",
        "])\n",
        "\n",
        "# 串接多個陣列 arr27\n",
        "arr27_cat = np.concatenate([             \n",
        "    arr27,\n",
        "    arr27,\n",
        "    arr27,\n",
        "    arr27\n",
        "]) \n",
        "\n",
        "# 輸出串接後的陣列 arr27_cat\n",
        "print('輸出串接後的陣列 arr27_cat')\n",
        "print(arr27_cat)                   \n",
        "print()      \n",
        "# 輸出串接後的陣列 arr27_cat 維度\n",
        "print('輸出串接後的陣列 arr27_cat 維度')\n",
        "print(arr27_cat.shape)                   \n",
        "print()    \n",
        "\n",
        "# 宣告 ndarray 變數\n",
        "arr28 = np.array([                       \n",
        "    [1, 2, 3],\n",
        "    [4, 5, 6]\n",
        "])\n",
        "\n",
        "print('輸出陣列 arr28')\n",
        "print(arr28)\n",
        "print()    \n",
        "print('輸出陣列 arr28 維度')\n",
        "print(arr28.shape)\n",
        "print()    \n",
        "\n",
        "# 對陣列 arr28 維度 0 增加 1 維\n",
        "arr28_ex = np.expand_dims(arr28, axis=0) \n",
        "\n",
        "# 輸出陣列 arr28 維度 0 增加 1 維後的結果\n",
        "print('輸出陣列 arr28 維度 0 增加 1 維後的結果')\n",
        "print(arr28_ex)                          \n",
        "print()\n",
        "# 輸出陣列 arr28 維度 0 增加 1 維後的維度\n",
        "print('輸出陣列 arr28 維度 0 增加 1 維後的維度')\n",
        "print(arr28_ex.shape)                    "
      ]
    },
    {
      "cell_type": "markdown",
      "metadata": {
        "id": "KPMZXJRkNk6E"
      },
      "source": [
        "## 練習\n",
        "\n",
        "### 練習 1：softmax 函數\n",
        "\n",
        "實作 Deep Learning 中常用的機率輸出函數 softmax。\n",
        "\n",
        "若當前任務為 $c$ 分類問題，輸入資料 $D$ 經過神經網路計算後得到的 logits 為 $x \\in R^c$，則分類 $i$ 的 logits $x_i$ 經過 softmax 得到的結果 $p_i$ 為：\n",
        "\n",
        "$$\n",
        "p_i = \\text{softmax}(x_i) = \\frac{e^{x_i}}{\\sum_{j = 1}^c e^{x_j}}\n",
        "$$\n",
        "\n",
        "### 練習 2：Linear Layer + ReLU Activation\n",
        "\n",
        "實作 Deep Learning 中線性神經網路與常用的激發函數（Activation Function）ReLU。\n",
        "\n",
        "令當前神經網路權重（Weight）為 $W \\in R^{d_{out} \\times d_{in}}$，偏差值（Bias）為 $b \\in R^{d_{out}}$。\n",
        "若神經網路輸入值為 $x \\in R^{d_{in}}$，則輸出值 $y \\in R^{d_{out}}$ 為：\n",
        "\n",
        "$$\n",
        "y = \\text{ReLU}(Wx + b) = \\max(0, Wx + b)\n",
        "$$"
      ]
    },
    {
      "cell_type": "code",
      "execution_count": null,
      "metadata": {
        "id": "lnSx3sIHNk6E"
      },
      "outputs": [],
      "source": [
        "# 練習 1 解答\n",
        "\n",
        "# 設定總共類別\n",
        "c = 10                    \n",
        "# 模擬輸出 logits\n",
        "x = np.random.rand(c)     \n",
        "# 計算指數\n",
        "x_exp = np.exp(x)         \n",
        "# 取得 softmax 分母\n",
        "x_exp_sum = np.sum(x_exp) \n",
        "# 定義機率值維度，儲存 softmax 結果\n",
        "p = np.zeros_like(x)      \n",
        "\n",
        "# 對每個維度計算 softmax\n",
        "for i in range(c):        \n",
        "    p[i] = x_exp[i] / x_exp_sum\n",
        "\n",
        "# 輸出 logits\n",
        "print(x)                  \n",
        "# 輸出經過 softmax 後的機率值\n",
        "print(p)                  "
      ]
    },
    {
      "cell_type": "code",
      "execution_count": null,
      "metadata": {
        "id": "psRhlD_QNk6F"
      },
      "outputs": [],
      "source": [
        "# 練習 2 解答\n",
        "\n",
        "# 設定輸入維度\n",
        "d_in = 10                                \n",
        "# 設定輸出維度\n",
        "d_out = 30                               \n",
        "\n",
        "# 模擬神經網路輸入\n",
        "x = np.ones((d_in, 1))                   \n",
        "# 模擬神經網路權重\n",
        "W = np.random.rand(d_out, d_in) * 10 - 5 \n",
        "# 模擬神經網路偏差值\n",
        "b = np.random.rand(d_out, 1) * 10 - 5    \n",
        "\n",
        "h = W.dot(x) + b\n",
        "# 計算 ReLU 得到神經網路輸出\n",
        "y = h * (h > 0)                          \n",
        "\n",
        "# 輸出神經網路輸入\n",
        "print(x)                                 \n",
        "# 輸出神經網路輸出\n",
        "print(y)                                 "
      ]
    }
  ],
  "metadata": {
    "colab": {
      "collapsed_sections": [],
      "name": "numpy-基本功能.ipynb",
      "provenance": []
    },
    "kernelspec": {
      "display_name": "Python 3.10.4 64-bit",
      "language": "python",
      "name": "python3"
    },
    "language_info": {
      "codemirror_mode": {
        "name": "ipython",
        "version": 3
      },
      "file_extension": ".py",
      "mimetype": "text/x-python",
      "name": "python",
      "nbconvert_exporter": "python",
      "pygments_lexer": "ipython3",
      "version": "3.8.16"
    },
    "vscode": {
      "interpreter": {
        "hash": "916dbcbb3f70747c44a77c7bcd40155683ae19c65e1c03b4aa3499c5328201f1"
      }
    }
  },
  "nbformat": 4,
  "nbformat_minor": 0
}
